{
  "nbformat": 4,
  "nbformat_minor": 0,
  "metadata": {
    "colab": {
      "provenance": [],
      "collapsed_sections": [],
      "include_colab_link": true
    },
    "kernelspec": {
      "name": "python3",
      "display_name": "Python 3"
    },
    "accelerator": "GPU",
    "widgets": {
      "application/vnd.jupyter.widget-state+json": {
        "ffbc6e12ee0c49af88090d29cc73e4de": {
          "model_module": "@jupyter-widgets/controls",
          "model_name": "HBoxModel",
          "model_module_version": "1.5.0",
          "state": {
            "_dom_classes": [],
            "_model_module": "@jupyter-widgets/controls",
            "_model_module_version": "1.5.0",
            "_model_name": "HBoxModel",
            "_view_count": null,
            "_view_module": "@jupyter-widgets/controls",
            "_view_module_version": "1.5.0",
            "_view_name": "HBoxView",
            "box_style": "",
            "children": [
              "IPY_MODEL_1c0612ea7af64e32b583b94990a1d254",
              "IPY_MODEL_219c1d6e81634077b2d8c63eb7b9c401",
              "IPY_MODEL_c1451fc1d6e44795a0deae175b10650b"
            ],
            "layout": "IPY_MODEL_9f57fdfb72274b2fa46e20af9882b989"
          }
        },
        "1c0612ea7af64e32b583b94990a1d254": {
          "model_module": "@jupyter-widgets/controls",
          "model_name": "HTMLModel",
          "model_module_version": "1.5.0",
          "state": {
            "_dom_classes": [],
            "_model_module": "@jupyter-widgets/controls",
            "_model_module_version": "1.5.0",
            "_model_name": "HTMLModel",
            "_view_count": null,
            "_view_module": "@jupyter-widgets/controls",
            "_view_module_version": "1.5.0",
            "_view_name": "HTMLView",
            "description": "",
            "description_tooltip": null,
            "layout": "IPY_MODEL_7f39ae33cb6c4825871b1630026cdd10",
            "placeholder": "​",
            "style": "IPY_MODEL_a43f62590cdc43c9b2b45bc1849cbb89",
            "value": "Dl Completed...: 100%"
          }
        },
        "219c1d6e81634077b2d8c63eb7b9c401": {
          "model_module": "@jupyter-widgets/controls",
          "model_name": "FloatProgressModel",
          "model_module_version": "1.5.0",
          "state": {
            "_dom_classes": [],
            "_model_module": "@jupyter-widgets/controls",
            "_model_module_version": "1.5.0",
            "_model_name": "FloatProgressModel",
            "_view_count": null,
            "_view_module": "@jupyter-widgets/controls",
            "_view_module_version": "1.5.0",
            "_view_name": "ProgressView",
            "bar_style": "success",
            "description": "",
            "description_tooltip": null,
            "layout": "IPY_MODEL_f1771e15f9cc4ec19429dd68174b8213",
            "max": 4,
            "min": 0,
            "orientation": "horizontal",
            "style": "IPY_MODEL_4a506c780afa447f8a838630ae9e32c2",
            "value": 4
          }
        },
        "c1451fc1d6e44795a0deae175b10650b": {
          "model_module": "@jupyter-widgets/controls",
          "model_name": "HTMLModel",
          "model_module_version": "1.5.0",
          "state": {
            "_dom_classes": [],
            "_model_module": "@jupyter-widgets/controls",
            "_model_module_version": "1.5.0",
            "_model_name": "HTMLModel",
            "_view_count": null,
            "_view_module": "@jupyter-widgets/controls",
            "_view_module_version": "1.5.0",
            "_view_name": "HTMLView",
            "description": "",
            "description_tooltip": null,
            "layout": "IPY_MODEL_27a36abfdc284474b2f6a4fc9de11192",
            "placeholder": "​",
            "style": "IPY_MODEL_c6aa656f3d514313bcd9a14ee99c9bff",
            "value": " 4/4 [00:02&lt;00:00,  1.29 file/s]"
          }
        },
        "9f57fdfb72274b2fa46e20af9882b989": {
          "model_module": "@jupyter-widgets/base",
          "model_name": "LayoutModel",
          "model_module_version": "1.2.0",
          "state": {
            "_model_module": "@jupyter-widgets/base",
            "_model_module_version": "1.2.0",
            "_model_name": "LayoutModel",
            "_view_count": null,
            "_view_module": "@jupyter-widgets/base",
            "_view_module_version": "1.2.0",
            "_view_name": "LayoutView",
            "align_content": null,
            "align_items": null,
            "align_self": null,
            "border": null,
            "bottom": null,
            "display": null,
            "flex": null,
            "flex_flow": null,
            "grid_area": null,
            "grid_auto_columns": null,
            "grid_auto_flow": null,
            "grid_auto_rows": null,
            "grid_column": null,
            "grid_gap": null,
            "grid_row": null,
            "grid_template_areas": null,
            "grid_template_columns": null,
            "grid_template_rows": null,
            "height": null,
            "justify_content": null,
            "justify_items": null,
            "left": null,
            "margin": null,
            "max_height": null,
            "max_width": null,
            "min_height": null,
            "min_width": null,
            "object_fit": null,
            "object_position": null,
            "order": null,
            "overflow": null,
            "overflow_x": null,
            "overflow_y": null,
            "padding": null,
            "right": null,
            "top": null,
            "visibility": null,
            "width": null
          }
        },
        "7f39ae33cb6c4825871b1630026cdd10": {
          "model_module": "@jupyter-widgets/base",
          "model_name": "LayoutModel",
          "model_module_version": "1.2.0",
          "state": {
            "_model_module": "@jupyter-widgets/base",
            "_model_module_version": "1.2.0",
            "_model_name": "LayoutModel",
            "_view_count": null,
            "_view_module": "@jupyter-widgets/base",
            "_view_module_version": "1.2.0",
            "_view_name": "LayoutView",
            "align_content": null,
            "align_items": null,
            "align_self": null,
            "border": null,
            "bottom": null,
            "display": null,
            "flex": null,
            "flex_flow": null,
            "grid_area": null,
            "grid_auto_columns": null,
            "grid_auto_flow": null,
            "grid_auto_rows": null,
            "grid_column": null,
            "grid_gap": null,
            "grid_row": null,
            "grid_template_areas": null,
            "grid_template_columns": null,
            "grid_template_rows": null,
            "height": null,
            "justify_content": null,
            "justify_items": null,
            "left": null,
            "margin": null,
            "max_height": null,
            "max_width": null,
            "min_height": null,
            "min_width": null,
            "object_fit": null,
            "object_position": null,
            "order": null,
            "overflow": null,
            "overflow_x": null,
            "overflow_y": null,
            "padding": null,
            "right": null,
            "top": null,
            "visibility": null,
            "width": null
          }
        },
        "a43f62590cdc43c9b2b45bc1849cbb89": {
          "model_module": "@jupyter-widgets/controls",
          "model_name": "DescriptionStyleModel",
          "model_module_version": "1.5.0",
          "state": {
            "_model_module": "@jupyter-widgets/controls",
            "_model_module_version": "1.5.0",
            "_model_name": "DescriptionStyleModel",
            "_view_count": null,
            "_view_module": "@jupyter-widgets/base",
            "_view_module_version": "1.2.0",
            "_view_name": "StyleView",
            "description_width": ""
          }
        },
        "f1771e15f9cc4ec19429dd68174b8213": {
          "model_module": "@jupyter-widgets/base",
          "model_name": "LayoutModel",
          "model_module_version": "1.2.0",
          "state": {
            "_model_module": "@jupyter-widgets/base",
            "_model_module_version": "1.2.0",
            "_model_name": "LayoutModel",
            "_view_count": null,
            "_view_module": "@jupyter-widgets/base",
            "_view_module_version": "1.2.0",
            "_view_name": "LayoutView",
            "align_content": null,
            "align_items": null,
            "align_self": null,
            "border": null,
            "bottom": null,
            "display": null,
            "flex": null,
            "flex_flow": null,
            "grid_area": null,
            "grid_auto_columns": null,
            "grid_auto_flow": null,
            "grid_auto_rows": null,
            "grid_column": null,
            "grid_gap": null,
            "grid_row": null,
            "grid_template_areas": null,
            "grid_template_columns": null,
            "grid_template_rows": null,
            "height": null,
            "justify_content": null,
            "justify_items": null,
            "left": null,
            "margin": null,
            "max_height": null,
            "max_width": null,
            "min_height": null,
            "min_width": null,
            "object_fit": null,
            "object_position": null,
            "order": null,
            "overflow": null,
            "overflow_x": null,
            "overflow_y": null,
            "padding": null,
            "right": null,
            "top": null,
            "visibility": null,
            "width": null
          }
        },
        "4a506c780afa447f8a838630ae9e32c2": {
          "model_module": "@jupyter-widgets/controls",
          "model_name": "ProgressStyleModel",
          "model_module_version": "1.5.0",
          "state": {
            "_model_module": "@jupyter-widgets/controls",
            "_model_module_version": "1.5.0",
            "_model_name": "ProgressStyleModel",
            "_view_count": null,
            "_view_module": "@jupyter-widgets/base",
            "_view_module_version": "1.2.0",
            "_view_name": "StyleView",
            "bar_color": null,
            "description_width": ""
          }
        },
        "27a36abfdc284474b2f6a4fc9de11192": {
          "model_module": "@jupyter-widgets/base",
          "model_name": "LayoutModel",
          "model_module_version": "1.2.0",
          "state": {
            "_model_module": "@jupyter-widgets/base",
            "_model_module_version": "1.2.0",
            "_model_name": "LayoutModel",
            "_view_count": null,
            "_view_module": "@jupyter-widgets/base",
            "_view_module_version": "1.2.0",
            "_view_name": "LayoutView",
            "align_content": null,
            "align_items": null,
            "align_self": null,
            "border": null,
            "bottom": null,
            "display": null,
            "flex": null,
            "flex_flow": null,
            "grid_area": null,
            "grid_auto_columns": null,
            "grid_auto_flow": null,
            "grid_auto_rows": null,
            "grid_column": null,
            "grid_gap": null,
            "grid_row": null,
            "grid_template_areas": null,
            "grid_template_columns": null,
            "grid_template_rows": null,
            "height": null,
            "justify_content": null,
            "justify_items": null,
            "left": null,
            "margin": null,
            "max_height": null,
            "max_width": null,
            "min_height": null,
            "min_width": null,
            "object_fit": null,
            "object_position": null,
            "order": null,
            "overflow": null,
            "overflow_x": null,
            "overflow_y": null,
            "padding": null,
            "right": null,
            "top": null,
            "visibility": null,
            "width": null
          }
        },
        "c6aa656f3d514313bcd9a14ee99c9bff": {
          "model_module": "@jupyter-widgets/controls",
          "model_name": "DescriptionStyleModel",
          "model_module_version": "1.5.0",
          "state": {
            "_model_module": "@jupyter-widgets/controls",
            "_model_module_version": "1.5.0",
            "_model_name": "DescriptionStyleModel",
            "_view_count": null,
            "_view_module": "@jupyter-widgets/base",
            "_view_module_version": "1.2.0",
            "_view_name": "StyleView",
            "description_width": ""
          }
        }
      }
    },
    "gpuClass": "standard"
  },
  "cells": [
    {
      "cell_type": "markdown",
      "metadata": {
        "id": "view-in-github",
        "colab_type": "text"
      },
      "source": [
        "<a href=\"https://colab.research.google.com/github/PabloCGarcia/deepLearning/blob/main/Clase04_04.ipynb\" target=\"_parent\"><img src=\"https://colab.research.google.com/assets/colab-badge.svg\" alt=\"Open In Colab\"/></a>"
      ]
    },
    {
      "cell_type": "code",
      "metadata": {
        "id": "oPjwV76HIONY"
      },
      "source": [
        "import numpy as np\n",
        "\n",
        "import tensorflow.compat.v2 as tf\n",
        "tf.enable_v2_behavior()\n",
        "\n",
        "import tensorflow_datasets as tfds\n",
        "import tensorflow_probability as tfp\n",
        "\n",
        "\n",
        "tfk = tf.keras\n",
        "tfkl = tf.keras.layers\n",
        "tfpl = tfp.layers\n",
        "tfd = tfp.distributions"
      ],
      "execution_count": null,
      "outputs": []
    },
    {
      "cell_type": "code",
      "metadata": {
        "id": "dAzOvISct-gi",
        "outputId": "5d2f9eed-6d34-4004-f862-679e33ecfa5e",
        "colab": {
          "base_uri": "https://localhost:8080/"
        }
      },
      "source": [
        "import tensorflow as tf\n",
        "print(\"Tensorflow version \" + tf.__version__)\n",
        "\n",
        "try:\n",
        "  tpu = tf.distribute.cluster_resolver.TPUClusterResolver()  # TPU detection\n",
        "  print('Running on TPU ', tpu.cluster_spec().as_dict()['worker'])\n",
        "except ValueError:\n",
        "  raise BaseException('ERROR: Not connected to a TPU runtime; please see the previous cell in this notebook for instructions!')\n",
        "\n",
        "tf.config.experimental_connect_to_cluster(tpu)\n",
        "tf.tpu.experimental.initialize_tpu_system(tpu)\n",
        "tpu_strategy = tf.distribute.experimental.TPUStrategy(tpu)"
      ],
      "execution_count": null,
      "outputs": [
        {
          "output_type": "stream",
          "name": "stdout",
          "text": [
            "Colab only includes TensorFlow 2.x; %tensorflow_version has no effect.\n",
            "Tensorflow version 2.8.2\n",
            "Running on TPU  ['10.71.117.114:8470']\n"
          ]
        },
        {
          "output_type": "stream",
          "name": "stderr",
          "text": [
            "WARNING:absl:`tf.distribute.experimental.TPUStrategy` is deprecated, please use  the non experimental symbol `tf.distribute.TPUStrategy` instead.\n"
          ]
        }
      ]
    },
    {
      "cell_type": "code",
      "metadata": {
        "id": "RxlLmTrxIg-r",
        "colab": {
          "base_uri": "https://localhost:8080/"
        },
        "outputId": "16e63658-4df0-4229-b763-39e13fa1af20"
      },
      "source": [
        "if tf.test.gpu_device_name() != '/device:GPU:0':\n",
        "  print('WARNING: GPU device not found.')\n",
        "else:\n",
        "  print('SUCCESS: Found GPU: {}'.format(tf.test.gpu_device_name()))"
      ],
      "execution_count": null,
      "outputs": [
        {
          "output_type": "stream",
          "name": "stdout",
          "text": [
            "SUCCESS: Found GPU: /device:GPU:0\n"
          ]
        }
      ]
    },
    {
      "cell_type": "code",
      "metadata": {
        "id": "VwoLpQTCIYk7",
        "colab": {
          "base_uri": "https://localhost:8080/",
          "height": 104,
          "referenced_widgets": [
            "ffbc6e12ee0c49af88090d29cc73e4de",
            "1c0612ea7af64e32b583b94990a1d254",
            "219c1d6e81634077b2d8c63eb7b9c401",
            "c1451fc1d6e44795a0deae175b10650b",
            "9f57fdfb72274b2fa46e20af9882b989",
            "7f39ae33cb6c4825871b1630026cdd10",
            "a43f62590cdc43c9b2b45bc1849cbb89",
            "f1771e15f9cc4ec19429dd68174b8213",
            "4a506c780afa447f8a838630ae9e32c2",
            "27a36abfdc284474b2f6a4fc9de11192",
            "c6aa656f3d514313bcd9a14ee99c9bff"
          ]
        },
        "outputId": "63a46170-3bd4-44a9-c410-de61b0894502"
      },
      "source": [
        "datasets, datasets_info = tfds.load(name='mnist',\n",
        "                                    with_info=True,\n",
        "                                    as_supervised=False)\n",
        "\n",
        "def _preprocess(sample):\n",
        "  image = tf.cast(sample['image'], tf.float32) / 255.  # Scale to unit interval.\n",
        "  image = image < tf.random.uniform(tf.shape(image))   # Randomly binarize.\n",
        "  return image, image\n",
        "\n",
        "train_dataset = (datasets['train']\n",
        "                 .map(_preprocess)\n",
        "                 .batch(256)\n",
        "                 .prefetch(tf.data.experimental.AUTOTUNE)\n",
        "                 .shuffle(int(10e3)))\n",
        "eval_dataset = (datasets['test']\n",
        "                .map(_preprocess)\n",
        "                .batch(256)\n",
        "                .prefetch(tf.data.experimental.AUTOTUNE))"
      ],
      "execution_count": null,
      "outputs": [
        {
          "output_type": "stream",
          "name": "stdout",
          "text": [
            "\u001b[1mDownloading and preparing dataset 11.06 MiB (download: 11.06 MiB, generated: 21.00 MiB, total: 32.06 MiB) to ~/tensorflow_datasets/mnist/3.0.1...\u001b[0m\n"
          ]
        },
        {
          "output_type": "display_data",
          "data": {
            "text/plain": [
              "Dl Completed...:   0%|          | 0/4 [00:00<?, ? file/s]"
            ],
            "application/vnd.jupyter.widget-view+json": {
              "version_major": 2,
              "version_minor": 0,
              "model_id": "ffbc6e12ee0c49af88090d29cc73e4de"
            }
          },
          "metadata": {}
        },
        {
          "output_type": "stream",
          "name": "stdout",
          "text": [
            "\u001b[1mDataset mnist downloaded and prepared to ~/tensorflow_datasets/mnist/3.0.1. Subsequent calls will reuse this data.\u001b[0m\n"
          ]
        }
      ]
    },
    {
      "cell_type": "code",
      "metadata": {
        "id": "T3KP_kq_Iws8"
      },
      "source": [
        "input_shape = datasets_info.features['image'].shape\n",
        "encoded_size = 16\n",
        "base_depth = 32"
      ],
      "execution_count": null,
      "outputs": []
    },
    {
      "cell_type": "code",
      "metadata": {
        "id": "D5ju15VkzUsk",
        "colab": {
          "base_uri": "https://localhost:8080/"
        },
        "outputId": "69d4e0b6-7d0f-4b77-fb9b-103ef7302953"
      },
      "source": [
        "input_shape"
      ],
      "execution_count": null,
      "outputs": [
        {
          "output_type": "execute_result",
          "data": {
            "text/plain": [
              "(28, 28, 1)"
            ]
          },
          "metadata": {},
          "execution_count": 7
        }
      ]
    },
    {
      "cell_type": "code",
      "source": [
        "eval_dataset"
      ],
      "metadata": {
        "id": "vjMToUH6dRnB",
        "outputId": "4cf8f005-e27d-478d-9e18-1f1a8a1d960c",
        "colab": {
          "base_uri": "https://localhost:8080/"
        }
      },
      "execution_count": null,
      "outputs": [
        {
          "output_type": "execute_result",
          "data": {
            "text/plain": [
              "<PrefetchDataset element_spec=(TensorSpec(shape=(None, 28, 28, 1), dtype=tf.bool, name=None), TensorSpec(shape=(None, 28, 28, 1), dtype=tf.bool, name=None))>"
            ]
          },
          "metadata": {},
          "execution_count": 8
        }
      ]
    },
    {
      "cell_type": "code",
      "source": [
        "#tf.compat.v1.disable_eager_execution()\n",
        "#tf.compat.v1.disable_v2_behavior()"
      ],
      "metadata": {
        "id": "mWh89Eqpam6W"
      },
      "execution_count": null,
      "outputs": []
    },
    {
      "cell_type": "code",
      "metadata": {
        "id": "F7nHhZXFHFHv"
      },
      "source": [
        "prior = tfd.Independent(tfd.Normal(loc=tf.zeros(encoded_size), scale=1),\n",
        "                        reinterpreted_batch_ndims=1)"
      ],
      "execution_count": null,
      "outputs": []
    },
    {
      "cell_type": "code",
      "metadata": {
        "id": "21C2TEV1HRDJ"
      },
      "source": [
        "encoder = tfk.Sequential([\n",
        "    tfkl.InputLayer(input_shape=input_shape),\n",
        "    tfkl.Lambda(lambda x: tf.cast(x, tf.float32) - 0.5),\n",
        "    tfkl.Conv2D(base_depth, 5, strides=1,\n",
        "                padding='same', activation=tf.nn.leaky_relu),\n",
        "    tfkl.Conv2D(base_depth, 5, strides=2,\n",
        "                padding='same', activation=tf.nn.leaky_relu),\n",
        "    tfkl.Conv2D(2 * base_depth, 5, strides=1,\n",
        "                padding='same', activation=tf.nn.leaky_relu),\n",
        "    tfkl.Conv2D(2 * base_depth, 5, strides=2,\n",
        "                padding='same', activation=tf.nn.leaky_relu),\n",
        "    tfkl.Conv2D(4 * encoded_size, 7, strides=1,\n",
        "                padding='valid', activation=tf.nn.leaky_relu),\n",
        "    tfkl.Flatten(),\n",
        "    tfkl.Dense(tfpl.MultivariateNormalTriL.params_size(encoded_size),\n",
        "               activation=None),\n",
        "    tfpl.MultivariateNormalTriL(\n",
        "        encoded_size,\n",
        "        activity_regularizer=tfpl.KLDivergenceRegularizer(prior)),\n",
        "])"
      ],
      "execution_count": null,
      "outputs": []
    },
    {
      "cell_type": "code",
      "metadata": {
        "id": "5lGT0UKWHUJe"
      },
      "source": [
        "decoder = tfk.Sequential([\n",
        "    tfkl.InputLayer(input_shape=[encoded_size]),\n",
        "    tfkl.Reshape([1, 1, encoded_size]),\n",
        "    tfkl.Conv2DTranspose(2 * base_depth, 7, strides=1,\n",
        "                         padding='valid', activation=tf.nn.leaky_relu),\n",
        "    tfkl.Conv2DTranspose(2 * base_depth, 5, strides=1,\n",
        "                         padding='same', activation=tf.nn.leaky_relu),\n",
        "    tfkl.Conv2DTranspose(2 * base_depth, 5, strides=2,\n",
        "                         padding='same', activation=tf.nn.leaky_relu),\n",
        "    tfkl.Conv2DTranspose(base_depth, 5, strides=1,\n",
        "                         padding='same', activation=tf.nn.leaky_relu),\n",
        "    tfkl.Conv2DTranspose(base_depth, 5, strides=2,\n",
        "                         padding='same', activation=tf.nn.leaky_relu),\n",
        "    tfkl.Conv2DTranspose(base_depth, 5, strides=1,\n",
        "                         padding='same', activation=tf.nn.leaky_relu),\n",
        "    tfkl.Conv2D(filters=1, kernel_size=5, strides=1,\n",
        "                padding='same', activation=None),\n",
        "    tfkl.Flatten(),\n",
        "    tfpl.IndependentBernoulli(input_shape, tfd.Bernoulli.logits),\n",
        "])"
      ],
      "execution_count": null,
      "outputs": []
    },
    {
      "cell_type": "code",
      "metadata": {
        "id": "gy-URZwHHXA1"
      },
      "source": [
        "vae = tfk.Model(inputs=encoder.inputs,\n",
        "                outputs=decoder(encoder.outputs[0]))"
      ],
      "execution_count": null,
      "outputs": []
    },
    {
      "cell_type": "markdown",
      "metadata": {
        "id": "ppqpJwH0cbw4"
      },
      "source": [
        "Opciones para correr tensorboard"
      ]
    },
    {
      "cell_type": "code",
      "metadata": {
        "id": "2-tMHVAkHafh",
        "colab": {
          "base_uri": "https://localhost:8080/"
        },
        "outputId": "dd9084e5-3bce-4535-a0a1-aa105924e04b"
      },
      "source": [
        "negloglik = lambda x, rv_x: -rv_x.log_prob(x)\n",
        "\n",
        "vae.compile(optimizer=tf.optimizers.Adam(learning_rate=5e-3),\n",
        "            loss=negloglik)\n",
        "\n",
        "_ = vae.fit(train_dataset,\n",
        "            epochs=40,\n",
        "            validation_data=eval_dataset)"
      ],
      "execution_count": null,
      "outputs": [
        {
          "output_type": "stream",
          "name": "stdout",
          "text": [
            "Epoch 1/40\n",
            "235/235 [==============================] - 11s 25ms/step - loss: 2243.6934 - val_loss: 216.7571\n",
            "Epoch 2/40\n",
            "235/235 [==============================] - 8s 22ms/step - loss: 205.6474 - val_loss: 196.9357\n",
            "Epoch 3/40\n",
            "235/235 [==============================] - 8s 22ms/step - loss: 189.6681 - val_loss: 181.9539\n",
            "Epoch 4/40\n",
            "235/235 [==============================] - 8s 22ms/step - loss: 175.9547 - val_loss: 169.0154\n",
            "Epoch 5/40\n",
            "235/235 [==============================] - 8s 22ms/step - loss: 165.4174 - val_loss: 161.7558\n",
            "Epoch 6/40\n",
            "235/235 [==============================] - 8s 22ms/step - loss: 158.9001 - val_loss: 155.0789\n",
            "Epoch 7/40\n",
            "235/235 [==============================] - 8s 22ms/step - loss: 153.5576 - val_loss: 150.7404\n",
            "Epoch 8/40\n",
            "235/235 [==============================] - 8s 23ms/step - loss: 149.6523 - val_loss: 147.0393\n",
            "Epoch 9/40\n",
            "235/235 [==============================] - 8s 22ms/step - loss: 146.2097 - val_loss: 143.8779\n",
            "Epoch 10/40\n",
            "235/235 [==============================] - 8s 22ms/step - loss: 143.3660 - val_loss: 141.3361\n",
            "Epoch 11/40\n",
            "235/235 [==============================] - 8s 22ms/step - loss: 140.4225 - val_loss: 137.9571\n",
            "Epoch 12/40\n",
            "235/235 [==============================] - 8s 22ms/step - loss: 137.8889 - val_loss: 135.4338\n",
            "Epoch 13/40\n",
            "235/235 [==============================] - 8s 22ms/step - loss: 135.6857 - val_loss: 135.0457\n",
            "Epoch 14/40\n",
            "235/235 [==============================] - 8s 22ms/step - loss: 134.2618 - val_loss: 132.6143\n",
            "Epoch 15/40\n",
            "235/235 [==============================] - 8s 22ms/step - loss: 132.6550 - val_loss: 131.5820\n",
            "Epoch 16/40\n",
            "235/235 [==============================] - 8s 22ms/step - loss: 131.4501 - val_loss: 130.3394\n",
            "Epoch 17/40\n",
            "235/235 [==============================] - 8s 22ms/step - loss: 129.8592 - val_loss: 128.1866\n",
            "Epoch 18/40\n",
            "235/235 [==============================] - 8s 22ms/step - loss: 128.8949 - val_loss: 128.2614\n",
            "Epoch 19/40\n",
            "235/235 [==============================] - 8s 22ms/step - loss: 127.8409 - val_loss: 125.8185\n",
            "Epoch 20/40\n",
            "235/235 [==============================] - 8s 22ms/step - loss: 126.8760 - val_loss: 125.1420\n",
            "Epoch 21/40\n",
            "235/235 [==============================] - 8s 22ms/step - loss: 126.0729 - val_loss: 124.5006\n",
            "Epoch 22/40\n",
            "235/235 [==============================] - 8s 23ms/step - loss: 125.4066 - val_loss: 123.9296\n",
            "Epoch 23/40\n",
            "235/235 [==============================] - 8s 22ms/step - loss: 125.0043 - val_loss: 123.9271\n",
            "Epoch 24/40\n",
            "235/235 [==============================] - 8s 22ms/step - loss: 124.4502 - val_loss: 123.4345\n",
            "Epoch 25/40\n",
            "235/235 [==============================] - 8s 22ms/step - loss: 124.0631 - val_loss: 122.4547\n",
            "Epoch 26/40\n",
            "235/235 [==============================] - 8s 22ms/step - loss: 123.5299 - val_loss: 122.3739\n",
            "Epoch 27/40\n",
            "235/235 [==============================] - 8s 22ms/step - loss: 122.9757 - val_loss: 122.4188\n",
            "Epoch 28/40\n",
            "235/235 [==============================] - 8s 22ms/step - loss: 122.8051 - val_loss: 121.6455\n",
            "Epoch 29/40\n",
            "235/235 [==============================] - 8s 22ms/step - loss: 122.3012 - val_loss: 121.1466\n",
            "Epoch 30/40\n",
            "235/235 [==============================] - 8s 23ms/step - loss: 121.9662 - val_loss: 120.3994\n",
            "Epoch 31/40\n",
            "235/235 [==============================] - 8s 22ms/step - loss: 121.5694 - val_loss: 120.5508\n",
            "Epoch 32/40\n",
            "235/235 [==============================] - 8s 22ms/step - loss: 121.4447 - val_loss: 121.0860\n",
            "Epoch 33/40\n",
            "235/235 [==============================] - 8s 22ms/step - loss: 121.2281 - val_loss: 120.3415\n",
            "Epoch 34/40\n",
            "235/235 [==============================] - 8s 22ms/step - loss: 120.8726 - val_loss: 119.9875\n",
            "Epoch 35/40\n",
            "235/235 [==============================] - 8s 22ms/step - loss: 120.8335 - val_loss: 119.9982\n",
            "Epoch 36/40\n",
            "235/235 [==============================] - 8s 22ms/step - loss: 120.6339 - val_loss: 121.4017\n",
            "Epoch 37/40\n",
            "235/235 [==============================] - 8s 23ms/step - loss: 120.1168 - val_loss: 120.0651\n",
            "Epoch 38/40\n",
            "235/235 [==============================] - 8s 23ms/step - loss: 120.1829 - val_loss: 119.1988\n",
            "Epoch 39/40\n",
            "235/235 [==============================] - 8s 23ms/step - loss: 119.9918 - val_loss: 120.5787\n",
            "Epoch 40/40\n",
            "235/235 [==============================] - 8s 23ms/step - loss: 120.0611 - val_loss: 119.0304\n"
          ]
        }
      ]
    },
    {
      "cell_type": "code",
      "metadata": {
        "id": "DhOJCsOkHdtJ"
      },
      "source": [
        "# We'll just examine ten random digits.\n",
        "x = next(iter(eval_dataset))[0][:10]\n",
        "xhat = vae(x)\n",
        "#assert isinstance(xhat, tfd.Distribution)"
      ],
      "execution_count": null,
      "outputs": []
    },
    {
      "cell_type": "code",
      "metadata": {
        "id": "6CY5gvDkJOn2"
      },
      "source": [
        "import matplotlib.pyplot as plt\n",
        "\n",
        "def display_imgs(x, y=None):\n",
        "  if not isinstance(x, (np.ndarray, np.generic)):\n",
        "    x = np.array(x)\n",
        "  plt.ioff()\n",
        "  n = x.shape[0]\n",
        "  fig, axs = plt.subplots(1, n, figsize=(n, 1))\n",
        "  if y is not None:\n",
        "    fig.suptitle(np.argmax(y, axis=1))\n",
        "  for i in range(n):\n",
        "    axs.flat[i].imshow(x[i].squeeze(), interpolation='none', cmap='gray')\n",
        "    axs.flat[i].axis('off')\n",
        "  plt.show()\n",
        "  plt.close()\n",
        "  plt.ion()"
      ],
      "execution_count": null,
      "outputs": []
    },
    {
      "cell_type": "code",
      "metadata": {
        "id": "_ABFvQ6yHgaM",
        "outputId": "cd2b7d66-abd7-41be-d695-bd567a20ca72",
        "colab": {
          "base_uri": "https://localhost:8080/",
          "height": 330
        }
      },
      "source": [
        "print('Originals:')\n",
        "display_imgs(x)\n",
        "\n",
        "print('Decoded Random Samples:')\n",
        "display_imgs(xhat.sample())\n",
        "\n",
        "print('Decoded Modes:')\n",
        "display_imgs(xhat.mode())\n",
        "\n",
        "print('Decoded Means:')\n",
        "display_imgs(xhat.mean())"
      ],
      "execution_count": null,
      "outputs": [
        {
          "output_type": "stream",
          "name": "stdout",
          "text": [
            "Originals:\n"
          ]
        },
        {
          "output_type": "display_data",
          "data": {
            "text/plain": [
              "<Figure size 720x72 with 10 Axes>"
            ],
            "image/png": "[encoded data removed]"
          },
          "metadata": {
            "needs_background": "light"
          }
        },
        {
          "output_type": "stream",
          "name": "stdout",
          "text": [
            "Decoded Random Samples:\n"
          ]
        },
        {
          "output_type": "display_data",
          "data": {
            "text/plain": [
              "<Figure size 720x72 with 10 Axes>"
            ],
            "image/png": "[encoded data removed]"
          },
          "metadata": {
            "needs_background": "light"
          }
        },
        {
          "output_type": "stream",
          "name": "stdout",
          "text": [
            "Decoded Modes:\n"
          ]
        },
        {
          "output_type": "display_data",
          "data": {
            "text/plain": [
              "<Figure size 720x72 with 10 Axes>"
            ],
            "image/png": "[encoded data removed]"
          },
          "metadata": {
            "needs_background": "light"
          }
        },
        {
          "output_type": "stream",
          "name": "stdout",
          "text": [
            "Decoded Means:\n"
          ]
        },
        {
          "output_type": "display_data",
          "data": {
            "text/plain": [
              "<Figure size 720x72 with 10 Axes>"
            ],
            "image/png": "[encoded data removed]"
          },
          "metadata": {
            "needs_background": "light"
          }
        }
      ]
    },
    {
      "cell_type": "code",
      "metadata": {
        "id": "XtY--zuhJUOw"
      },
      "source": [
        "# Now, let's generate ten never-before-seen digits.\n",
        "z = prior.sample(10)\n",
        "xtilde = decoder(z)\n",
        "#assert isinstance(xtilde, tfd.Distribution)"
      ],
      "execution_count": null,
      "outputs": []
    },
    {
      "cell_type": "code",
      "metadata": {
        "id": "ThxeU5MpJWSv",
        "outputId": "600b06cd-7e2d-4405-e6a0-9a855a4dc19a",
        "colab": {
          "base_uri": "https://localhost:8080/",
          "height": 252
        }
      },
      "source": [
        "print('Randomly Generated Samples:')\n",
        "display_imgs(xtilde.sample())\n",
        "\n",
        "print('Randomly Generated Modes:')\n",
        "display_imgs(xtilde.mode())\n",
        "\n",
        "print('Randomly Generated Means:')\n",
        "display_imgs(xtilde.mean())"
      ],
      "execution_count": null,
      "outputs": [
        {
          "output_type": "stream",
          "name": "stdout",
          "text": [
            "Randomly Generated Samples:\n"
          ]
        },
        {
          "output_type": "display_data",
          "data": {
            "text/plain": [
              "<Figure size 720x72 with 10 Axes>"
            ],
            "image/png": "[encoded data removed]"
          },
          "metadata": {
            "needs_background": "light"
          }
        },
        {
          "output_type": "stream",
          "name": "stdout",
          "text": [
            "Randomly Generated Modes:\n"
          ]
        },
        {
          "output_type": "display_data",
          "data": {
            "text/plain": [
              "<Figure size 720x72 with 10 Axes>"
            ],
            "image/png": "[encoded data removed]"
          },
          "metadata": {
            "needs_background": "light"
          }
        },
        {
          "output_type": "stream",
          "name": "stdout",
          "text": [
            "Randomly Generated Means:\n"
          ]
        },
        {
          "output_type": "display_data",
          "data": {
            "text/plain": [
              "<Figure size 720x72 with 10 Axes>"
            ],
            "image/png": "[encoded data removed]"
          },
          "metadata": {
            "needs_background": "light"
          }
        }
      ]
    }
  ]
}