{
  "nbformat": 4,
  "nbformat_minor": 0,
  "metadata": {
    "accelerator": "GPU",
    "colab": {
      "provenance": [],
      "collapsed_sections": [],
      "authorship_tag": "ABX9TyPefkYsg2r66Q14xqSvICrV",
      "include_colab_link": true
    },
    "kernelspec": {
      "display_name": "Python 3",
      "name": "python3"
    }
  },
  "cells": [
    {
      "cell_type": "markdown",
      "metadata": {
        "id": "view-in-github",
        "colab_type": "text"
      },
      "source": [
        "<a href=\"https://colab.research.google.com/github/PabloCGarcia/deepLearning/blob/main/Clase04_01.ipynb\" target=\"_parent\"><img src=\"https://colab.research.google.com/assets/colab-badge.svg\" alt=\"Open In Colab\"/></a>"
      ]
    },
    {
      "cell_type": "code",
      "metadata": {
        "colab": {
          "base_uri": "https://localhost:8080/"
        },
        "id": "hvi-YXjEs7Af",
        "outputId": "58014b24-634f-4aa4-8a76-00cc3d475f01"
      },
      "source": [
        "!pip install -q condacolab\n",
        "import condacolab\n",
        "condacolab.install()\n",
        "!/root/miniconda/bin/conda info -e"
      ],
      "execution_count": null,
      "outputs": [
        {
          "name": "stdout",
          "output_type": "stream",
          "text": [
            "⏬ Downloading https://github.com/jaimergp/miniforge/releases/latest/download/Mambaforge-colab-Linux-x86_64.sh...\n",
            "📦 Installing...\n",
            "📌 Adjusting configuration...\n",
            "🩹 Patching environment...\n",
            "⏲ Done in 0:00:36\n",
            "🔁 Restarting kernel...\n",
            "# conda environments:\n",
            "#\n",
            "base                  *  /root/miniconda\n",
            "                         /usr/local\n",
            "\n"
          ]
        }
      ]
    },
    {
      "cell_type": "code",
      "metadata": {
        "colab": {
          "base_uri": "https://localhost:8080/",
          "height": 1000
        },
        "id": "6FYgLMk4_f3J",
        "outputId": "ba2d17a4-dace-44bb-e955-79027dcf6066"
      },
      "source": [
        "!conda install -y -c conda-forge rdkit deepchem selfies mlflow \n",
        "import deepchem\n",
        "deepchem.__version__"
      ],
      "execution_count": null,
      "outputs": [
        {
          "name": "stdout",
          "output_type": "stream",
          "text": [
            "Collecting package metadata (current_repodata.json): - \b\b\\ \b\b| \b\b/ \b\b- \b\b\\ \b\b| \b\b/ \b\b- \b\b\\ \b\b| \b\b/ \b\b- \b\b\\ \b\b| \b\b/ \b\b- \b\b\\ \b\b| \b\b/ \b\b- \b\b\\ \b\b| \b\b/ \b\b- \b\b\\ \b\b| \b\b/ \b\b- \b\b\\ \b\b| \b\b/ \b\b- \b\b\\ \b\b| \b\b/ \b\b- \b\b\\ \b\b| \b\b/ \b\b- \b\b\\ \b\b| \b\b/ \b\b- \b\b\\ \b\b| \b\b/ \b\b- \b\b\\ \b\b| \b\b/ \b\b- \b\b\\ \b\b| \b\b/ \b\b- \b\b\\ \b\b| \b\b/ \b\b- \b\b\\ \b\b| \b\b/ \b\b- \b\b\\ \b\b| \b\b/ \b\b- \b\b\\ \b\b| \b\b/ \b\b- \b\b\\ \b\b| \b\b/ \b\b- \b\b\\ \b\b| \b\b/ \b\b- \b\b\\ \b\b| \b\b/ \b\b- \b\b\\ \b\b| \b\b/ \b\b- \b\b\\ \b\b| \b\b/ \b\b- \b\b\\ \b\b| \b\b/ \b\b- \b\b\\ \b\b| \b\b/ \b\b- \b\b\\ \b\b| \b\b/ \b\b- \b\b\\ \b\b| \b\b/ \b\b- \b\b\\ \b\b| \b\b/ \b\b- \b\b\\ \b\b| \b\bdone\n",
            "Solving environment: - \b\b\\ \b\b| \b\b/ \b\b- \b\b\\ \b\b| \b\b/ \b\b- \b\b\\ \b\b| \b\b/ \b\b- \b\b\\ \b\b| \b\b/ \b\b- \b\b\\ \b\b| \b\b/ \b\b- \b\b\\ \b\b| \b\b/ \b\b- \b\b\\ \b\b| \b\b/ \b\b- \b\b\\ \b\b| \b\b/ \b\b- \b\b\\ \b\b| \b\b/ \b\b- \b\b\\ \b\b| \b\b/ \b\b- \b\b\\ \b\b| \b\b/ \b\b- \b\b\\ \b\b| \b\b/ \b\b- \b\b\\ \b\b| \b\b/ \b\b- \b\b\\ \b\b| \b\b/ \b\b- \b\b\\ \b\b| \b\b/ \b\b- \b\b\\ \b\b| \b\b/ \b\b- \b\b\\ \b\b| \b\b/ \b\b- \b\b\\ \b\b| \b\b/ \b\b- \b\b\\ \b\b| \b\b/ \b\b- \b\b\\ \b\b| \b\b/ \b\b- \b\b\\ \b\b| \b\b/ \b\b- \b\b\\ \b\b| \b\b/ \b\b- \b\b\\ \b\b| \b\b/ \b\b- \b\b\\ \b\b| \b\b/ \b\b- \b\b\\ \b\b| \b\b/ \b\b- \b\b\\ \b\b| \b\b/ \b\b- \b\b\\ \b\b| \b\b/ \b\b- \b\b\\ \b\b| \b\b/ \b\b- \b\b\\ \b\b| \b\b/ \b\b- \b\b\\ \b\b| \b\b/ \b\b- \b\b\\ \b\b| \b\b/ \b\b- \b\b\\ \b\b| \b\b/ \b\b- \b\b\\ \b\b| \b\b/ \b\b- \b\b\\ \b\b| \b\b/ \b\b- \b\b\\ \b\b| \b\b/ \b\b- \b\b\\ \b\b| \b\b/ \b\b- \b\b\\ \b\b| \b\b/ \b\b- \b\b\\ \b\b| \b\b/ \b\b- \b\b\\ \b\b| \b\b/ \b\bdone\n",
            "\n",
            "## Package Plan ##\n",
            "\n",
            "  environment location: /usr/local\n",
            "\n",
            "  added / updated specs:\n",
            "    - deepchem\n",
            "    - mlflow\n",
            "    - rdkit\n",
            "    - selfies\n",
            "\n",
            "\n",
            "The following packages will be downloaded:\n",
            "\n",
            "    package                    |            build\n",
            "    ---------------------------|-----------------\n",
            "    alembic-1.0.9              |           py37_0         234 KB\n",
            "    appdirs-1.4.4              |     pyh9f0ad1d_0          13 KB  conda-forge\n",
            "    asn1crypto-1.4.0           |     pyh9f0ad1d_0          78 KB  conda-forge\n",
            "    boost-1.74.0               |   py37h6dcda5c_3         342 KB  conda-forge\n",
            "    boost-cpp-1.74.0           |       hc6e9bd1_3        16.3 MB  conda-forge\n",
            "    ca-certificates-2021.5.30  |       ha878542_0         136 KB  conda-forge\n",
            "    cairo-1.16.0               |    h6cf1ce9_1008         1.5 MB  conda-forge\n",
            "    certifi-2021.5.30          |   py37h89c1867_0         141 KB  conda-forge\n",
            "    click-8.0.1                |   py37h89c1867_0         145 KB  conda-forge\n",
            "    cloudpickle-2.0.0          |     pyhd8ed1ab_0          24 KB  conda-forge\n",
            "    conda-4.10.3               |   py37h89c1867_1         3.0 MB  conda-forge\n",
            "    configparser-5.0.2         |     pyhd8ed1ab_0          21 KB  conda-forge\n",
            "    cudatoolkit-11.1.1         |       h6406543_8        1.20 GB  conda-forge\n",
            "    cycler-0.10.0              |             py_2           9 KB  conda-forge\n",
            "    databricks-cli-0.12.1      |     pyhd8ed1ab_0          56 KB  conda-forge\n",
            "    dataclasses-0.8            |     pyhc8e2a94_3          10 KB  conda-forge\n",
            "    deepchem-2.5.0             |     pyhd8ed1ab_0         367 KB  conda-forge\n",
            "    docker-py-5.0.2            |   py37h89c1867_0         179 KB  conda-forge\n",
            "    docker-pycreds-0.4.0       |             py_0          11 KB  conda-forge\n",
            "    entrypoints-0.3            |  pyhd8ed1ab_1003           8 KB  conda-forge\n",
            "    flask-2.0.1                |     pyhd8ed1ab_0          70 KB  conda-forge\n",
            "    fontconfig-2.13.1          |    hba837de_1005         357 KB  conda-forge\n",
            "    freetype-2.10.4            |       h0708190_1         890 KB  conda-forge\n",
            "    gettext-0.19.8.1           |    h0b5b191_1005         3.6 MB  conda-forge\n",
            "    gitdb-4.0.7                |     pyhd8ed1ab_0          46 KB  conda-forge\n",
            "    gitpython-3.1.23           |     pyhd8ed1ab_1         122 KB  conda-forge\n",
            "    greenlet-1.1.1             |   py37hcd2ae1e_0          83 KB  conda-forge\n",
            "    gunicorn-20.1.0            |   py37h89c1867_0         118 KB  conda-forge\n",
            "    importlib-metadata-4.8.1   |   py37h89c1867_0          32 KB  conda-forge\n",
            "    itsdangerous-2.0.1         |     pyhd8ed1ab_0          17 KB  conda-forge\n",
            "    jinja2-3.0.1               |     pyhd8ed1ab_0          99 KB  conda-forge\n",
            "    joblib-1.0.1               |     pyhd8ed1ab_0         206 KB  conda-forge\n",
            "    jpeg-9d                    |       h36c2ea0_0         264 KB  conda-forge\n",
            "    kiwisolver-1.3.2           |   py37h2527ec5_0          78 KB  conda-forge\n",
            "    libblas-3.9.0              |11_linux64_openblas          12 KB  conda-forge\n",
            "    libcblas-3.9.0             |11_linux64_openblas          11 KB  conda-forge\n",
            "    libgcc-ng-11.2.0           |       h1d223b6_8         892 KB  conda-forge\n",
            "    libgfortran-ng-11.2.0      |       h69a702a_8          19 KB  conda-forge\n",
            "    libgfortran5-11.2.0        |       h5c6108e_8         1.7 MB  conda-forge\n",
            "    libglib-2.68.4             |       h3e27bee_0         3.0 MB  conda-forge\n",
            "    libgomp-11.2.0             |       h1d223b6_8         428 KB  conda-forge\n",
            "    liblapack-3.9.0            |11_linux64_openblas          11 KB  conda-forge\n",
            "    libopenblas-0.3.17         |pthreads_h8fe5266_1         9.2 MB  conda-forge\n",
            "    libpng-1.6.37              |       h21135ba_2         306 KB  conda-forge\n",
            "    libprotobuf-3.18.0         |       h780b84a_0         2.6 MB  conda-forge\n",
            "    libstdcxx-ng-11.2.0        |       he4da1e4_8         4.2 MB  conda-forge\n",
            "    libtiff-4.0.10             |    hc3755c2_1005         602 KB  conda-forge\n",
            "    libuuid-2.32.1             |    h7f98852_1000          28 KB  conda-forge\n",
            "    libxcb-1.13                |    h7f98852_1003         395 KB  conda-forge\n",
            "    mako-1.1.5                 |     pyhd8ed1ab_0          58 KB  conda-forge\n",
            "    markupsafe-2.0.1           |   py37h5e8e339_0          22 KB  conda-forge\n",
            "    matplotlib-base-3.4.3      |   py37h1058ff1_0         7.2 MB  conda-forge\n",
            "    mlflow-1.20.2              |   py37h02d9ccd_0         4.5 MB  conda-forge\n",
            "    numpy-1.21.2               |   py37h31617e3_0         6.1 MB  conda-forge\n",
            "    olefile-0.46               |     pyh9f0ad1d_1          32 KB  conda-forge\n",
            "    openssl-1.1.1l             |       h7f98852_0         2.1 MB  conda-forge\n",
            "    packaging-21.0             |     pyhd8ed1ab_0          35 KB  conda-forge\n",
            "    pandas-1.3.3               |   py37he8f5f7f_0        12.7 MB  conda-forge\n",
            "    pcre-8.45                  |       h9c3ff4c_0         253 KB  conda-forge\n",
            "    pillow-6.2.1               |   py37h6b7be26_0         637 KB  conda-forge\n",
            "    pixman-0.40.0              |       h36c2ea0_0         627 KB  conda-forge\n",
            "    prometheus_client-0.11.0   |     pyhd8ed1ab_0          46 KB  conda-forge\n",
            "    prometheus_flask_exporter-0.18.2|     pyhd8ed1ab_0          18 KB  conda-forge\n",
            "    protobuf-3.18.0            |   py37hcd2ae1e_0         341 KB  conda-forge\n",
            "    pthread-stubs-0.4          |    h36c2ea0_1001           5 KB  conda-forge\n",
            "    pycairo-1.20.1             |   py37hfff247e_0          77 KB  conda-forge\n",
            "    pyparsing-2.4.7            |     pyh9f0ad1d_0          60 KB  conda-forge\n",
            "    python-dateutil-2.8.2      |     pyhd8ed1ab_0         240 KB  conda-forge\n",
            "    python-editor-1.0.4        |             py_0           9 KB  conda-forge\n",
            "    python_abi-3.7             |          2_cp37m           4 KB  conda-forge\n",
            "    pytz-2021.1                |     pyhd8ed1ab_0         239 KB  conda-forge\n",
            "    pyyaml-5.4.1               |   py37h5e8e339_1         193 KB  conda-forge\n",
            "    querystring_parser-1.2.4   |             py_0          10 KB  conda-forge\n",
            "    rdkit-2021.03.5            |   py37h13c2175_0        38.2 MB  conda-forge\n",
            "    reportlab-3.5.68           |   py37h69800bb_0         2.4 MB  conda-forge\n",
            "    scikit-learn-0.24.2        |   py37hf0f1638_1         7.5 MB  conda-forge\n",
            "    scipy-1.7.1                |   py37hf2a6cf1_0        21.7 MB  conda-forge\n",
            "    selfies-1.0.4              |     pyhd8ed1ab_0          29 KB  conda-forge\n",
            "    smmap-3.0.5                |     pyh44b312d_0          22 KB  conda-forge\n",
            "    sqlalchemy-1.4.23          |   py37h5e8e339_0         2.3 MB  conda-forge\n",
            "    sqlparse-0.4.2             |     pyhd8ed1ab_0          34 KB  conda-forge\n",
            "    tabulate-0.8.9             |     pyhd8ed1ab_0          26 KB  conda-forge\n",
            "    tenacity-8.0.1             |     pyhd8ed1ab_0          21 KB  conda-forge\n",
            "    threadpoolctl-2.2.0        |     pyh8a188c0_0          16 KB  conda-forge\n",
            "    tornado-6.1                |   py37h5e8e339_1         646 KB  conda-forge\n",
            "    typing_extensions-3.10.0.0 |     pyha770c72_0          28 KB  conda-forge\n",
            "    websocket-client-0.57.0    |   py37h89c1867_4          59 KB  conda-forge\n",
            "    werkzeug-2.0.1             |     pyhd8ed1ab_0         219 KB  conda-forge\n",
            "    xorg-kbproto-1.0.7         |    h7f98852_1002          27 KB  conda-forge\n",
            "    xorg-libice-1.0.10         |       h7f98852_0          58 KB  conda-forge\n",
            "    xorg-libsm-1.2.3           |    hd9c2040_1000          26 KB  conda-forge\n",
            "    xorg-libx11-1.7.2          |       h7f98852_0         941 KB  conda-forge\n",
            "    xorg-libxau-1.0.9          |       h7f98852_0          13 KB  conda-forge\n",
            "    xorg-libxdmcp-1.1.3        |       h7f98852_0          19 KB  conda-forge\n",
            "    xorg-libxext-1.3.4         |       h7f98852_1          54 KB  conda-forge\n",
            "    xorg-libxrender-0.9.10     |    h7f98852_1003          32 KB  conda-forge\n",
            "    xorg-renderproto-0.11.1    |    h7f98852_1002           9 KB  conda-forge\n",
            "    xorg-xextproto-7.3.0       |    h7f98852_1002          28 KB  conda-forge\n",
            "    xorg-xproto-7.0.31         |    h7f98852_1007          73 KB  conda-forge\n",
            "    zipp-3.5.0                 |     pyhd8ed1ab_0          12 KB  conda-forge\n",
            "    ------------------------------------------------------------\n",
            "                                           Total:        1.36 GB\n",
            "\n",
            "The following NEW packages will be INSTALLED:\n",
            "\n",
            "  alembic            pkgs/main/linux-64::alembic-1.0.9-py37_0\n",
            "  appdirs            conda-forge/noarch::appdirs-1.4.4-pyh9f0ad1d_0\n",
            "  asn1crypto         conda-forge/noarch::asn1crypto-1.4.0-pyh9f0ad1d_0\n",
            "  boost              conda-forge/linux-64::boost-1.74.0-py37h6dcda5c_3\n",
            "  boost-cpp          conda-forge/linux-64::boost-cpp-1.74.0-hc6e9bd1_3\n",
            "  cairo              conda-forge/linux-64::cairo-1.16.0-h6cf1ce9_1008\n",
            "  click              conda-forge/linux-64::click-8.0.1-py37h89c1867_0\n",
            "  cloudpickle        conda-forge/noarch::cloudpickle-2.0.0-pyhd8ed1ab_0\n",
            "  configparser       conda-forge/noarch::configparser-5.0.2-pyhd8ed1ab_0\n",
            "  cudatoolkit        conda-forge/linux-64::cudatoolkit-11.1.1-h6406543_8\n",
            "  cycler             conda-forge/noarch::cycler-0.10.0-py_2\n",
            "  databricks-cli     conda-forge/noarch::databricks-cli-0.12.1-pyhd8ed1ab_0\n",
            "  dataclasses        conda-forge/noarch::dataclasses-0.8-pyhc8e2a94_3\n",
            "  deepchem           conda-forge/noarch::deepchem-2.5.0-pyhd8ed1ab_0\n",
            "  docker-py          conda-forge/linux-64::docker-py-5.0.2-py37h89c1867_0\n",
            "  docker-pycreds     conda-forge/noarch::docker-pycreds-0.4.0-py_0\n",
            "  entrypoints        conda-forge/noarch::entrypoints-0.3-pyhd8ed1ab_1003\n",
            "  flask              conda-forge/noarch::flask-2.0.1-pyhd8ed1ab_0\n",
            "  fontconfig         conda-forge/linux-64::fontconfig-2.13.1-hba837de_1005\n",
            "  freetype           conda-forge/linux-64::freetype-2.10.4-h0708190_1\n",
            "  gettext            conda-forge/linux-64::gettext-0.19.8.1-h0b5b191_1005\n",
            "  gitdb              conda-forge/noarch::gitdb-4.0.7-pyhd8ed1ab_0\n",
            "  gitpython          conda-forge/noarch::gitpython-3.1.23-pyhd8ed1ab_1\n",
            "  greenlet           conda-forge/linux-64::greenlet-1.1.1-py37hcd2ae1e_0\n",
            "  gunicorn           conda-forge/linux-64::gunicorn-20.1.0-py37h89c1867_0\n",
            "  importlib-metadata conda-forge/linux-64::importlib-metadata-4.8.1-py37h89c1867_0\n",
            "  itsdangerous       conda-forge/noarch::itsdangerous-2.0.1-pyhd8ed1ab_0\n",
            "  jinja2             conda-forge/noarch::jinja2-3.0.1-pyhd8ed1ab_0\n",
            "  joblib             conda-forge/noarch::joblib-1.0.1-pyhd8ed1ab_0\n",
            "  jpeg               conda-forge/linux-64::jpeg-9d-h36c2ea0_0\n",
            "  kiwisolver         conda-forge/linux-64::kiwisolver-1.3.2-py37h2527ec5_0\n",
            "  libblas            conda-forge/linux-64::libblas-3.9.0-11_linux64_openblas\n",
            "  libcblas           conda-forge/linux-64::libcblas-3.9.0-11_linux64_openblas\n",
            "  libgfortran-ng     conda-forge/linux-64::libgfortran-ng-11.2.0-h69a702a_8\n",
            "  libgfortran5       conda-forge/linux-64::libgfortran5-11.2.0-h5c6108e_8\n",
            "  libglib            conda-forge/linux-64::libglib-2.68.4-h3e27bee_0\n",
            "  liblapack          conda-forge/linux-64::liblapack-3.9.0-11_linux64_openblas\n",
            "  libopenblas        conda-forge/linux-64::libopenblas-0.3.17-pthreads_h8fe5266_1\n",
            "  libpng             conda-forge/linux-64::libpng-1.6.37-h21135ba_2\n",
            "  libprotobuf        conda-forge/linux-64::libprotobuf-3.18.0-h780b84a_0\n",
            "  libtiff            conda-forge/linux-64::libtiff-4.0.10-hc3755c2_1005\n",
            "  libuuid            conda-forge/linux-64::libuuid-2.32.1-h7f98852_1000\n",
            "  libxcb             conda-forge/linux-64::libxcb-1.13-h7f98852_1003\n",
            "  mako               conda-forge/noarch::mako-1.1.5-pyhd8ed1ab_0\n",
            "  markupsafe         conda-forge/linux-64::markupsafe-2.0.1-py37h5e8e339_0\n",
            "  matplotlib-base    conda-forge/linux-64::matplotlib-base-3.4.3-py37h1058ff1_0\n",
            "  mlflow             conda-forge/linux-64::mlflow-1.20.2-py37h02d9ccd_0\n",
            "  numpy              conda-forge/linux-64::numpy-1.21.2-py37h31617e3_0\n",
            "  olefile            conda-forge/noarch::olefile-0.46-pyh9f0ad1d_1\n",
            "  packaging          conda-forge/noarch::packaging-21.0-pyhd8ed1ab_0\n",
            "  pandas             conda-forge/linux-64::pandas-1.3.3-py37he8f5f7f_0\n",
            "  pcre               conda-forge/linux-64::pcre-8.45-h9c3ff4c_0\n",
            "  pillow             conda-forge/linux-64::pillow-6.2.1-py37h6b7be26_0\n",
            "  pixman             conda-forge/linux-64::pixman-0.40.0-h36c2ea0_0\n",
            "  prometheus_client  conda-forge/noarch::prometheus_client-0.11.0-pyhd8ed1ab_0\n",
            "  prometheus_flask_~ conda-forge/noarch::prometheus_flask_exporter-0.18.2-pyhd8ed1ab_0\n",
            "  protobuf           conda-forge/linux-64::protobuf-3.18.0-py37hcd2ae1e_0\n",
            "  pthread-stubs      conda-forge/linux-64::pthread-stubs-0.4-h36c2ea0_1001\n",
            "  pycairo            conda-forge/linux-64::pycairo-1.20.1-py37hfff247e_0\n",
            "  pyparsing          conda-forge/noarch::pyparsing-2.4.7-pyh9f0ad1d_0\n",
            "  python-dateutil    conda-forge/noarch::python-dateutil-2.8.2-pyhd8ed1ab_0\n",
            "  python-editor      conda-forge/noarch::python-editor-1.0.4-py_0\n",
            "  pytz               conda-forge/noarch::pytz-2021.1-pyhd8ed1ab_0\n",
            "  pyyaml             conda-forge/linux-64::pyyaml-5.4.1-py37h5e8e339_1\n",
            "  querystring_parser conda-forge/noarch::querystring_parser-1.2.4-py_0\n",
            "  rdkit              conda-forge/linux-64::rdkit-2021.03.5-py37h13c2175_0\n",
            "  reportlab          conda-forge/linux-64::reportlab-3.5.68-py37h69800bb_0\n",
            "  scikit-learn       conda-forge/linux-64::scikit-learn-0.24.2-py37hf0f1638_1\n",
            "  scipy              conda-forge/linux-64::scipy-1.7.1-py37hf2a6cf1_0\n",
            "  selfies            conda-forge/noarch::selfies-1.0.4-pyhd8ed1ab_0\n",
            "  smmap              conda-forge/noarch::smmap-3.0.5-pyh44b312d_0\n",
            "  sqlalchemy         conda-forge/linux-64::sqlalchemy-1.4.23-py37h5e8e339_0\n",
            "  sqlparse           conda-forge/noarch::sqlparse-0.4.2-pyhd8ed1ab_0\n",
            "  tabulate           conda-forge/noarch::tabulate-0.8.9-pyhd8ed1ab_0\n",
            "  tenacity           conda-forge/noarch::tenacity-8.0.1-pyhd8ed1ab_0\n",
            "  threadpoolctl      conda-forge/noarch::threadpoolctl-2.2.0-pyh8a188c0_0\n",
            "  tornado            conda-forge/linux-64::tornado-6.1-py37h5e8e339_1\n",
            "  typing_extensions  conda-forge/noarch::typing_extensions-3.10.0.0-pyha770c72_0\n",
            "  websocket-client   conda-forge/linux-64::websocket-client-0.57.0-py37h89c1867_4\n",
            "  werkzeug           conda-forge/noarch::werkzeug-2.0.1-pyhd8ed1ab_0\n",
            "  xorg-kbproto       conda-forge/linux-64::xorg-kbproto-1.0.7-h7f98852_1002\n",
            "  xorg-libice        conda-forge/linux-64::xorg-libice-1.0.10-h7f98852_0\n",
            "  xorg-libsm         conda-forge/linux-64::xorg-libsm-1.2.3-hd9c2040_1000\n",
            "  xorg-libx11        conda-forge/linux-64::xorg-libx11-1.7.2-h7f98852_0\n",
            "  xorg-libxau        conda-forge/linux-64::xorg-libxau-1.0.9-h7f98852_0\n",
            "  xorg-libxdmcp      conda-forge/linux-64::xorg-libxdmcp-1.1.3-h7f98852_0\n",
            "  xorg-libxext       conda-forge/linux-64::xorg-libxext-1.3.4-h7f98852_1\n",
            "  xorg-libxrender    conda-forge/linux-64::xorg-libxrender-0.9.10-h7f98852_1003\n",
            "  xorg-renderproto   conda-forge/linux-64::xorg-renderproto-0.11.1-h7f98852_1002\n",
            "  xorg-xextproto     conda-forge/linux-64::xorg-xextproto-7.3.0-h7f98852_1002\n",
            "  xorg-xproto        conda-forge/linux-64::xorg-xproto-7.0.31-h7f98852_1007\n",
            "  zipp               conda-forge/noarch::zipp-3.5.0-pyhd8ed1ab_0\n",
            "\n",
            "The following packages will be UPDATED:\n",
            "\n",
            "  ca-certificates                      2020.12.5-ha878542_0 --> 2021.5.30-ha878542_0\n",
            "  certifi                          2020.12.5-py37h89c1867_1 --> 2021.5.30-py37h89c1867_0\n",
            "  conda                                4.9.2-py37h89c1867_0 --> 4.10.3-py37h89c1867_1\n",
            "  libgcc-ng                               9.3.0-h2828fa1_18 --> 11.2.0-h1d223b6_8\n",
            "  libgomp                                 9.3.0-h2828fa1_18 --> 11.2.0-h1d223b6_8\n",
            "  libstdcxx-ng                            9.3.0-h6de172a_18 --> 11.2.0-he4da1e4_8\n",
            "  openssl                                 1.1.1j-h7f98852_0 --> 1.1.1l-h7f98852_0\n",
            "  python_abi                                    3.7-1_cp37m --> 3.7-2_cp37m\n",
            "\n",
            "\n",
            "\n",
            "Downloading and Extracting Packages\n",
            "numpy-1.21.2         | 6.1 MB    | : 100% 1.0/1 [00:01<00:00,  1.38s/it]\n",
            "appdirs-1.4.4        | 13 KB     | : 100% 1.0/1 [00:00<00:00, 27.34it/s]\n",
            "typing_extensions-3. | 28 KB     | : 100% 1.0/1 [00:00<00:00, 20.75it/s]\n",
            "boost-1.74.0         | 342 KB    | : 100% 1.0/1 [00:00<00:00,  7.58it/s]\n",
            "sqlalchemy-1.4.23    | 2.3 MB    | : 100% 1.0/1 [00:00<00:00,  1.84it/s]\n",
            "asn1crypto-1.4.0     | 78 KB     | : 100% 1.0/1 [00:00<00:00, 14.24it/s]\n",
            "joblib-1.0.1         | 206 KB    | : 100% 1.0/1 [00:00<00:00, 10.60it/s]\n",
            "pytz-2021.1          | 239 KB    | : 100% 1.0/1 [00:00<00:00,  6.87it/s]\n",
            "matplotlib-base-3.4. | 7.2 MB    | : 100% 1.0/1 [00:01<00:00,  1.23s/it]\n",
            "libgcc-ng-11.2.0     | 892 KB    | : 100% 1.0/1 [00:00<00:00,  5.14it/s]\n",
            "openssl-1.1.1l       | 2.1 MB    | : 100% 1.0/1 [00:00<00:00,  2.64it/s]\n",
            "cloudpickle-2.0.0    | 24 KB     | : 100% 1.0/1 [00:00<00:00, 23.47it/s]\n",
            "python-dateutil-2.8. | 240 KB    | : 100% 1.0/1 [00:00<00:00, 10.59it/s]\n",
            "pyparsing-2.4.7      | 60 KB     | : 100% 1.0/1 [00:00<00:00, 19.45it/s]\n",
            "docker-pycreds-0.4.0 | 11 KB     | : 100% 1.0/1 [00:00<00:00, 28.35it/s]\n",
            "mako-1.1.5           | 58 KB     | : 100% 1.0/1 [00:00<00:00, 18.86it/s]\n",
            "entrypoints-0.3      | 8 KB      | : 100% 1.0/1 [00:00<00:00, 25.31it/s]\n",
            "freetype-2.10.4      | 890 KB    | : 100% 1.0/1 [00:00<00:00,  5.53it/s]\n",
            "cairo-1.16.0         | 1.5 MB    | : 100% 1.0/1 [00:00<00:00,  3.00it/s]\n",
            "querystring_parser-1 | 10 KB     | : 100% 1.0/1 [00:00<00:00, 27.46it/s]\n",
            "xorg-libxau-1.0.9    | 13 KB     | : 100% 1.0/1 [00:00<00:00, 29.01it/s]\n",
            "tenacity-8.0.1       | 21 KB     | : 100% 1.0/1 [00:00<00:00, 22.22it/s]\n",
            "gunicorn-20.1.0      | 118 KB    | : 100% 1.0/1 [00:00<00:00, 14.89it/s]\n",
            "pycairo-1.20.1       | 77 KB     | : 100% 1.0/1 [00:00<00:00,  3.62it/s]\n",
            "configparser-5.0.2   | 21 KB     | : 100% 1.0/1 [00:00<00:00, 26.81it/s]\n",
            "websocket-client-0.5 | 59 KB     | : 100% 1.0/1 [00:00<00:00, 20.75it/s]\n",
            "libblas-3.9.0        | 12 KB     | : 100% 1.0/1 [00:00<00:00, 26.68it/s]\n",
            "xorg-xextproto-7.3.0 | 28 KB     | : 100% 1.0/1 [00:00<00:00, 15.97it/s]\n",
            "gettext-0.19.8.1     | 3.6 MB    | : 100% 1.0/1 [00:00<00:00,  1.16it/s]\n",
            "libuuid-2.32.1       | 28 KB     | : 100% 1.0/1 [00:00<00:00, 26.62it/s]\n",
            "zipp-3.5.0           | 12 KB     | : 100% 1.0/1 [00:00<00:00, 27.93it/s]\n",
            "pthread-stubs-0.4    | 5 KB      | : 100% 1.0/1 [00:00<00:00, 33.17it/s]\n",
            "libxcb-1.13          | 395 KB    | : 100% 1.0/1 [00:00<00:00,  7.09it/s]\n",
            "python_abi-3.7       | 4 KB      | : 100% 1.0/1 [00:00<00:00, 26.73it/s]\n",
            "jpeg-9d              | 264 KB    | : 100% 1.0/1 [00:00<00:00, 11.78it/s]\n",
            "pyyaml-5.4.1         | 193 KB    | : 100% 1.0/1 [00:00<00:00, 13.79it/s]\n",
            "databricks-cli-0.12. | 56 KB     | : 100% 1.0/1 [00:00<00:00, 16.83it/s]\n",
            "libgomp-11.2.0       | 428 KB    | : 100% 1.0/1 [00:00<00:00, 10.86it/s]\n",
            "click-8.0.1          | 145 KB    | : 100% 1.0/1 [00:00<00:00, 14.91it/s]\n",
            "alembic-1.0.9        | 234 KB    | : 100% 1.0/1 [00:00<00:00,  5.11it/s]                \n",
            "reportlab-3.5.68     | 2.4 MB    | : 100% 1.0/1 [00:00<00:00,  2.30it/s]\n",
            "scikit-learn-0.24.2  | 7.5 MB    | : 100% 1.0/1 [00:01<00:00,  1.50s/it]               \n",
            "xorg-libx11-1.7.2    | 941 KB    | : 100% 1.0/1 [00:00<00:00,  5.08it/s]\n",
            "packaging-21.0       | 35 KB     | : 100% 1.0/1 [00:00<00:00, 20.49it/s]\n",
            "xorg-kbproto-1.0.7   | 27 KB     | : 100% 1.0/1 [00:00<00:00, 22.88it/s]\n",
            "markupsafe-2.0.1     | 22 KB     | : 100% 1.0/1 [00:00<00:00, 22.31it/s]\n",
            "pcre-8.45            | 253 KB    | : 100% 1.0/1 [00:00<00:00, 12.72it/s]\n",
            "xorg-libxdmcp-1.1.3  | 19 KB     | : 100% 1.0/1 [00:00<00:00, 29.52it/s]\n",
            "werkzeug-2.0.1       | 219 KB    | : 100% 1.0/1 [00:00<00:00, 10.97it/s]\n",
            "prometheus_flask_exp | 18 KB     | : 100% 1.0/1 [00:00<00:00, 23.39it/s]\n",
            "mlflow-1.20.2        | 4.5 MB    | : 100% 1.0/1 [00:01<00:00,  1.02s/it]\n",
            "xorg-libice-1.0.10   | 58 KB     | : 100% 1.0/1 [00:00<00:00, 19.44it/s]\n",
            "libstdcxx-ng-11.2.0  | 4.2 MB    | : 100% 1.0/1 [00:00<00:00,  1.49it/s]\n",
            "tabulate-0.8.9       | 26 KB     | : 100% 1.0/1 [00:00<00:00, 18.97it/s]\n",
            "fontconfig-2.13.1    | 357 KB    | : 100% 1.0/1 [00:00<00:00,  9.14it/s]\n",
            "gitpython-3.1.23     | 122 KB    | : 100% 1.0/1 [00:00<00:00, 17.37it/s]\n",
            "boost-cpp-1.74.0     | 16.3 MB   | : 100% 1.0/1 [00:05<00:00,  5.67s/it]               \n",
            "xorg-libxrender-0.9. | 32 KB     | : 100% 1.0/1 [00:00<00:00, 24.21it/s]\n",
            "pillow-6.2.1         | 637 KB    | : 100% 1.0/1 [00:00<00:00,  5.44it/s]\n",
            "selfies-1.0.4        | 29 KB     | : 100% 1.0/1 [00:00<00:00, 21.62it/s]\n",
            "libtiff-4.0.10       | 602 KB    | : 100% 1.0/1 [00:00<00:00,  6.76it/s]\n",
            "dataclasses-0.8      | 10 KB     | : 100% 1.0/1 [00:00<00:00, 29.36it/s]\n",
            "flask-2.0.1          | 70 KB     | : 100% 1.0/1 [00:00<00:00, 19.94it/s]\n",
            "cudatoolkit-11.1.1   | 1.20 GB   | : 100% 1.0/1 [02:46<00:00, 166.51s/it]              \n",
            "prometheus_client-0. | 46 KB     | : 100% 1.0/1 [00:00<00:00, 12.64it/s]\n",
            "docker-py-5.0.2      | 179 KB    | : 100% 1.0/1 [00:00<00:00, 10.74it/s]\n",
            "pixman-0.40.0        | 627 KB    | : 100% 1.0/1 [00:00<00:00,  6.71it/s]\n",
            "libgfortran5-11.2.0  | 1.7 MB    | : 100% 1.0/1 [00:00<00:00,  2.77it/s]\n",
            "greenlet-1.1.1       | 83 KB     | : 100% 1.0/1 [00:00<00:00, 17.12it/s]\n",
            "xorg-renderproto-0.1 | 9 KB      | : 100% 1.0/1 [00:00<00:00, 18.02it/s]\n",
            "liblapack-3.9.0      | 11 KB     | : 100% 1.0/1 [00:00<00:00, 20.96it/s]\n",
            "xorg-xproto-7.0.31   | 73 KB     | : 100% 1.0/1 [00:00<00:00, 12.88it/s]\n",
            "cycler-0.10.0        | 9 KB      | : 100% 1.0/1 [00:00<00:00, 27.98it/s]\n",
            "threadpoolctl-2.2.0  | 16 KB     | : 100% 1.0/1 [00:00<00:00, 27.43it/s]\n",
            "libglib-2.68.4       | 3.0 MB    | : 100% 1.0/1 [00:00<00:00,  1.57it/s]\n",
            "pandas-1.3.3         | 12.7 MB   | : 100% 1.0/1 [00:02<00:00,  2.66s/it]\n",
            "jinja2-3.0.1         | 99 KB     | : 100% 1.0/1 [00:00<00:00, 18.05it/s]\n",
            "xorg-libxext-1.3.4   | 54 KB     | : 100% 1.0/1 [00:00<00:00, 25.70it/s]\n",
            "conda-4.10.3         | 3.0 MB    | : 100% 1.0/1 [00:00<00:00,  1.46it/s]\n",
            "sqlparse-0.4.2       | 34 KB     | : 100% 1.0/1 [00:00<00:00, 17.74it/s]\n",
            "importlib-metadata-4 | 32 KB     | : 100% 1.0/1 [00:00<00:00, 22.75it/s]\n",
            "xorg-libsm-1.2.3     | 26 KB     | : 100% 1.0/1 [00:00<00:00, 22.94it/s]\n",
            "scipy-1.7.1          | 21.7 MB   | : 100% 1.0/1 [00:03<00:00,  3.67s/it]               \n",
            "olefile-0.46         | 32 KB     | : 100% 1.0/1 [00:00<00:00, 23.72it/s]\n",
            "deepchem-2.5.0       | 367 KB    | : 100% 1.0/1 [00:00<00:00,  5.92it/s]\n",
            "certifi-2021.5.30    | 141 KB    | : 100% 1.0/1 [00:00<00:00, 15.18it/s]\n",
            "libopenblas-0.3.17   | 9.2 MB    | : 100% 1.0/1 [00:01<00:00,  1.76s/it]\n",
            "protobuf-3.18.0      | 341 KB    | : 100% 1.0/1 [00:00<00:00,  7.94it/s]\n",
            "libprotobuf-3.18.0   | 2.6 MB    | : 100% 1.0/1 [00:00<00:00,  1.94it/s]\n",
            "gitdb-4.0.7          | 46 KB     | : 100% 1.0/1 [00:00<00:00, 20.43it/s]\n",
            "ca-certificates-2021 | 136 KB    | : 100% 1.0/1 [00:00<00:00, 16.77it/s]\n",
            "libpng-1.6.37        | 306 KB    | : 100% 1.0/1 [00:00<00:00, 10.12it/s]\n",
            "itsdangerous-2.0.1   | 17 KB     | : 100% 1.0/1 [00:00<00:00, 20.13it/s]\n",
            "libcblas-3.9.0       | 11 KB     | : 100% 1.0/1 [00:00<00:00, 29.17it/s]\n",
            "libgfortran-ng-11.2. | 19 KB     | : 100% 1.0/1 [00:00<00:00, 26.64it/s]\n",
            "smmap-3.0.5          | 22 KB     | : 100% 1.0/1 [00:00<00:00, 23.88it/s]\n",
            "rdkit-2021.03.5      | 38.2 MB   | : 100% 1.0/1 [00:06<00:00,  6.86s/it]               \n",
            "python-editor-1.0.4  | 9 KB      | : 100% 1.0/1 [00:00<00:00, 23.84it/s]\n",
            "tornado-6.1          | 646 KB    | : 100% 1.0/1 [00:00<00:00,  5.93it/s]\n",
            "kiwisolver-1.3.2     | 78 KB     | : 100% 1.0/1 [00:00<00:00, 19.55it/s]\n",
            "Preparing transaction: \\ \b\b| \b\b/ \b\b- \b\b\\ \b\b| \b\b/ \b\b- \b\b\\ \b\b| \b\b/ \b\b- \b\b\\ \b\bdone\n",
            "Verifying transaction: / \b\b- \b\b\\ \b\b| \b\b/ \b\b- \b\b\\ \b\b| \b\b/ \b\b- \b\b\\ \b\b| \b\b/ \b\b- \b\b\\ \b\b| \b\b/ \b\b- \b\b\\ \b\b| \b\b/ \b\b- \b\b\\ \b\b| \b\b/ \b\b- \b\b\\ \b\b| \b\b/ \b\b- \b\b\\ \b\b| \b\b/ \b\b- \b\b\\ \b\b| \b\b/ \b\b- \b\b\\ \b\b| \b\b/ \b\b- \b\bdone\n",
            "Executing transaction: | \b\b/ \b\b- \b\b\\ \b\b| \b\b/ \b\b- \b\b\\ \b\b| \b\b/ \b\b- \b\b\\ \b\b| \b\b/ \b\b- \b\b\\ \b\b| \b\b/ \b\b- \b\b\\ \b\b| \b\b/ \b\b- \b\b\\ \b\b| By downloading and using the CUDA Toolkit conda packages, you accept the terms and conditions of the CUDA End User License Agreement (EULA): https://docs.nvidia.com/cuda/eula/index.html\n",
            "\n",
            "\b\b/ \b\b- \b\b\\ \b\b| \b\b/ \b\b- \b\b\\ \b\b| \b\b/ \b\b- \b\b\\ \b\b| \b\b/ \b\b- \b\b\\ \b\b| \b\b/ \b\b- \b\b\\ \b\b| \b\b/ \b\b- \b\b\\ \b\b| \b\b/ \b\b- \b\b\\ \b\bdone\n"
          ]
        },
        {
          "data": {
            "application/vnd.google.colaboratory.intrinsic+json": {
              "type": "string"
            },
            "text/plain": [
              "'2.5.0'"
            ]
          },
          "execution_count": 2,
          "metadata": {},
          "output_type": "execute_result"
        }
      ]
    },
    {
      "cell_type": "code",
      "metadata": {
        "id": "JTgoTy8z_rDh"
      },
      "source": [
        "\n",
        "import numpy as np\n",
        "import matplotlib.pyplot as plt\n",
        "import seaborn as sns\n",
        "import pandas as pd\n",
        "import os\n",
        "\n",
        "import deepchem as dc\n",
        "from deepchem.models.normalizing_flows import NormalizingFlow, NormalizingFlowModel\n",
        "from deepchem.models.optimizers import Adam\n",
        "from deepchem.data import NumpyDataset\n",
        "from deepchem.splits import RandomSplitter\n",
        "from deepchem.molnet import load_tox21\n",
        "\n",
        "import rdkit\n",
        "from rdkit.Chem import Draw\n",
        "\n",
        "from IPython.display import Image, display\n",
        "\n",
        "import selfies as sf\n",
        "\n",
        "import tensorflow as tf\n",
        "import tensorflow_probability as tfp\n",
        "\n",
        "tfd = tfp.distributions\n",
        "tfb = tfp.bijectors\n",
        "tfk = tf.keras\n",
        "\n",
        "tfk.backend.set_floatx('float64')"
      ],
      "execution_count": null,
      "outputs": []
    },
    {
      "cell_type": "code",
      "metadata": {
        "id": "yhiDaxyY_wq8"
      },
      "source": [
        "tasks, datasets, transformers = dc.molnet.load_qm9(featurizer='ECFP')\n",
        "df = pd.DataFrame(data={'smiles': datasets[0].ids})"
      ],
      "execution_count": null,
      "outputs": []
    },
    {
      "cell_type": "code",
      "metadata": {
        "id": "zzFvYVxH_xjR"
      },
      "source": [
        "data = df[['smiles']].sample(2500, random_state=50)"
      ],
      "execution_count": null,
      "outputs": []
    },
    {
      "cell_type": "code",
      "metadata": {
        "colab": {
          "base_uri": "https://localhost:8080/",
          "height": 204
        },
        "id": "SHfkj_tA6oKh",
        "outputId": "9dc35780-c787-479b-e7cc-1b0f794f396a"
      },
      "source": [
        "data.head()"
      ],
      "execution_count": null,
      "outputs": [
        {
          "output_type": "execute_result",
          "data": {
            "text/html": [
              "<div>\n",
              "<style scoped>\n",
              "    .dataframe tbody tr th:only-of-type {\n",
              "        vertical-align: middle;\n",
              "    }\n",
              "\n",
              "    .dataframe tbody tr th {\n",
              "        vertical-align: top;\n",
              "    }\n",
              "\n",
              "    .dataframe thead th {\n",
              "        text-align: right;\n",
              "    }\n",
              "</style>\n",
              "<table border=\"1\" class=\"dataframe\">\n",
              "  <thead>\n",
              "    <tr style=\"text-align: right;\">\n",
              "      <th></th>\n",
              "      <th>smiles</th>\n",
              "    </tr>\n",
              "  </thead>\n",
              "  <tbody>\n",
              "    <tr>\n",
              "      <th>3670</th>\n",
              "      <td>[H]C1=C([H])C([H])(C(F)(F)F)C([H])([H])C1([H])[H]</td>\n",
              "    </tr>\n",
              "    <tr>\n",
              "      <th>12694</th>\n",
              "      <td>[H]C([H])([H])C([H])([H])C1(C([H])([H])[H])C2(...</td>\n",
              "    </tr>\n",
              "    <tr>\n",
              "      <th>7790</th>\n",
              "      <td>[H]Oc1nc(N([H])C([H])([H])C([H])([H])[H])nn1[H]</td>\n",
              "    </tr>\n",
              "    <tr>\n",
              "      <th>23035</th>\n",
              "      <td>[H]C(=O)C([H])([H])C([H])([H])c1nc([H])n([H])c...</td>\n",
              "    </tr>\n",
              "    <tr>\n",
              "      <th>9969</th>\n",
              "      <td>[H]C#CC([H])(O[H])C([H])([H])C1([H])C([H])([H]...</td>\n",
              "    </tr>\n",
              "  </tbody>\n",
              "</table>\n",
              "</div>"
            ],
            "text/plain": [
              "                                                  smiles\n",
              "3670   [H]C1=C([H])C([H])(C(F)(F)F)C([H])([H])C1([H])[H]\n",
              "12694  [H]C([H])([H])C([H])([H])C1(C([H])([H])[H])C2(...\n",
              "7790     [H]Oc1nc(N([H])C([H])([H])C([H])([H])[H])nn1[H]\n",
              "23035  [H]C(=O)C([H])([H])C([H])([H])c1nc([H])n([H])c...\n",
              "9969   [H]C#CC([H])(O[H])C([H])([H])C1([H])C([H])([H]..."
            ]
          },
          "metadata": {},
          "execution_count": 8
        }
      ]
    },
    {
      "cell_type": "code",
      "metadata": {
        "colab": {
          "base_uri": "https://localhost:8080/"
        },
        "id": "RnuUzrBD_xs6",
        "outputId": "e65f885e-9001-4193-a804-0c959752527a"
      },
      "source": [
        "sf.set_semantic_constraints()  # reset constraints\n",
        "constraints = sf.get_semantic_constraints()\n",
        "constraints['?'] = 3\n",
        "\n",
        "sf.set_semantic_constraints(constraints)\n",
        "constraints"
      ],
      "execution_count": null,
      "outputs": [
        {
          "output_type": "execute_result",
          "data": {
            "text/plain": [
              "{'?': 3,\n",
              " 'Br': 1,\n",
              " 'C': 4,\n",
              " 'C+1': 5,\n",
              " 'C-1': 3,\n",
              " 'Cl': 1,\n",
              " 'F': 1,\n",
              " 'H': 1,\n",
              " 'I': 1,\n",
              " 'N': 3,\n",
              " 'N+1': 4,\n",
              " 'N-1': 2,\n",
              " 'O': 2,\n",
              " 'O+1': 3,\n",
              " 'O-1': 1,\n",
              " 'P': 5,\n",
              " 'P+1': 6,\n",
              " 'P-1': 4,\n",
              " 'S': 6,\n",
              " 'S+1': 7,\n",
              " 'S-1': 5}"
            ]
          },
          "metadata": {},
          "execution_count": 9
        }
      ]
    },
    {
      "cell_type": "code",
      "metadata": {
        "id": "r0tN3Yt6_xxn"
      },
      "source": [
        "def preprocess_smiles(smiles):\n",
        "  return sf.encoder(smiles)  \n",
        "\n",
        "data['selfies'] = data['smiles'].apply(preprocess_smiles)"
      ],
      "execution_count": null,
      "outputs": []
    },
    {
      "cell_type": "code",
      "metadata": {
        "colab": {
          "base_uri": "https://localhost:8080/",
          "height": 204
        },
        "id": "tekja8yi9Fif",
        "outputId": "2f708296-038c-462e-bd42-2cc85847cca7"
      },
      "source": [
        "data.head()"
      ],
      "execution_count": null,
      "outputs": [
        {
          "output_type": "execute_result",
          "data": {
            "text/html": [
              "<div>\n",
              "<style scoped>\n",
              "    .dataframe tbody tr th:only-of-type {\n",
              "        vertical-align: middle;\n",
              "    }\n",
              "\n",
              "    .dataframe tbody tr th {\n",
              "        vertical-align: top;\n",
              "    }\n",
              "\n",
              "    .dataframe thead th {\n",
              "        text-align: right;\n",
              "    }\n",
              "</style>\n",
              "<table border=\"1\" class=\"dataframe\">\n",
              "  <thead>\n",
              "    <tr style=\"text-align: right;\">\n",
              "      <th></th>\n",
              "      <th>smiles</th>\n",
              "      <th>selfies</th>\n",
              "    </tr>\n",
              "  </thead>\n",
              "  <tbody>\n",
              "    <tr>\n",
              "      <th>3670</th>\n",
              "      <td>[H]C1=C([H])C([H])(C(F)(F)F)C([H])([H])C1([H])[H]</td>\n",
              "      <td>[Hexpl][C][=C][Branch1_1][C][Hexpl][C][Branch1...</td>\n",
              "    </tr>\n",
              "    <tr>\n",
              "      <th>12694</th>\n",
              "      <td>[H]C([H])([H])C([H])([H])C1(C([H])([H])[H])C2(...</td>\n",
              "      <td>[Hexpl][C][Branch1_1][C][Hexpl][Branch1_1][C][...</td>\n",
              "    </tr>\n",
              "    <tr>\n",
              "      <th>7790</th>\n",
              "      <td>[H]Oc1nc(N([H])C([H])([H])C([H])([H])[H])nn1[H]</td>\n",
              "      <td>[Hexpl][O][C][=N][C][Branch2_1][Ring1][Ring2][...</td>\n",
              "    </tr>\n",
              "    <tr>\n",
              "      <th>23035</th>\n",
              "      <td>[H]C(=O)C([H])([H])C([H])([H])c1nc([H])n([H])c...</td>\n",
              "      <td>[Hexpl][C][Branch1_2][C][=O][C][Branch1_1][C][...</td>\n",
              "    </tr>\n",
              "    <tr>\n",
              "      <th>9969</th>\n",
              "      <td>[H]C#CC([H])(O[H])C([H])([H])C1([H])C([H])([H]...</td>\n",
              "      <td>[Hexpl][C][#C][C][Branch1_1][C][Hexpl][Branch1...</td>\n",
              "    </tr>\n",
              "  </tbody>\n",
              "</table>\n",
              "</div>"
            ],
            "text/plain": [
              "                                                  smiles                                            selfies\n",
              "3670   [H]C1=C([H])C([H])(C(F)(F)F)C([H])([H])C1([H])[H]  [Hexpl][C][=C][Branch1_1][C][Hexpl][C][Branch1...\n",
              "12694  [H]C([H])([H])C([H])([H])C1(C([H])([H])[H])C2(...  [Hexpl][C][Branch1_1][C][Hexpl][Branch1_1][C][...\n",
              "7790     [H]Oc1nc(N([H])C([H])([H])C([H])([H])[H])nn1[H]  [Hexpl][O][C][=N][C][Branch2_1][Ring1][Ring2][...\n",
              "23035  [H]C(=O)C([H])([H])C([H])([H])c1nc([H])n([H])c...  [Hexpl][C][Branch1_2][C][=O][C][Branch1_1][C][...\n",
              "9969   [H]C#CC([H])(O[H])C([H])([H])C1([H])C([H])([H]...  [Hexpl][C][#C][C][Branch1_1][C][Hexpl][Branch1..."
            ]
          },
          "metadata": {},
          "execution_count": 11
        }
      ]
    },
    {
      "cell_type": "code",
      "metadata": {
        "colab": {
          "base_uri": "https://localhost:8080/",
          "height": 204
        },
        "id": "t7xh36XU_x1o",
        "outputId": "4165192c-c440-426c-c72a-651c2549230a"
      },
      "source": [
        "data['len'] = data['smiles'].apply(lambda x: len(x))\n",
        "data.sort_values(by='len').head()"
      ],
      "execution_count": null,
      "outputs": [
        {
          "output_type": "execute_result",
          "data": {
            "text/html": [
              "<div>\n",
              "<style scoped>\n",
              "    .dataframe tbody tr th:only-of-type {\n",
              "        vertical-align: middle;\n",
              "    }\n",
              "\n",
              "    .dataframe tbody tr th {\n",
              "        vertical-align: top;\n",
              "    }\n",
              "\n",
              "    .dataframe thead th {\n",
              "        text-align: right;\n",
              "    }\n",
              "</style>\n",
              "<table border=\"1\" class=\"dataframe\">\n",
              "  <thead>\n",
              "    <tr style=\"text-align: right;\">\n",
              "      <th></th>\n",
              "      <th>smiles</th>\n",
              "      <th>selfies</th>\n",
              "      <th>len</th>\n",
              "    </tr>\n",
              "  </thead>\n",
              "  <tbody>\n",
              "    <tr>\n",
              "      <th>73896</th>\n",
              "      <td>[H]C#CC#CC#C[H]</td>\n",
              "      <td>[Hexpl][C][#C][C][#C][C][#C][Hexpl]</td>\n",
              "      <td>15</td>\n",
              "    </tr>\n",
              "    <tr>\n",
              "      <th>11375</th>\n",
              "      <td>[H][C]C#C[NH3+]</td>\n",
              "      <td>[Hexpl][Cexpl][C][#C][NH3+expl]</td>\n",
              "      <td>15</td>\n",
              "    </tr>\n",
              "    <tr>\n",
              "      <th>14869</th>\n",
              "      <td>[H]C#CC#CC(=O)C#N</td>\n",
              "      <td>[Hexpl][C][#C][C][#C][C][Branch1_2][C][=O][C][#N]</td>\n",
              "      <td>17</td>\n",
              "    </tr>\n",
              "    <tr>\n",
              "      <th>64222</th>\n",
              "      <td>N#CC(C#N)(C#N)C#N</td>\n",
              "      <td>[N][#C][C][Branch1_1][Ring1][C][#N][Branch1_1]...</td>\n",
              "      <td>17</td>\n",
              "    </tr>\n",
              "    <tr>\n",
              "      <th>96905</th>\n",
              "      <td>[H]c1nonc([H])c1=O</td>\n",
              "      <td>[Hexpl][C][=N][O][N][=C][Branch1_1][C][Hexpl][...</td>\n",
              "      <td>18</td>\n",
              "    </tr>\n",
              "  </tbody>\n",
              "</table>\n",
              "</div>"
            ],
            "text/plain": [
              "                   smiles  ... len\n",
              "73896     [H]C#CC#CC#C[H]  ...  15\n",
              "11375     [H][C]C#C[NH3+]  ...  15\n",
              "14869   [H]C#CC#CC(=O)C#N  ...  17\n",
              "64222   N#CC(C#N)(C#N)C#N  ...  17\n",
              "96905  [H]c1nonc([H])c1=O  ...  18\n",
              "\n",
              "[5 rows x 3 columns]"
            ]
          },
          "metadata": {},
          "execution_count": 12
        }
      ]
    },
    {
      "cell_type": "code",
      "metadata": {
        "colab": {
          "base_uri": "https://localhost:8080/"
        },
        "id": "ORLAjcygJu3P",
        "outputId": "d9d01b27-8d90-4bd5-a1a6-843e0b586e2f"
      },
      "source": [
        "data[data[\"selfies\"].str.contains(\"\\.\") ].index"
      ],
      "execution_count": null,
      "outputs": [
        {
          "output_type": "execute_result",
          "data": {
            "text/plain": [
              "Int64Index([5, 94038], dtype='int64')"
            ]
          },
          "metadata": {},
          "execution_count": 13
        }
      ]
    },
    {
      "cell_type": "code",
      "metadata": {
        "id": "1sIdiobHQK90"
      },
      "source": [
        "filtro = data[data[\"selfies\"].str.contains(\"\\.\") ].index\n",
        "data.drop(index=filtro, inplace=True)"
      ],
      "execution_count": null,
      "outputs": []
    },
    {
      "cell_type": "code",
      "metadata": {
        "id": "FMy-2Q411trS"
      },
      "source": [
        "selfies_list=data.selfies.to_list()"
      ],
      "execution_count": null,
      "outputs": []
    },
    {
      "cell_type": "code",
      "metadata": {
        "colab": {
          "base_uri": "https://localhost:8080/",
          "height": 52
        },
        "id": "Qz8u9eThKIML",
        "outputId": "cd333651-b60f-4299-8522-830b86be4546"
      },
      "source": [
        "selfies_list[0]"
      ],
      "execution_count": null,
      "outputs": [
        {
          "output_type": "execute_result",
          "data": {
            "application/vnd.google.colaboratory.intrinsic+json": {
              "type": "string"
            },
            "text/plain": [
              "'[Hexpl][C][=C][Branch1_1][C][Hexpl][C][Branch1_1][C][Hexpl][Branch1_1][Branch2_2][C][Branch1_1][C][F][Branch1_1][C][F][F][C][Branch1_1][C][Hexpl][Branch1_1][C][Hexpl][C][Ring1][=N][Branch1_1][C][Hexpl][Hexpl]'"
            ]
          },
          "metadata": {},
          "execution_count": 16
        }
      ]
    },
    {
      "cell_type": "code",
      "metadata": {
        "id": "E-wIwSbQ_x53"
      },
      "source": [
        "#selfies_list = np.asanyarray(data.selfies)\n",
        "selfies_alphabet = sf.get_alphabet_from_selfies(selfies_list)\n",
        "selfies_alphabet.add('[nop]')  # Add the \"no operation\" symbol as a padding character\n",
        "#i=0\n",
        "#while len(selfies_alphabet)!=65:\n",
        "#    i+=1\n",
        "#    selfies_alphabet.add('[nop' + str(i)+']')\n",
        "selfies_alphabet = list(sorted(selfies_alphabet))\n",
        "symbol_to_idx = {s: i for i, s in enumerate(selfies_alphabet)}\n",
        "largest_selfie_len = max(sf.len_selfies(s) for s in selfies_list)"
      ],
      "execution_count": null,
      "outputs": []
    },
    {
      "cell_type": "code",
      "metadata": {
        "id": "n94CR7AL7mUZ"
      },
      "source": [
        "idx_to_symbol = {i: s for i, s in enumerate(selfies_alphabet)}"
      ],
      "execution_count": null,
      "outputs": []
    },
    {
      "cell_type": "code",
      "metadata": {
        "colab": {
          "base_uri": "https://localhost:8080/"
        },
        "id": "fpJ8iALHKbky",
        "outputId": "22a018e3-2092-4e68-c293-26f5b8eef3c2"
      },
      "source": [
        "idx_to_symbol"
      ],
      "execution_count": null,
      "outputs": [
        {
          "output_type": "execute_result",
          "data": {
            "text/plain": [
              "{0: '[#C]',\n",
              " 1: '[#N]',\n",
              " 2: '[/C]',\n",
              " 3: '[/Hexpl]',\n",
              " 4: '[/N+expl]',\n",
              " 5: '[/N]',\n",
              " 6: '[/O]',\n",
              " 7: '[=C]',\n",
              " 8: '[=N+expl]',\n",
              " 9: '[=N]',\n",
              " 10: '[=O]',\n",
              " 11: '[Branch1_1]',\n",
              " 12: '[Branch1_2]',\n",
              " 13: '[Branch1_3]',\n",
              " 14: '[Branch2_1]',\n",
              " 15: '[Branch2_2]',\n",
              " 16: '[Branch2_3]',\n",
              " 17: '[C+expl]',\n",
              " 18: '[C-expl]',\n",
              " 19: '[CH+expl]',\n",
              " 20: '[C]',\n",
              " 21: '[Cexpl]',\n",
              " 22: '[Expl=Ring1]',\n",
              " 23: '[Expl=Ring2]',\n",
              " 24: '[Expl\\\\Ring2]',\n",
              " 25: '[F]',\n",
              " 26: '[Hexpl]',\n",
              " 27: '[N+expl]',\n",
              " 28: '[N-expl]',\n",
              " 29: '[NH+expl]',\n",
              " 30: '[NH2+expl]',\n",
              " 31: '[NH3+expl]',\n",
              " 32: '[NHexpl]',\n",
              " 33: '[N]',\n",
              " 34: '[O-expl]',\n",
              " 35: '[O]',\n",
              " 36: '[P]',\n",
              " 37: '[Ring1]',\n",
              " 38: '[Ring2]',\n",
              " 39: '[S]',\n",
              " 40: '[\\\\C]',\n",
              " 41: '[\\\\Hexpl]',\n",
              " 42: '[\\\\N]',\n",
              " 43: '[nop]'}"
            ]
          },
          "metadata": {},
          "execution_count": 19
        }
      ]
    },
    {
      "cell_type": "code",
      "metadata": {
        "id": "rwbEKf5mL4bz"
      },
      "source": [
        "#def selfies_to_hot(selfie, largest_selfie_len, alphabet):\n",
        "#    \"\"\"Go from a single selfies string to a one-hot encoding.\n",
        "#    \"\"\"\n",
        "#    #print(selfie)\n",
        "#    symbol_to_int = dict((c, i) for i, c in enumerate(alphabet))\n",
        "#\n",
        "#    # pad with [nop]\n",
        "#    selfie += '[nop]' * (largest_selfie_len - sf.len_selfies(selfie))\n",
        "#\n",
        "#    # integer encode\n",
        "#    symbol_list = sf.split_selfies(selfie)\n",
        "#    integer_encoded = [symbol_to_int[symbol] for symbol in symbol_list]\n",
        "#\n",
        "#    # one hot-encode the integer encoded selfie\n",
        "#    onehot_encoded = list()\n",
        "#    for index in integer_encoded:\n",
        "#        letter = [0] * len(alphabet)\n",
        "#        letter[index] = 1\n",
        "#        onehot_encoded.append(letter)\n",
        "#\n",
        "#    return integer_encoded, np.array(onehot_encoded)\n",
        "#\n",
        "#\n",
        "#def multiple_selfies_to_hot(selfies_list, largest_molecule_len, alphabet):\n",
        "#    \"\"\"Convert a list of selfies strings to a one-hot encoding\n",
        "#    \"\"\"\n",
        "#\n",
        "#    hot_list = []\n",
        "#    for s in selfies_list:\n",
        "#        _, onehot_encoded = selfies_to_hot(s, largest_molecule_len, alphabet)\n",
        "#        hot_list.append(onehot_encoded)\n",
        "#    return np.array(hot_list)"
      ],
      "execution_count": null,
      "outputs": []
    },
    {
      "cell_type": "code",
      "metadata": {
        "colab": {
          "base_uri": "https://localhost:8080/"
        },
        "id": "UgAZuYJK-lQN",
        "outputId": "96cff78e-0aac-42e6-c730-808b0a173bcd"
      },
      "source": [
        "selfies_alphabet"
      ],
      "execution_count": null,
      "outputs": [
        {
          "output_type": "execute_result",
          "data": {
            "text/plain": [
              "['[#C]',\n",
              " '[#N]',\n",
              " '[/C]',\n",
              " '[/Hexpl]',\n",
              " '[/N+expl]',\n",
              " '[/N]',\n",
              " '[/O]',\n",
              " '[=C]',\n",
              " '[=N+expl]',\n",
              " '[=N]',\n",
              " '[=O]',\n",
              " '[Branch1_1]',\n",
              " '[Branch1_2]',\n",
              " '[Branch1_3]',\n",
              " '[Branch2_1]',\n",
              " '[Branch2_2]',\n",
              " '[Branch2_3]',\n",
              " '[C+expl]',\n",
              " '[C-expl]',\n",
              " '[CH+expl]',\n",
              " '[C]',\n",
              " '[Cexpl]',\n",
              " '[Expl=Ring1]',\n",
              " '[Expl=Ring2]',\n",
              " '[Expl\\\\Ring2]',\n",
              " '[F]',\n",
              " '[Hexpl]',\n",
              " '[N+expl]',\n",
              " '[N-expl]',\n",
              " '[NH+expl]',\n",
              " '[NH2+expl]',\n",
              " '[NH3+expl]',\n",
              " '[NHexpl]',\n",
              " '[N]',\n",
              " '[O-expl]',\n",
              " '[O]',\n",
              " '[P]',\n",
              " '[Ring1]',\n",
              " '[Ring2]',\n",
              " '[S]',\n",
              " '[\\\\C]',\n",
              " '[\\\\Hexpl]',\n",
              " '[\\\\N]',\n",
              " '[nop]']"
            ]
          },
          "metadata": {},
          "execution_count": 20
        }
      ]
    },
    {
      "cell_type": "code",
      "metadata": {
        "id": "qJFDrbg-AK0r"
      },
      "source": [
        "onehots = sf.batch_selfies_to_flat_hot(  selfies_list, symbol_to_idx, largest_selfie_len)"
      ],
      "execution_count": null,
      "outputs": []
    },
    {
      "cell_type": "code",
      "metadata": {
        "colab": {
          "base_uri": "https://localhost:8080/"
        },
        "id": "-25HR39nV_1A",
        "outputId": "16a18d61-4ab0-4b23-f1d6-a5ca5158a01a"
      },
      "source": [
        "largest_selfie_len"
      ],
      "execution_count": null,
      "outputs": [
        {
          "output_type": "execute_result",
          "data": {
            "text/plain": [
              "62"
            ]
          },
          "metadata": {},
          "execution_count": 22
        }
      ]
    },
    {
      "cell_type": "code",
      "metadata": {
        "colab": {
          "base_uri": "https://localhost:8080/"
        },
        "id": "__E1_osSK6V4",
        "outputId": "01840076-af09-414b-9ec5-f07cafafe80d"
      },
      "source": [
        "len(onehots[0])"
      ],
      "execution_count": null,
      "outputs": [
        {
          "output_type": "execute_result",
          "data": {
            "text/plain": [
              "2728"
            ]
          },
          "metadata": {},
          "execution_count": 23
        }
      ]
    },
    {
      "cell_type": "code",
      "metadata": {
        "colab": {
          "base_uri": "https://localhost:8080/"
        },
        "id": "r6jFIniRV_u9",
        "outputId": "7eee487e-83f1-4288-a4a7-110cb05c9eb7"
      },
      "source": [
        "len(selfies_alphabet)"
      ],
      "execution_count": null,
      "outputs": [
        {
          "output_type": "execute_result",
          "data": {
            "text/plain": [
              "44"
            ]
          },
          "metadata": {},
          "execution_count": 24
        }
      ]
    },
    {
      "cell_type": "code",
      "metadata": {
        "id": "XoupIBFjAK75"
      },
      "source": [
        "input_tensor = tf.convert_to_tensor(onehots, dtype='float64')\n",
        "noise_tensor = tf.random.uniform(shape=input_tensor.shape, minval=0, maxval=1, dtype='float64')\n",
        "dequantized_data = tf.add(input_tensor, noise_tensor)"
      ],
      "execution_count": null,
      "outputs": []
    },
    {
      "cell_type": "code",
      "metadata": {
        "colab": {
          "base_uri": "https://localhost:8080/"
        },
        "id": "VbOcxTg0ALNE",
        "outputId": "f04f79ea-f7ba-45e6-c7cc-70a30da65124"
      },
      "source": [
        "ds = NumpyDataset(dequantized_data)  # Create a DeepChem dataset\n",
        "splitter = RandomSplitter()\n",
        "train, val, test = splitter.train_valid_test_split(dataset=ds, seed=42)\n",
        "train_idx, val_idx, test_idx = splitter.split(dataset=ds, seed=42)\n",
        "\n",
        "dim = len(train.X[0])  # length of one-hot encoded vectors\n",
        "train.X.shape  # 2000 samples, N-dimensional one-hot vectors that represent molecules"
      ],
      "execution_count": null,
      "outputs": [
        {
          "output_type": "execute_result",
          "data": {
            "text/plain": [
              "(1998, 2728)"
            ]
          },
          "metadata": {},
          "execution_count": 26
        }
      ]
    },
    {
      "cell_type": "code",
      "metadata": {
        "id": "cVLiLhSdAXLY"
      },
      "source": [
        "# SMILES strings of training data\n",
        "train_smiles = data['smiles'].iloc[train_idx].values"
      ],
      "execution_count": null,
      "outputs": []
    },
    {
      "cell_type": "code",
      "metadata": {
        "id": "GwHHN6AjAW8j"
      },
      "source": [
        "base_dist = tfd.MultivariateNormalDiag(loc=np.zeros(dim), scale_diag=np.ones(dim))\n",
        "\n",
        "if dim % 2 == 0:\n",
        "    permutation = tf.cast(np.concatenate((np.arange(dim / 2, dim), np.arange(0, dim / 2))),\n",
        "                                  tf.int32)\n",
        "else:\n",
        "    permutation = tf.cast(np.concatenate((np.arange(dim / 2 + 1, dim), np.arange(0, dim / 2))), tf.int32)"
      ],
      "execution_count": null,
      "outputs": []
    },
    {
      "cell_type": "code",
      "metadata": {
        "colab": {
          "base_uri": "https://localhost:8080/"
        },
        "id": "frDD7shBVxjE",
        "outputId": "88b7b2e7-1f0b-4441-a6b2-ba99fa4cf3d8"
      },
      "source": [
        "train"
      ],
      "execution_count": null,
      "outputs": [
        {
          "output_type": "execute_result",
          "data": {
            "text/plain": [
              "<NumpyDataset X.shape: (1998, 2728), y.shape: (1998, 1), w.shape: (1998, 1), task_names: [0]>"
            ]
          },
          "metadata": {},
          "execution_count": 54
        }
      ]
    },
    {
      "cell_type": "code",
      "metadata": {
        "id": "RXABX3QrAkT2"
      },
      "source": [
        "num_layers = 8\n",
        "flow_layers = []\n",
        "\n",
        "Made = tfb.AutoregressiveNetwork(params=2,\n",
        "                                 hidden_units=[512, 512], activation='relu')\n",
        "\n",
        "for i in range(num_layers):\n",
        "    flow_layers.append(        \n",
        "        (tfb.MaskedAutoregressiveFlow(shift_and_log_scale_fn=Made)\n",
        "    ))\n",
        "\n",
        "    permutation = tf.cast(np.random.permutation(np.arange(0, dim)), tf.int32)\n",
        "    \n",
        "    flow_layers.append(tfb.Permute(permutation=permutation))\n",
        "    \n",
        "#     if (i + 1) % int(2) == 0:\n",
        "#         flow_layers.append(tfb.BatchNormalization())"
      ],
      "execution_count": null,
      "outputs": []
    },
    {
      "cell_type": "code",
      "metadata": {
        "id": "aPPdgbWTAkak"
      },
      "source": [
        "\n",
        "nf = NormalizingFlow(base_distribution=base_dist,\n",
        "                    flow_layers=flow_layers)\n",
        "samples = nf.flow.sample(5)"
      ],
      "execution_count": null,
      "outputs": []
    },
    {
      "cell_type": "code",
      "metadata": {
        "id": "vnABrnedAkc6"
      },
      "source": [
        "nfm = NormalizingFlowModel(nf, learning_rate=1e-4, batch_size=128)"
      ],
      "execution_count": null,
      "outputs": []
    },
    {
      "cell_type": "code",
      "metadata": {
        "id": "YuYU29d4Akfl"
      },
      "source": [
        "losses = []\n",
        "val_losses = []"
      ],
      "execution_count": null,
      "outputs": []
    },
    {
      "cell_type": "code",
      "metadata": {
        "id": "kP5ToUm7-NyU"
      },
      "source": [
        "import os, mlflow\n",
        "os.environ['MLFLOW_TRACKING_USERNAME'] = \"pcgarcia\"\n",
        "os.environ['MLFLOW_TRACKING_PASSWORD'] = \"d9ff5b07ff29f3e5d0fc01ece07932e0d5952539\"\n",
        "\n",
        "mlflow.set_tracking_uri(f'https://dagshub.com/pcgarcia/ChemMonkey.mlflow')\n"
      ],
      "execution_count": null,
      "outputs": []
    },
    {
      "cell_type": "code",
      "metadata": {
        "colab": {
          "base_uri": "https://localhost:8080/"
        },
        "id": "Wh5L7r_yAkhk",
        "outputId": "e7eca5b9-9eb8-45ae-ee4b-8339fd1b93b8"
      },
      "source": [
        "mlflow.tensorflow.autolog()\n",
        "max_epochs = 20 # maximum number of epochs of the training\n",
        "mlflow.log_param(\"epochs\",max_epochs)\n",
        "\n",
        "for epoch in range(max_epochs):\n",
        "  print(\"Epoca:\", epoch)\n",
        "  loss = nfm.fit(train, nb_epoch=1, all_losses=losses)\n",
        "  val_loss = nfm.create_nll(val.X)\n",
        "  val_losses.append(val_loss.numpy())"
      ],
      "execution_count": null,
      "outputs": [
        {
          "output_type": "stream",
          "name": "stdout",
          "text": [
            "Epoca: 0\n",
            "WARNING:tensorflow:Model was constructed with shape (None, 2728) for input KerasTensor(type_spec=TensorSpec(shape=(None, 2728), dtype=tf.float64, name='input_1'), name='input_1', description=\"created by layer 'input_1'\"), but it was called on an input with incompatible shape (1, 128, 2728).\n",
            "WARNING:tensorflow:Model was constructed with shape (None, 2728) for input KerasTensor(type_spec=TensorSpec(shape=(None, 2728), dtype=tf.float64, name='input_1'), name='input_1', description=\"created by layer 'input_1'\"), but it was called on an input with incompatible shape (1, 128, 2728).\n",
            "WARNING:tensorflow:Model was constructed with shape (None, 2728) for input KerasTensor(type_spec=TensorSpec(shape=(None, 2728), dtype=tf.float64, name='input_1'), name='input_1', description=\"created by layer 'input_1'\"), but it was called on an input with incompatible shape (1, 128, 2728).\n",
            "WARNING:tensorflow:Model was constructed with shape (None, 2728) for input KerasTensor(type_spec=TensorSpec(shape=(None, 2728), dtype=tf.float64, name='input_1'), name='input_1', description=\"created by layer 'input_1'\"), but it was called on an input with incompatible shape (1, 128, 2728).\n",
            "WARNING:tensorflow:Model was constructed with shape (None, 2728) for input KerasTensor(type_spec=TensorSpec(shape=(None, 2728), dtype=tf.float64, name='input_1'), name='input_1', description=\"created by layer 'input_1'\"), but it was called on an input with incompatible shape (1, 128, 2728).\n",
            "WARNING:tensorflow:Model was constructed with shape (None, 2728) for input KerasTensor(type_spec=TensorSpec(shape=(None, 2728), dtype=tf.float64, name='input_1'), name='input_1', description=\"created by layer 'input_1'\"), but it was called on an input with incompatible shape (1, 128, 2728).\n",
            "WARNING:tensorflow:Model was constructed with shape (None, 2728) for input KerasTensor(type_spec=TensorSpec(shape=(None, 2728), dtype=tf.float64, name='input_1'), name='input_1', description=\"created by layer 'input_1'\"), but it was called on an input with incompatible shape (1, 128, 2728).\n",
            "WARNING:tensorflow:Model was constructed with shape (None, 2728) for input KerasTensor(type_spec=TensorSpec(shape=(None, 2728), dtype=tf.float64, name='input_1'), name='input_1', description=\"created by layer 'input_1'\"), but it was called on an input with incompatible shape (1, 128, 2728).\n",
            "WARNING:tensorflow:Model was constructed with shape (None, 2728) for input KerasTensor(type_spec=TensorSpec(shape=(None, 2728), dtype=tf.float64, name='input_1'), name='input_1', description=\"created by layer 'input_1'\"), but it was called on an input with incompatible shape (1, 128, 2728).\n",
            "WARNING:tensorflow:Model was constructed with shape (None, 2728) for input KerasTensor(type_spec=TensorSpec(shape=(None, 2728), dtype=tf.float64, name='input_1'), name='input_1', description=\"created by layer 'input_1'\"), but it was called on an input with incompatible shape (1, 128, 2728).\n",
            "WARNING:tensorflow:Model was constructed with shape (None, 2728) for input KerasTensor(type_spec=TensorSpec(shape=(None, 2728), dtype=tf.float64, name='input_1'), name='input_1', description=\"created by layer 'input_1'\"), but it was called on an input with incompatible shape (1, 128, 2728).\n",
            "WARNING:tensorflow:Model was constructed with shape (None, 2728) for input KerasTensor(type_spec=TensorSpec(shape=(None, 2728), dtype=tf.float64, name='input_1'), name='input_1', description=\"created by layer 'input_1'\"), but it was called on an input with incompatible shape (1, 128, 2728).\n",
            "WARNING:tensorflow:Model was constructed with shape (None, 2728) for input KerasTensor(type_spec=TensorSpec(shape=(None, 2728), dtype=tf.float64, name='input_1'), name='input_1', description=\"created by layer 'input_1'\"), but it was called on an input with incompatible shape (1, 128, 2728).\n",
            "WARNING:tensorflow:Model was constructed with shape (None, 2728) for input KerasTensor(type_spec=TensorSpec(shape=(None, 2728), dtype=tf.float64, name='input_1'), name='input_1', description=\"created by layer 'input_1'\"), but it was called on an input with incompatible shape (1, 128, 2728).\n",
            "WARNING:tensorflow:Model was constructed with shape (None, 2728) for input KerasTensor(type_spec=TensorSpec(shape=(None, 2728), dtype=tf.float64, name='input_1'), name='input_1', description=\"created by layer 'input_1'\"), but it was called on an input with incompatible shape (1, 128, 2728).\n",
            "WARNING:tensorflow:Model was constructed with shape (None, 2728) for input KerasTensor(type_spec=TensorSpec(shape=(None, 2728), dtype=tf.float64, name='input_1'), name='input_1', description=\"created by layer 'input_1'\"), but it was called on an input with incompatible shape (1, 128, 2728).\n",
            "WARNING:tensorflow:Model was constructed with shape (None, 2728) for input KerasTensor(type_spec=TensorSpec(shape=(None, 2728), dtype=tf.float64, name='input_1'), name='input_1', description=\"created by layer 'input_1'\"), but it was called on an input with incompatible shape (1, 128, 2728).\n",
            "WARNING:tensorflow:Model was constructed with shape (None, 2728) for input KerasTensor(type_spec=TensorSpec(shape=(None, 2728), dtype=tf.float64, name='input_1'), name='input_1', description=\"created by layer 'input_1'\"), but it was called on an input with incompatible shape (1, 128, 2728).\n",
            "WARNING:tensorflow:Model was constructed with shape (None, 2728) for input KerasTensor(type_spec=TensorSpec(shape=(None, 2728), dtype=tf.float64, name='input_1'), name='input_1', description=\"created by layer 'input_1'\"), but it was called on an input with incompatible shape (1, 128, 2728).\n",
            "WARNING:tensorflow:Model was constructed with shape (None, 2728) for input KerasTensor(type_spec=TensorSpec(shape=(None, 2728), dtype=tf.float64, name='input_1'), name='input_1', description=\"created by layer 'input_1'\"), but it was called on an input with incompatible shape (1, 128, 2728).\n",
            "WARNING:tensorflow:Model was constructed with shape (None, 2728) for input KerasTensor(type_spec=TensorSpec(shape=(None, 2728), dtype=tf.float64, name='input_1'), name='input_1', description=\"created by layer 'input_1'\"), but it was called on an input with incompatible shape (1, 128, 2728).\n",
            "WARNING:tensorflow:Model was constructed with shape (None, 2728) for input KerasTensor(type_spec=TensorSpec(shape=(None, 2728), dtype=tf.float64, name='input_1'), name='input_1', description=\"created by layer 'input_1'\"), but it was called on an input with incompatible shape (1, 128, 2728).\n",
            "WARNING:tensorflow:Model was constructed with shape (None, 2728) for input KerasTensor(type_spec=TensorSpec(shape=(None, 2728), dtype=tf.float64, name='input_1'), name='input_1', description=\"created by layer 'input_1'\"), but it was called on an input with incompatible shape (1, 128, 2728).\n",
            "WARNING:tensorflow:Model was constructed with shape (None, 2728) for input KerasTensor(type_spec=TensorSpec(shape=(None, 2728), dtype=tf.float64, name='input_1'), name='input_1', description=\"created by layer 'input_1'\"), but it was called on an input with incompatible shape (1, 128, 2728).\n",
            "WARNING:tensorflow:Model was constructed with shape (None, 2728) for input KerasTensor(type_spec=TensorSpec(shape=(None, 2728), dtype=tf.float64, name='input_1'), name='input_1', description=\"created by layer 'input_1'\"), but it was called on an input with incompatible shape (1, 128, 2728).\n",
            "WARNING:tensorflow:Model was constructed with shape (None, 2728) for input KerasTensor(type_spec=TensorSpec(shape=(None, 2728), dtype=tf.float64, name='input_1'), name='input_1', description=\"created by layer 'input_1'\"), but it was called on an input with incompatible shape (1, 128, 2728).\n",
            "WARNING:tensorflow:Model was constructed with shape (None, 2728) for input KerasTensor(type_spec=TensorSpec(shape=(None, 2728), dtype=tf.float64, name='input_1'), name='input_1', description=\"created by layer 'input_1'\"), but it was called on an input with incompatible shape (1, 128, 2728).\n",
            "WARNING:tensorflow:Model was constructed with shape (None, 2728) for input KerasTensor(type_spec=TensorSpec(shape=(None, 2728), dtype=tf.float64, name='input_1'), name='input_1', description=\"created by layer 'input_1'\"), but it was called on an input with incompatible shape (1, 128, 2728).\n",
            "WARNING:tensorflow:Model was constructed with shape (None, 2728) for input KerasTensor(type_spec=TensorSpec(shape=(None, 2728), dtype=tf.float64, name='input_1'), name='input_1', description=\"created by layer 'input_1'\"), but it was called on an input with incompatible shape (1, 128, 2728).\n",
            "WARNING:tensorflow:Model was constructed with shape (None, 2728) for input KerasTensor(type_spec=TensorSpec(shape=(None, 2728), dtype=tf.float64, name='input_1'), name='input_1', description=\"created by layer 'input_1'\"), but it was called on an input with incompatible shape (1, 128, 2728).\n",
            "WARNING:tensorflow:Model was constructed with shape (None, 2728) for input KerasTensor(type_spec=TensorSpec(shape=(None, 2728), dtype=tf.float64, name='input_1'), name='input_1', description=\"created by layer 'input_1'\"), but it was called on an input with incompatible shape (1, 128, 2728).\n",
            "WARNING:tensorflow:Model was constructed with shape (None, 2728) for input KerasTensor(type_spec=TensorSpec(shape=(None, 2728), dtype=tf.float64, name='input_1'), name='input_1', description=\"created by layer 'input_1'\"), but it was called on an input with incompatible shape (1, 128, 2728).\n",
            "Epoca: 1\n",
            "Epoca: 2\n",
            "Epoca: 3\n",
            "Epoca: 4\n",
            "Epoca: 5\n",
            "Epoca: 6\n",
            "Epoca: 7\n",
            "Epoca: 8\n",
            "Epoca: 9\n",
            "Epoca: 10\n",
            "Epoca: 11\n",
            "Epoca: 12\n",
            "Epoca: 13\n",
            "Epoca: 14\n",
            "Epoca: 15\n",
            "Epoca: 16\n",
            "Epoca: 17\n",
            "Epoca: 18\n",
            "Epoca: 19\n"
          ]
        }
      ]
    },
    {
      "cell_type": "code",
      "metadata": {
        "colab": {
          "base_uri": "https://localhost:8080/",
          "height": 265
        },
        "id": "TPLuSLOOAkk-",
        "outputId": "c932388b-e2d7-4f0c-c695-e199e31d49ae"
      },
      "source": [
        "f, ax = plt.subplots()\n",
        "ax.scatter(range(len(losses)), losses, label='train loss')\n",
        "ax.scatter(range(len(val_losses)), val_losses, label='val loss')\n",
        "plt.legend(loc='upper right');"
      ],
      "execution_count": null,
      "outputs": [
        {
          "output_type": "display_data",
          "data": {
            "image/png": "[encoded data removed]",
            "text/plain": [
              "<Figure size 432x288 with 1 Axes>"
            ]
          },
          "metadata": {
            "needs_background": "light"
          }
        }
      ]
    },
    {
      "cell_type": "code",
      "metadata": {
        "id": "KZde3wKFAknl"
      },
      "source": [
        "generated_samples = nfm.flow.sample(5)  # generative modeling\n",
        "log_probs = nfm.flow.log_prob(generated_samples)  # probability density estimation"
      ],
      "execution_count": null,
      "outputs": []
    },
    {
      "cell_type": "code",
      "metadata": {
        "id": "sEzJtSNSBBhJ"
      },
      "source": [
        "mols = tf.math.floor(generated_samples)  # quantize data\n",
        "mols = tf.clip_by_value(mols, 0, 1)  # Set negative values to 0 and values > 1 to 1\n",
        "mols_list = mols.numpy().tolist()\n",
        "\n",
        "# Add padding characters if needed\n",
        "for mol in mols_list:\n",
        "  for i in range(largest_selfie_len):\n",
        "    row = mol[len(selfies_alphabet) * i: len(selfies_alphabet) * (i + 1)]\n",
        "    if all(elem == 0 for elem in row):\n",
        "      try:\n",
        "        mol[len(selfies_alphabet) * (i+1) - 1] = 1\n",
        "      except:\n",
        "        #print(\"descarto los nopx que había agregado\")\n",
        "        pass"
      ],
      "execution_count": null,
      "outputs": []
    },
    {
      "cell_type": "code",
      "metadata": {
        "id": "D-qiWfpFBBnb"
      },
      "source": [
        "mols = sf.batch_flat_hot_to_selfies(mols_list, selfies_alphabet)"
      ],
      "execution_count": null,
      "outputs": []
    },
    {
      "cell_type": "code",
      "metadata": {
        "colab": {
          "base_uri": "https://localhost:8080/",
          "height": 69
        },
        "id": "PwGD1rYlFsVc",
        "outputId": "45d29a3c-e7a7-4f0b-cf36-1e4fdb72b757"
      },
      "source": [
        "mols[1]"
      ],
      "execution_count": null,
      "outputs": [
        {
          "output_type": "execute_result",
          "data": {
            "application/vnd.google.colaboratory.intrinsic+json": {
              "type": "string"
            },
            "text/plain": [
              "'[Hexpl][/N+expl][#C][=C][=O][Branch2_2][Branch1_2][Branch1_1][=C][nop][Branch1_1][=N+expl][Branch1_1][C][C][Branch1_1][nop][Hexpl][=N+expl][=C][=C][Branch1_1][=C][=O][nop][C][Branch2_3][=N+expl][/Hexpl][=N+expl][#N][#C][Branch2_1][=O][Branch1_3][Branch1_1][C-expl][Branch1_1][nop][=N][=O][Branch2_3][Branch2_3][=C][Branch1_2][Branch1_1][nop][Cexpl][#N][/N+expl][NH+expl][#N][O][Expl=Ring2][C+expl][/O][Branch2_3][=O][Branch1_3][O-expl][nop][/N+expl]'"
            ]
          },
          "metadata": {},
          "execution_count": 41
        }
      ]
    },
    {
      "cell_type": "code",
      "metadata": {
        "colab": {
          "base_uri": "https://localhost:8080/"
        },
        "id": "9dNFeW6ABBpb",
        "outputId": "f27ad1f9-df10-43ac-d9f3-d0cf049d4056"
      },
      "source": [
        "from rdkit import RDLogger  \n",
        "from rdkit import Chem\n",
        "RDLogger.DisableLog('rdApp.*')  # suppress error messages\n",
        "\n",
        "valid_count = 0\n",
        "valid_selfies, invalid_selfies = [], []\n",
        "for idx, selfies in enumerate(mols):\n",
        "  try:\n",
        "    if Chem.MolFromSmiles(sf.decoder(mols[idx]), sanitize=True) is not None:\n",
        "        valid_count += 1\n",
        "        valid_selfies.append(selfies)\n",
        "    else:\n",
        "      invalid_selfies.append(selfies)\n",
        "  except Exception:\n",
        "    pass\n",
        "print('%.2f' % (100 * valid_count / len(mols)),  '% of generated samples are valid molecules.')"
      ],
      "execution_count": null,
      "outputs": [
        {
          "output_type": "stream",
          "name": "stdout",
          "text": [
            "100.00 % of generated samples are valid molecules.\n"
          ]
        }
      ]
    },
    {
      "cell_type": "code",
      "metadata": {
        "id": "CXwcr7xZBBsV"
      },
      "source": [
        "gen_mols = [Chem.MolFromSmiles(sf.decoder(vs)) for vs in valid_selfies]"
      ],
      "execution_count": null,
      "outputs": []
    },
    {
      "cell_type": "code",
      "metadata": {
        "colab": {
          "base_uri": "https://localhost:8080/"
        },
        "id": "hiTJg03RMN5z",
        "outputId": "47f51f3e-96dc-462a-82b0-9a549f27a8b9"
      },
      "source": [
        "gen_mols"
      ],
      "execution_count": null,
      "outputs": [
        {
          "output_type": "execute_result",
          "data": {
            "text/plain": [
              "[<rdkit.Chem.rdchem.Mol at 0x7fa6885b77b0>,\n",
              " <rdkit.Chem.rdchem.Mol at 0x7fa6885b7d50>,\n",
              " <rdkit.Chem.rdchem.Mol at 0x7fa68854ad00>,\n",
              " <rdkit.Chem.rdchem.Mol at 0x7fa68854adf0>,\n",
              " <rdkit.Chem.rdchem.Mol at 0x7fa68854aa80>]"
            ]
          },
          "metadata": {},
          "execution_count": 44
        }
      ]
    },
    {
      "cell_type": "code",
      "metadata": {
        "id": "ZPd5cWUPBBvR"
      },
      "source": [
        "\n",
        "def display_images(filenames):\n",
        "    \"\"\"Helper to pretty-print images.\"\"\"\n",
        "    for file in filenames:\n",
        "      display(Image(file))\n",
        "\n",
        "def mols_to_pngs(mols, basename=\"generated_mol\"):\n",
        "    \"\"\"Helper to write RDKit mols to png files.\"\"\"\n",
        "    filenames = []\n",
        "    for i, mol in enumerate(mols):\n",
        "        filename = \"%s%d.png\" % (basename, i)\n",
        "        Draw.MolToFile(mol, filename)\n",
        "        filenames.append(filename)\n",
        "    return filenames"
      ],
      "execution_count": null,
      "outputs": []
    },
    {
      "cell_type": "code",
      "metadata": {
        "colab": {
          "base_uri": "https://localhost:8080/",
          "height": 1000
        },
        "id": "TJDN-orSBY_s",
        "outputId": "a5eed5d4-8c07-47cd-ea02-1597a4e189a1"
      },
      "source": [
        "\n",
        "display_mols = []\n",
        "for i in range(len(gen_mols)):\n",
        "  display_mols.append(gen_mols[i])\n",
        "\n",
        "display_images(mols_to_pngs(display_mols))"
      ],
      "execution_count": null,
      "outputs": [
        {
          "output_type": "display_data",
          "data": {
            "image/png": "[encoded data removed]",
            "text/plain": [
              "<IPython.core.display.Image object>"
            ]
          },
          "metadata": {}
        },
        {
          "output_type": "display_data",
          "data": {
            "image/png": "[encoded data removed]",
            "text/plain": [
              "<IPython.core.display.Image object>"
            ]
          },
          "metadata": {}
        },
        {
          "output_type": "display_data",
          "data": {
            "image/png": "[encoded data removed]",
            "text/plain": [
              "<IPython.core.display.Image object>"
            ]
          },
          "metadata": {}
        },
        {
          "output_type": "display_data",
          "data": {
            "image/png": "[encoded data removed]",
            "text/plain": [
              "<IPython.core.display.Image object>"
            ]
          },
          "metadata": {}
        },
        {
          "output_type": "display_data",
          "data": {
            "image/png": "[encoded data removed]",
            "text/plain": [
              "<IPython.core.display.Image object>"
            ]
          },
          "metadata": {}
        }
      ]
    },
    {
      "cell_type": "code",
      "metadata": {
        "id": "W9jM-pMMBhbr"
      },
      "source": [
        "from rdkit.Chem.Fingerprints.FingerprintMols import FingerprintMol\n",
        "from rdkit.DataStructs import FingerprintSimilarity\n",
        "from IPython.display import display\n",
        "\n",
        "def tanimoto_similarity(database_mols, query_mol):\n",
        "    \"\"\"Compare generated molecules to database by Tanimoto similarity.\"\"\"\n",
        "    # convert Mol to datastructure type\n",
        "    fps = [FingerprintMol(m) for m in database_mols]\n",
        "    \n",
        "    # set a query molecule to compare against database\n",
        "    query = FingerprintMol(query_mol)\n",
        "    \n",
        "    similarities = []\n",
        "    \n",
        "    # loop through to find Tanimoto similarity\n",
        "    for idx, f in enumerate(fps):\n",
        "        # tuple: (idx, similarity)\n",
        "        similarities.append((idx, FingerprintSimilarity(query, f)))\n",
        "    \n",
        "    # sort sim using the similarities\n",
        "    similarities.sort(key=lambda x:x[1], reverse=True)\n",
        "    \n",
        "    return similarities"
      ],
      "execution_count": null,
      "outputs": []
    },
    {
      "cell_type": "code",
      "metadata": {
        "id": "A97aFdNLBhjh"
      },
      "source": [
        "train_mols = [Chem.MolFromSmiles(smiles) for smiles in train_smiles]"
      ],
      "execution_count": null,
      "outputs": []
    },
    {
      "cell_type": "code",
      "metadata": {
        "id": "TSSeDv2RBqcE"
      },
      "source": [
        "def displaySimilares(tanimoto_scores, similar_mols):\n",
        "\n",
        "  for x in range(3):\n",
        "      #print(round(tanimoto_scores[x], 3))\n",
        "      pass\n",
        "  display_images(mols_to_pngs(similar_mols, 'qm9_mol'))"
      ],
      "execution_count": null,
      "outputs": []
    },
    {
      "cell_type": "code",
      "metadata": {
        "colab": {
          "base_uri": "https://localhost:8080/",
          "height": 1000
        },
        "id": "-ziC61E3Bhmr",
        "outputId": "a19d2dbe-66a9-4464-9051-f3130e0b5bd1"
      },
      "source": [
        "\n",
        "for i in range(len(gen_mols)):\n",
        "  print(\"REVISANDO MOLECULA:\", i)\n",
        "  display_images(mols_to_pngs([gen_mols[i]]))\n",
        "  print(\"LASM MOLECULAS MAS PARECIDAS ENCONTRADAS SON:\")\n",
        "  # change the second argument to compare different generated molecules to QM9\n",
        "  tanimoto_scores = tanimoto_similarity(train_mols, gen_mols[i])\n",
        "  similar_mols = []\n",
        "  for idx, ts in tanimoto_scores[:3]:\n",
        "      print(round(ts, 3))\n",
        "      similar_mols.append(train_mols[idx])\n",
        "   \n",
        "  displaySimilares(tanimoto_scores, similar_mols)"
      ],
      "execution_count": null,
      "outputs": [
        {
          "output_type": "stream",
          "name": "stdout",
          "text": [
            "REVISANDO MOLECULA: 0\n"
          ]
        },
        {
          "output_type": "display_data",
          "data": {
            "image/png": "[encoded data removed]",
            "text/plain": [
              "<IPython.core.display.Image object>"
            ]
          },
          "metadata": {}
        },
        {
          "output_type": "stream",
          "name": "stdout",
          "text": [
            "LASM MOLECULAS MAS PARECIDAS ENCONTRADAS SON:\n",
            "0.366\n",
            "0.343\n",
            "0.333\n"
          ]
        },
        {
          "output_type": "display_data",
          "data": {
            "image/png": "[encoded data removed]",
            "text/plain": [
              "<IPython.core.display.Image object>"
            ]
          },
          "metadata": {}
        },
        {
          "output_type": "display_data",
          "data": {
            "image/png": "[encoded data removed]",
            "text/plain": [
              "<IPython.core.display.Image object>"
            ]
          },
          "metadata": {}
        },
        {
          "output_type": "display_data",
          "data": {
            "image/png": "[encoded data removed]",
            "text/plain": [
              "<IPython.core.display.Image object>"
            ]
          },
          "metadata": {}
        },
        {
          "output_type": "stream",
          "name": "stdout",
          "text": [
            "REVISANDO MOLECULA: 1\n"
          ]
        },
        {
          "output_type": "display_data",
          "data": {
            "image/png": "[encoded data removed]",
            "text/plain": [
              "<IPython.core.display.Image object>"
            ]
          },
          "metadata": {}
        },
        {
          "output_type": "stream",
          "name": "stdout",
          "text": [
            "LASM MOLECULAS MAS PARECIDAS ENCONTRADAS SON:\n",
            "0.333\n",
            "0.321\n",
            "0.3\n"
          ]
        },
        {
          "output_type": "display_data",
          "data": {
            "image/png": "[encoded data removed]",
            "text/plain": [
              "<IPython.core.display.Image object>"
            ]
          },
          "metadata": {}
        },
        {
          "output_type": "display_data",
          "data": {
            "image/png": "[encoded data removed]",
            "text/plain": [
              "<IPython.core.display.Image object>"
            ]
          },
          "metadata": {}
        },
        {
          "output_type": "display_data",
          "data": {
            "image/png": "[encoded data removed]",
            "text/plain": [
              "<IPython.core.display.Image object>"
            ]
          },
          "metadata": {}
        },
        {
          "output_type": "stream",
          "name": "stdout",
          "text": [
            "REVISANDO MOLECULA: 2\n"
          ]
        },
        {
          "output_type": "display_data",
          "data": {
            "image/png": "[encoded data removed]",
            "text/plain": [
              "<IPython.core.display.Image object>"
            ]
          },
          "metadata": {}
        },
        {
          "output_type": "stream",
          "name": "stdout",
          "text": [
            "LASM MOLECULAS MAS PARECIDAS ENCONTRADAS SON:\n",
            "0.49\n",
            "0.46\n",
            "0.454\n"
          ]
        },
        {
          "output_type": "display_data",
          "data": {
            "image/png": "[encoded data removed]",
            "text/plain": [
              "<IPython.core.display.Image object>"
            ]
          },
          "metadata": {}
        },
        {
          "output_type": "display_data",
          "data": {
            "image/png": "[encoded data removed]",
            "text/plain": [
              "<IPython.core.display.Image object>"
            ]
          },
          "metadata": {}
        },
        {
          "output_type": "display_data",
          "data": {
            "image/png": "[encoded data removed]",
            "text/plain": [
              "<IPython.core.display.Image object>"
            ]
          },
          "metadata": {}
        },
        {
          "output_type": "stream",
          "name": "stdout",
          "text": [
            "REVISANDO MOLECULA: 3\n"
          ]
        },
        {
          "output_type": "display_data",
          "data": {
            "image/png": "[encoded data removed]",
            "text/plain": [
              "<IPython.core.display.Image object>"
            ]
          },
          "metadata": {}
        },
        {
          "output_type": "stream",
          "name": "stdout",
          "text": [
            "LASM MOLECULAS MAS PARECIDAS ENCONTRADAS SON:\n",
            "0.312\n",
            "0.31\n",
            "0.3\n"
          ]
        },
        {
          "output_type": "display_data",
          "data": {
            "image/png": "[encoded data removed]",
            "text/plain": [
              "<IPython.core.display.Image object>"
            ]
          },
          "metadata": {}
        },
        {
          "output_type": "display_data",
          "data": {
            "image/png": "[encoded data removed]",
            "text/plain": [
              "<IPython.core.display.Image object>"
            ]
          },
          "metadata": {}
        },
        {
          "output_type": "display_data",
          "data": {
            "image/png": "[encoded data removed]",
            "text/plain": [
              "<IPython.core.display.Image object>"
            ]
          },
          "metadata": {}
        },
        {
          "output_type": "stream",
          "name": "stdout",
          "text": [
            "REVISANDO MOLECULA: 4\n"
          ]
        },
        {
          "output_type": "display_data",
          "data": {
            "image/png": "[encoded data removed]",
            "text/plain": [
              "<IPython.core.display.Image object>"
            ]
          },
          "metadata": {}
        },
        {
          "output_type": "stream",
          "name": "stdout",
          "text": [
            "LASM MOLECULAS MAS PARECIDAS ENCONTRADAS SON:\n",
            "0.095\n",
            "0.077\n",
            "0.069\n"
          ]
        },
        {
          "output_type": "display_data",
          "data": {
            "image/png": "[encoded data removed]",
            "text/plain": [
              "<IPython.core.display.Image object>"
            ]
          },
          "metadata": {}
        },
        {
          "output_type": "display_data",
          "data": {
            "image/png": "[encoded data removed]",
            "text/plain": [
              "<IPython.core.display.Image object>"
            ]
          },
          "metadata": {}
        },
        {
          "output_type": "display_data",
          "data": {
            "image/png": "[encoded data removed]",
            "text/plain": [
              "<IPython.core.display.Image object>"
            ]
          },
          "metadata": {}
        }
      ]
    }
  ]
}