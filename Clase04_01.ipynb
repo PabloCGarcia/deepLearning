{
  "nbformat": 4,
  "nbformat_minor": 0,
  "metadata": {
    "colab": {
      "provenance": [],
      "collapsed_sections": [],
      "include_colab_link": true
    },
    "kernelspec": {
      "name": "python3",
      "display_name": "Python 3"
    }
  },
  "cells": [
    {
      "cell_type": "markdown",
      "metadata": {
        "id": "view-in-github",
        "colab_type": "text"
      },
      "source": [
        "<a href=\"https://colab.research.google.com/github/PabloCGarcia/deepLearning/blob/main/Clase04_01.ipynb\" target=\"_parent\"><img src=\"https://colab.research.google.com/assets/colab-badge.svg\" alt=\"Open In Colab\"/></a>"
      ]
    },
    {
      "cell_type": "code",
      "metadata": {
        "id": "15VNoS0m8vS8",
        "colab": {
          "base_uri": "https://localhost:8080/"
        },
        "outputId": "93539c69-2a8f-43a5-8f8e-fd8a68356a88"
      },
      "source": [
        "from google.colab import drive\n",
        "drive.mount('/content/drive')"
      ],
      "execution_count": 1,
      "outputs": [
        {
          "output_type": "stream",
          "name": "stdout",
          "text": [
            "Mounted at /content/drive\n"
          ]
        }
      ]
    },
    {
      "cell_type": "code",
      "metadata": {
        "id": "XcsFCVyTD5hQ",
        "colab": {
          "base_uri": "https://localhost:8080/",
          "height": 250
        },
        "outputId": "74520111-6ad7-4e67-cbbe-4fefd8276dbb"
      },
      "source": [
        "import pandas as pd\n",
        "import numpy as np\n",
        "\n",
        "red_wine = pd.read_csv('/content/drive/MyDrive/winequality-red.csv')\n",
        "red_wine.head()"
      ],
      "execution_count": 22,
      "outputs": [
        {
          "output_type": "execute_result",
          "data": {
            "text/plain": [
              "   fixed acidity  volatile acidity  citric acid  residual sugar  chlorides  \\\n",
              "0            7.4              0.70         0.00             1.9      0.076   \n",
              "1            7.8              0.88         0.00             2.6      0.098   \n",
              "2            7.8              0.76         0.04             2.3      0.092   \n",
              "3           11.2              0.28         0.56             1.9      0.075   \n",
              "4            7.4              0.70         0.00             1.9      0.076   \n",
              "\n",
              "   free sulfur dioxide  total sulfur dioxide  density    pH  sulphates  \\\n",
              "0                 11.0                  34.0   0.9978  3.51       0.56   \n",
              "1                 25.0                  67.0   0.9968  3.20       0.68   \n",
              "2                 15.0                  54.0   0.9970  3.26       0.65   \n",
              "3                 17.0                  60.0   0.9980  3.16       0.58   \n",
              "4                 11.0                  34.0   0.9978  3.51       0.56   \n",
              "\n",
              "   alcohol  quality  \n",
              "0      9.4        5  \n",
              "1      9.8        5  \n",
              "2      9.8        5  \n",
              "3      9.8        6  \n",
              "4      9.4        5  "
            ],
            "text/html": [
              "\n",
              "  <div id=\"df-5a64aa49-830b-499d-9203-a65263b5a700\">\n",
              "    <div class=\"colab-df-container\">\n",
              "      <div>\n",
              "<style scoped>\n",
              "    .dataframe tbody tr th:only-of-type {\n",
              "        vertical-align: middle;\n",
              "    }\n",
              "\n",
              "    .dataframe tbody tr th {\n",
              "        vertical-align: top;\n",
              "    }\n",
              "\n",
              "    .dataframe thead th {\n",
              "        text-align: right;\n",
              "    }\n",
              "</style>\n",
              "<table border=\"1\" class=\"dataframe\">\n",
              "  <thead>\n",
              "    <tr style=\"text-align: right;\">\n",
              "      <th></th>\n",
              "      <th>fixed acidity</th>\n",
              "      <th>volatile acidity</th>\n",
              "      <th>citric acid</th>\n",
              "      <th>residual sugar</th>\n",
              "      <th>chlorides</th>\n",
              "      <th>free sulfur dioxide</th>\n",
              "      <th>total sulfur dioxide</th>\n",
              "      <th>density</th>\n",
              "      <th>pH</th>\n",
              "      <th>sulphates</th>\n",
              "      <th>alcohol</th>\n",
              "      <th>quality</th>\n",
              "    </tr>\n",
              "  </thead>\n",
              "  <tbody>\n",
              "    <tr>\n",
              "      <th>0</th>\n",
              "      <td>7.4</td>\n",
              "      <td>0.70</td>\n",
              "      <td>0.00</td>\n",
              "      <td>1.9</td>\n",
              "      <td>0.076</td>\n",
              "      <td>11.0</td>\n",
              "      <td>34.0</td>\n",
              "      <td>0.9978</td>\n",
              "      <td>3.51</td>\n",
              "      <td>0.56</td>\n",
              "      <td>9.4</td>\n",
              "      <td>5</td>\n",
              "    </tr>\n",
              "    <tr>\n",
              "      <th>1</th>\n",
              "      <td>7.8</td>\n",
              "      <td>0.88</td>\n",
              "      <td>0.00</td>\n",
              "      <td>2.6</td>\n",
              "      <td>0.098</td>\n",
              "      <td>25.0</td>\n",
              "      <td>67.0</td>\n",
              "      <td>0.9968</td>\n",
              "      <td>3.20</td>\n",
              "      <td>0.68</td>\n",
              "      <td>9.8</td>\n",
              "      <td>5</td>\n",
              "    </tr>\n",
              "    <tr>\n",
              "      <th>2</th>\n",
              "      <td>7.8</td>\n",
              "      <td>0.76</td>\n",
              "      <td>0.04</td>\n",
              "      <td>2.3</td>\n",
              "      <td>0.092</td>\n",
              "      <td>15.0</td>\n",
              "      <td>54.0</td>\n",
              "      <td>0.9970</td>\n",
              "      <td>3.26</td>\n",
              "      <td>0.65</td>\n",
              "      <td>9.8</td>\n",
              "      <td>5</td>\n",
              "    </tr>\n",
              "    <tr>\n",
              "      <th>3</th>\n",
              "      <td>11.2</td>\n",
              "      <td>0.28</td>\n",
              "      <td>0.56</td>\n",
              "      <td>1.9</td>\n",
              "      <td>0.075</td>\n",
              "      <td>17.0</td>\n",
              "      <td>60.0</td>\n",
              "      <td>0.9980</td>\n",
              "      <td>3.16</td>\n",
              "      <td>0.58</td>\n",
              "      <td>9.8</td>\n",
              "      <td>6</td>\n",
              "    </tr>\n",
              "    <tr>\n",
              "      <th>4</th>\n",
              "      <td>7.4</td>\n",
              "      <td>0.70</td>\n",
              "      <td>0.00</td>\n",
              "      <td>1.9</td>\n",
              "      <td>0.076</td>\n",
              "      <td>11.0</td>\n",
              "      <td>34.0</td>\n",
              "      <td>0.9978</td>\n",
              "      <td>3.51</td>\n",
              "      <td>0.56</td>\n",
              "      <td>9.4</td>\n",
              "      <td>5</td>\n",
              "    </tr>\n",
              "  </tbody>\n",
              "</table>\n",
              "</div>\n",
              "      <button class=\"colab-df-convert\" onclick=\"convertToInteractive('df-5a64aa49-830b-499d-9203-a65263b5a700')\"\n",
              "              title=\"Convert this dataframe to an interactive table.\"\n",
              "              style=\"display:none;\">\n",
              "        \n",
              "  <svg xmlns=\"http://www.w3.org/2000/svg\" height=\"24px\"viewBox=\"0 0 24 24\"\n",
              "       width=\"24px\">\n",
              "    <path d=\"M0 0h24v24H0V0z\" fill=\"none\"/>\n",
              "    <path d=\"M18.56 5.44l.94 2.06.94-2.06 2.06-.94-2.06-.94-.94-2.06-.94 2.06-2.06.94zm-11 1L8.5 8.5l.94-2.06 2.06-.94-2.06-.94L8.5 2.5l-.94 2.06-2.06.94zm10 10l.94 2.06.94-2.06 2.06-.94-2.06-.94-.94-2.06-.94 2.06-2.06.94z\"/><path d=\"M17.41 7.96l-1.37-1.37c-.4-.4-.92-.59-1.43-.59-.52 0-1.04.2-1.43.59L10.3 9.45l-7.72 7.72c-.78.78-.78 2.05 0 2.83L4 21.41c.39.39.9.59 1.41.59.51 0 1.02-.2 1.41-.59l7.78-7.78 2.81-2.81c.8-.78.8-2.07 0-2.86zM5.41 20L4 18.59l7.72-7.72 1.47 1.35L5.41 20z\"/>\n",
              "  </svg>\n",
              "      </button>\n",
              "      \n",
              "  <style>\n",
              "    .colab-df-container {\n",
              "      display:flex;\n",
              "      flex-wrap:wrap;\n",
              "      gap: 12px;\n",
              "    }\n",
              "\n",
              "    .colab-df-convert {\n",
              "      background-color: #E8F0FE;\n",
              "      border: none;\n",
              "      border-radius: 50%;\n",
              "      cursor: pointer;\n",
              "      display: none;\n",
              "      fill: #1967D2;\n",
              "      height: 32px;\n",
              "      padding: 0 0 0 0;\n",
              "      width: 32px;\n",
              "    }\n",
              "\n",
              "    .colab-df-convert:hover {\n",
              "      background-color: #E2EBFA;\n",
              "      box-shadow: 0px 1px 2px rgba(60, 64, 67, 0.3), 0px 1px 3px 1px rgba(60, 64, 67, 0.15);\n",
              "      fill: #174EA6;\n",
              "    }\n",
              "\n",
              "    [theme=dark] .colab-df-convert {\n",
              "      background-color: #3B4455;\n",
              "      fill: #D2E3FC;\n",
              "    }\n",
              "\n",
              "    [theme=dark] .colab-df-convert:hover {\n",
              "      background-color: #434B5C;\n",
              "      box-shadow: 0px 1px 3px 1px rgba(0, 0, 0, 0.15);\n",
              "      filter: drop-shadow(0px 1px 2px rgba(0, 0, 0, 0.3));\n",
              "      fill: #FFFFFF;\n",
              "    }\n",
              "  </style>\n",
              "\n",
              "      <script>\n",
              "        const buttonEl =\n",
              "          document.querySelector('#df-5a64aa49-830b-499d-9203-a65263b5a700 button.colab-df-convert');\n",
              "        buttonEl.style.display =\n",
              "          google.colab.kernel.accessAllowed ? 'block' : 'none';\n",
              "\n",
              "        async function convertToInteractive(key) {\n",
              "          const element = document.querySelector('#df-5a64aa49-830b-499d-9203-a65263b5a700');\n",
              "          const dataTable =\n",
              "            await google.colab.kernel.invokeFunction('convertToInteractive',\n",
              "                                                     [key], {});\n",
              "          if (!dataTable) return;\n",
              "\n",
              "          const docLinkHtml = 'Like what you see? Visit the ' +\n",
              "            '<a target=\"_blank\" href=https://colab.research.google.com/notebooks/data_table.ipynb>data table notebook</a>'\n",
              "            + ' to learn more about interactive tables.';\n",
              "          element.innerHTML = '';\n",
              "          dataTable['output_type'] = 'display_data';\n",
              "          await google.colab.output.renderOutput(dataTable, element);\n",
              "          const docLink = document.createElement('div');\n",
              "          docLink.innerHTML = docLinkHtml;\n",
              "          element.appendChild(docLink);\n",
              "        }\n",
              "      </script>\n",
              "    </div>\n",
              "  </div>\n",
              "  "
            ]
          },
          "metadata": {},
          "execution_count": 22
        }
      ]
    },
    {
      "cell_type": "code",
      "source": [
        "from tensorflow.keras.utils import to_categorical\n",
        "\n",
        "x = red_wine.copy()\n",
        "quality = x.pop('quality')\n",
        "x = np.asarray(x)\n",
        "qualitynpa = quality.to_numpy()\n",
        "quality2d=qualitynpa.reshape(-1,1)\n",
        "y = to_categorical(quality2d)\n",
        "#enc = OneHotEncoder(handle_unknown='ignore')\n",
        "#encTrained=enc.fit(quality2d)\n",
        "#y=encTrained.transform(quality2d)\n",
        "\n",
        "print(y[1], quality2d[1])"
      ],
      "metadata": {
        "colab": {
          "base_uri": "https://localhost:8080/"
        },
        "id": "W3-eEM-E4c2h",
        "outputId": "716a3120-d084-40bc-b541-ceb8b2c9b4b8"
      },
      "execution_count": 92,
      "outputs": [
        {
          "output_type": "stream",
          "name": "stdout",
          "text": [
            "[0. 0. 0. 0. 0. 1. 0. 0. 0.] [5]\n"
          ]
        }
      ]
    },
    {
      "cell_type": "code",
      "metadata": {
        "id": "TVXzmBqBD_Wl"
      },
      "source": [
        "import tensorflow as tf\n",
        "from tensorflow import keras\n",
        "from tensorflow.keras import layers\n",
        "from tensorflow.keras.utils import to_categorical\n",
        "\n",
        "model = keras.Sequential([\n",
        "    layers.Dense(512, activation='relu', input_shape=[11]),\n",
        "    layers.Dropout(0.5),\n",
        "    layers.BatchNormalization(),\n",
        "    layers.Dense(512, activation='relu'),\n",
        "    layers.Dropout(0.5),\n",
        "    layers.Dense(9, activation=\"softmax\"),\n",
        "])\n",
        "\n"
      ],
      "execution_count": 88,
      "outputs": []
    },
    {
      "cell_type": "code",
      "metadata": {
        "id": "ziQTAmkuEQDw"
      },
      "source": [
        "model.compile(\n",
        "    optimizer='adam',\n",
        "    loss='categorical_crossentropy',\n",
        "    metrics=[\"accuracy\"]\n",
        ")"
      ],
      "execution_count": 72,
      "outputs": []
    },
    {
      "cell_type": "code",
      "metadata": {
        "id": "Ihwui3d7Et3V"
      },
      "source": [
        "from sklearn.model_selection import train_test_split\n",
        "\n",
        "X_train, X_valid, Y_train, Y_valid = train_test_split(x, y, test_size=0.33)"
      ],
      "execution_count": 48,
      "outputs": []
    },
    {
      "cell_type": "code",
      "source": [
        "early_stopping = keras.callbacks.EarlyStopping(\n",
        "    patience=30,\n",
        "    min_delta=0.000001,\n",
        "    restore_best_weights=True,\n",
        ")"
      ],
      "metadata": {
        "id": "IW69zEi09ldH"
      },
      "execution_count": 69,
      "outputs": []
    },
    {
      "cell_type": "code",
      "metadata": {
        "id": "NzZikYuWEuE3",
        "colab": {
          "base_uri": "https://localhost:8080/"
        },
        "outputId": "042c18b9-b576-4062-a7bd-b3378dee5bd2"
      },
      "source": [
        "history = model.fit(\n",
        "    X_train, Y_train,\n",
        "    validation_data=(X_valid, Y_valid),\n",
        "    batch_size=64,\n",
        "    epochs=100,\n",
        "    callbacks=[early_stopping]\n",
        ")"
      ],
      "execution_count": 73,
      "outputs": [
        {
          "output_type": "stream",
          "name": "stdout",
          "text": [
            "Epoch 1/100\n",
            "17/17 [==============================] - 1s 23ms/step - loss: 0.9947 - accuracy: 0.5780 - val_loss: 1.0794 - val_accuracy: 0.5265\n",
            "Epoch 2/100\n",
            "17/17 [==============================] - 0s 11ms/step - loss: 0.9836 - accuracy: 0.5686 - val_loss: 1.1027 - val_accuracy: 0.5473\n",
            "Epoch 3/100\n",
            "17/17 [==============================] - 0s 12ms/step - loss: 0.9664 - accuracy: 0.5780 - val_loss: 1.1152 - val_accuracy: 0.5436\n",
            "Epoch 4/100\n",
            "17/17 [==============================] - 0s 16ms/step - loss: 0.9905 - accuracy: 0.5761 - val_loss: 1.1601 - val_accuracy: 0.5189\n",
            "Epoch 5/100\n",
            "17/17 [==============================] - 0s 12ms/step - loss: 1.0119 - accuracy: 0.5836 - val_loss: 1.1403 - val_accuracy: 0.5246\n",
            "Epoch 6/100\n",
            "17/17 [==============================] - 0s 12ms/step - loss: 0.9808 - accuracy: 0.5331 - val_loss: 1.1805 - val_accuracy: 0.5189\n",
            "Epoch 7/100\n",
            "17/17 [==============================] - 0s 12ms/step - loss: 0.9945 - accuracy: 0.5546 - val_loss: 1.0895 - val_accuracy: 0.5530\n",
            "Epoch 8/100\n",
            "17/17 [==============================] - 0s 12ms/step - loss: 0.9870 - accuracy: 0.5640 - val_loss: 1.2146 - val_accuracy: 0.5170\n",
            "Epoch 9/100\n",
            "17/17 [==============================] - 0s 15ms/step - loss: 0.9669 - accuracy: 0.5696 - val_loss: 1.1050 - val_accuracy: 0.5398\n",
            "Epoch 10/100\n",
            "17/17 [==============================] - 0s 11ms/step - loss: 0.9965 - accuracy: 0.5472 - val_loss: 1.1188 - val_accuracy: 0.5436\n",
            "Epoch 11/100\n",
            "17/17 [==============================] - 0s 15ms/step - loss: 0.9900 - accuracy: 0.5434 - val_loss: 1.1545 - val_accuracy: 0.5265\n",
            "Epoch 12/100\n",
            "17/17 [==============================] - 0s 12ms/step - loss: 0.9982 - accuracy: 0.5677 - val_loss: 1.0756 - val_accuracy: 0.5511\n",
            "Epoch 13/100\n",
            "17/17 [==============================] - 0s 12ms/step - loss: 0.9780 - accuracy: 0.5882 - val_loss: 1.1246 - val_accuracy: 0.5455\n",
            "Epoch 14/100\n",
            "17/17 [==============================] - 0s 12ms/step - loss: 0.9814 - accuracy: 0.5509 - val_loss: 1.0773 - val_accuracy: 0.5530\n",
            "Epoch 15/100\n",
            "17/17 [==============================] - 0s 15ms/step - loss: 0.9779 - accuracy: 0.5705 - val_loss: 1.1190 - val_accuracy: 0.5436\n",
            "Epoch 16/100\n",
            "17/17 [==============================] - 0s 13ms/step - loss: 0.9726 - accuracy: 0.5658 - val_loss: 1.1002 - val_accuracy: 0.5455\n",
            "Epoch 17/100\n",
            "17/17 [==============================] - 0s 14ms/step - loss: 0.9604 - accuracy: 0.5714 - val_loss: 1.1012 - val_accuracy: 0.5417\n",
            "Epoch 18/100\n",
            "17/17 [==============================] - 0s 15ms/step - loss: 0.9810 - accuracy: 0.5668 - val_loss: 1.0944 - val_accuracy: 0.5644\n",
            "Epoch 19/100\n",
            "17/17 [==============================] - 0s 12ms/step - loss: 0.9885 - accuracy: 0.5509 - val_loss: 1.1028 - val_accuracy: 0.5417\n",
            "Epoch 20/100\n",
            "17/17 [==============================] - 0s 15ms/step - loss: 0.9844 - accuracy: 0.5537 - val_loss: 1.1067 - val_accuracy: 0.5473\n",
            "Epoch 21/100\n",
            "17/17 [==============================] - 0s 15ms/step - loss: 0.9904 - accuracy: 0.5472 - val_loss: 1.1166 - val_accuracy: 0.5436\n",
            "Epoch 22/100\n",
            "17/17 [==============================] - 0s 16ms/step - loss: 0.9725 - accuracy: 0.5733 - val_loss: 1.0712 - val_accuracy: 0.5625\n",
            "Epoch 23/100\n",
            "17/17 [==============================] - 0s 12ms/step - loss: 0.9791 - accuracy: 0.5742 - val_loss: 1.0807 - val_accuracy: 0.5644\n",
            "Epoch 24/100\n",
            "17/17 [==============================] - 0s 13ms/step - loss: 0.9787 - accuracy: 0.5770 - val_loss: 1.0653 - val_accuracy: 0.5795\n",
            "Epoch 25/100\n",
            "17/17 [==============================] - 0s 12ms/step - loss: 0.9682 - accuracy: 0.5873 - val_loss: 1.0776 - val_accuracy: 0.5606\n",
            "Epoch 26/100\n",
            "17/17 [==============================] - 0s 12ms/step - loss: 0.9836 - accuracy: 0.5658 - val_loss: 1.1052 - val_accuracy: 0.5455\n",
            "Epoch 27/100\n",
            "17/17 [==============================] - 0s 12ms/step - loss: 0.9689 - accuracy: 0.5621 - val_loss: 1.1019 - val_accuracy: 0.5473\n",
            "Epoch 28/100\n",
            "17/17 [==============================] - 0s 14ms/step - loss: 0.9872 - accuracy: 0.5574 - val_loss: 1.1803 - val_accuracy: 0.5473\n",
            "Epoch 29/100\n",
            "17/17 [==============================] - 0s 12ms/step - loss: 0.9745 - accuracy: 0.5845 - val_loss: 1.1647 - val_accuracy: 0.5322\n",
            "Epoch 30/100\n",
            "17/17 [==============================] - 0s 14ms/step - loss: 0.9783 - accuracy: 0.5593 - val_loss: 1.1349 - val_accuracy: 0.5549\n",
            "Epoch 31/100\n",
            "17/17 [==============================] - 0s 12ms/step - loss: 0.9757 - accuracy: 0.5602 - val_loss: 1.1016 - val_accuracy: 0.5530\n",
            "Epoch 32/100\n",
            "17/17 [==============================] - 0s 14ms/step - loss: 0.9952 - accuracy: 0.5630 - val_loss: 1.1042 - val_accuracy: 0.5549\n",
            "Epoch 33/100\n",
            "17/17 [==============================] - 0s 15ms/step - loss: 0.9578 - accuracy: 0.5696 - val_loss: 1.1890 - val_accuracy: 0.5341\n",
            "Epoch 34/100\n",
            "17/17 [==============================] - 0s 12ms/step - loss: 0.9805 - accuracy: 0.5714 - val_loss: 1.1620 - val_accuracy: 0.5360\n",
            "Epoch 35/100\n",
            "17/17 [==============================] - 0s 15ms/step - loss: 0.9689 - accuracy: 0.5789 - val_loss: 1.1278 - val_accuracy: 0.5511\n",
            "Epoch 36/100\n",
            "17/17 [==============================] - 0s 15ms/step - loss: 0.9736 - accuracy: 0.5714 - val_loss: 1.1579 - val_accuracy: 0.5341\n",
            "Epoch 37/100\n",
            "17/17 [==============================] - 0s 13ms/step - loss: 0.9723 - accuracy: 0.5472 - val_loss: 1.0530 - val_accuracy: 0.5739\n",
            "Epoch 38/100\n",
            "17/17 [==============================] - 0s 14ms/step - loss: 0.9735 - accuracy: 0.5873 - val_loss: 1.0598 - val_accuracy: 0.5701\n",
            "Epoch 39/100\n",
            "17/17 [==============================] - 0s 12ms/step - loss: 0.9825 - accuracy: 0.5621 - val_loss: 1.0617 - val_accuracy: 0.5663\n",
            "Epoch 40/100\n",
            "17/17 [==============================] - 0s 12ms/step - loss: 0.9942 - accuracy: 0.5696 - val_loss: 1.0830 - val_accuracy: 0.5511\n",
            "Epoch 41/100\n",
            "17/17 [==============================] - 0s 12ms/step - loss: 0.9847 - accuracy: 0.5509 - val_loss: 1.0846 - val_accuracy: 0.5568\n",
            "Epoch 42/100\n",
            "17/17 [==============================] - 0s 15ms/step - loss: 0.9805 - accuracy: 0.5546 - val_loss: 1.0603 - val_accuracy: 0.5587\n",
            "Epoch 43/100\n",
            "17/17 [==============================] - 0s 14ms/step - loss: 0.9813 - accuracy: 0.5733 - val_loss: 1.0626 - val_accuracy: 0.5663\n",
            "Epoch 44/100\n",
            "17/17 [==============================] - 0s 12ms/step - loss: 0.9897 - accuracy: 0.5621 - val_loss: 1.0692 - val_accuracy: 0.5473\n",
            "Epoch 45/100\n",
            "17/17 [==============================] - 0s 12ms/step - loss: 0.9764 - accuracy: 0.5742 - val_loss: 1.0967 - val_accuracy: 0.5379\n",
            "Epoch 46/100\n",
            "17/17 [==============================] - 0s 12ms/step - loss: 0.9808 - accuracy: 0.5537 - val_loss: 1.0873 - val_accuracy: 0.5663\n",
            "Epoch 47/100\n",
            "17/17 [==============================] - 0s 12ms/step - loss: 0.9680 - accuracy: 0.5752 - val_loss: 1.1296 - val_accuracy: 0.5417\n",
            "Epoch 48/100\n",
            "17/17 [==============================] - 0s 13ms/step - loss: 0.9765 - accuracy: 0.5705 - val_loss: 1.0906 - val_accuracy: 0.5568\n",
            "Epoch 49/100\n",
            "17/17 [==============================] - 0s 12ms/step - loss: 0.9713 - accuracy: 0.5630 - val_loss: 1.0957 - val_accuracy: 0.5511\n",
            "Epoch 50/100\n",
            "17/17 [==============================] - 0s 14ms/step - loss: 0.9841 - accuracy: 0.5518 - val_loss: 1.1658 - val_accuracy: 0.5455\n",
            "Epoch 51/100\n",
            "17/17 [==============================] - 0s 12ms/step - loss: 0.9531 - accuracy: 0.5733 - val_loss: 1.1056 - val_accuracy: 0.5492\n",
            "Epoch 52/100\n",
            "17/17 [==============================] - 0s 15ms/step - loss: 0.9712 - accuracy: 0.5789 - val_loss: 1.0966 - val_accuracy: 0.5379\n",
            "Epoch 53/100\n",
            "17/17 [==============================] - 0s 13ms/step - loss: 0.9697 - accuracy: 0.5640 - val_loss: 1.0885 - val_accuracy: 0.5549\n",
            "Epoch 54/100\n",
            "17/17 [==============================] - 0s 12ms/step - loss: 0.9390 - accuracy: 0.5780 - val_loss: 1.1150 - val_accuracy: 0.5492\n",
            "Epoch 55/100\n",
            "17/17 [==============================] - 0s 12ms/step - loss: 0.9908 - accuracy: 0.5546 - val_loss: 1.0870 - val_accuracy: 0.5549\n",
            "Epoch 56/100\n",
            "17/17 [==============================] - 0s 14ms/step - loss: 0.9737 - accuracy: 0.5742 - val_loss: 1.1067 - val_accuracy: 0.5568\n",
            "Epoch 57/100\n",
            "17/17 [==============================] - 0s 15ms/step - loss: 0.9747 - accuracy: 0.5742 - val_loss: 1.0761 - val_accuracy: 0.5777\n",
            "Epoch 58/100\n",
            "17/17 [==============================] - 0s 13ms/step - loss: 0.9740 - accuracy: 0.5714 - val_loss: 1.1018 - val_accuracy: 0.5625\n",
            "Epoch 59/100\n",
            "17/17 [==============================] - 0s 14ms/step - loss: 0.9737 - accuracy: 0.5770 - val_loss: 1.1012 - val_accuracy: 0.5568\n",
            "Epoch 60/100\n",
            "17/17 [==============================] - 0s 14ms/step - loss: 0.9423 - accuracy: 0.5966 - val_loss: 1.1255 - val_accuracy: 0.5549\n",
            "Epoch 61/100\n",
            "17/17 [==============================] - 0s 12ms/step - loss: 0.9699 - accuracy: 0.5612 - val_loss: 1.1016 - val_accuracy: 0.5606\n",
            "Epoch 62/100\n",
            "17/17 [==============================] - 0s 13ms/step - loss: 0.9726 - accuracy: 0.5677 - val_loss: 1.1179 - val_accuracy: 0.5568\n",
            "Epoch 63/100\n",
            "17/17 [==============================] - 0s 12ms/step - loss: 0.9645 - accuracy: 0.5752 - val_loss: 1.0960 - val_accuracy: 0.5568\n",
            "Epoch 64/100\n",
            "17/17 [==============================] - 0s 12ms/step - loss: 0.9708 - accuracy: 0.5836 - val_loss: 1.0872 - val_accuracy: 0.5625\n",
            "Epoch 65/100\n",
            "17/17 [==============================] - 0s 15ms/step - loss: 0.9946 - accuracy: 0.5378 - val_loss: 1.1381 - val_accuracy: 0.5436\n",
            "Epoch 66/100\n",
            "17/17 [==============================] - 0s 13ms/step - loss: 0.9693 - accuracy: 0.5733 - val_loss: 1.2669 - val_accuracy: 0.5170\n",
            "Epoch 67/100\n",
            "17/17 [==============================] - 0s 15ms/step - loss: 0.9840 - accuracy: 0.5761 - val_loss: 1.1893 - val_accuracy: 0.5436\n"
          ]
        }
      ]
    },
    {
      "cell_type": "code",
      "metadata": {
        "id": "WoATLE5eGOgR",
        "colab": {
          "base_uri": "https://localhost:8080/",
          "height": 265
        },
        "outputId": "edfde14d-1d6e-4aa6-b9f7-4c8969777ef6"
      },
      "source": [
        "history_df = pd.DataFrame(history.history)\n",
        "history_df[['loss', 'val_loss']].plot();"
      ],
      "execution_count": 71,
      "outputs": [
        {
          "output_type": "display_data",
          "data": {
            "text/plain": [
              "<Figure size 432x288 with 1 Axes>"
            ],
            "image/png": "[encoded data removed]"
          },
          "metadata": {
            "needs_background": "light"
          }
        }
      ]
    },
    {
      "cell_type": "code",
      "source": [
        "y_pred = model.predict(X_valid)\n",
        "y_pred_cat = np.argmax(y_pred, axis=1)\n",
        "print(y_pred[1], y_pred_cat[1])"
      ],
      "metadata": {
        "colab": {
          "base_uri": "https://localhost:8080/"
        },
        "id": "lfAj_Bb8BnsX",
        "outputId": "e8651be4-820e-46d6-c5f7-bc1d85b178af"
      },
      "execution_count": 82,
      "outputs": [
        {
          "output_type": "stream",
          "name": "stdout",
          "text": [
            "[2.21030035e-07 9.82530821e-08 9.71735332e-08 1.94893330e-02\n",
            " 8.27072933e-02 6.46247983e-01 2.41833284e-01 9.60061327e-03\n",
            " 1.21079895e-04] 5\n"
          ]
        }
      ]
    },
    {
      "cell_type": "code",
      "source": [
        "Y_valid[1]"
      ],
      "metadata": {
        "colab": {
          "base_uri": "https://localhost:8080/"
        },
        "id": "o5H14-LdE1ZS",
        "outputId": "d4172f57-36e1-4609-f78b-0f493926ecdf"
      },
      "execution_count": 90,
      "outputs": [
        {
          "output_type": "execute_result",
          "data": {
            "text/plain": [
              "array([0., 0., 0., 0., 0., 1., 0., 0., 0.], dtype=float32)"
            ]
          },
          "metadata": {},
          "execution_count": 90
        }
      ]
    },
    {
      "cell_type": "code",
      "source": [
        "y_real_cat = [np.argmax(y, axis=None, out=None) for y in Y_valid]"
      ],
      "metadata": {
        "id": "S3l2WgCOD4aP"
      },
      "execution_count": 93,
      "outputs": []
    },
    {
      "cell_type": "code",
      "source": [
        "y_real_cat[1]"
      ],
      "metadata": {
        "colab": {
          "base_uri": "https://localhost:8080/"
        },
        "id": "lFuev2QsF4Ki",
        "outputId": "0cbf62eb-edb7-472a-8d65-8b4f5a6fb62f"
      },
      "execution_count": 94,
      "outputs": [
        {
          "output_type": "execute_result",
          "data": {
            "text/plain": [
              "5"
            ]
          },
          "metadata": {},
          "execution_count": 94
        }
      ]
    },
    {
      "cell_type": "code",
      "source": [
        "from sklearn.metrics import confusion_matrix\n",
        "cm = confusion_matrix(y_real_cat, y_pred_cat)\n",
        "print(cm)"
      ],
      "metadata": {
        "colab": {
          "base_uri": "https://localhost:8080/"
        },
        "id": "mbjD_wvLGTV7",
        "outputId": "098ffa77-ce7a-46ee-be3a-ede8e05be028"
      },
      "execution_count": 96,
      "outputs": [
        {
          "output_type": "stream",
          "name": "stdout",
          "text": [
            "[[  0   0   4   1   0   0]\n",
            " [  0   0  16   3   0   0]\n",
            " [  0   0 193  36   0   0]\n",
            " [  0   0  95 106   2   0]\n",
            " [  0   0  11  54   4   0]\n",
            " [  0   0   0   3   0   0]]\n"
          ]
        }
      ]
    },
    {
      "cell_type": "code",
      "source": [
        "import matplotlib.pyplot as plot\n",
        "from sklearn.metrics import confusion_matrix, ConfusionMatrixDisplay\n",
        "\n",
        "display = ConfusionMatrixDisplay(confusion_matrix=cm,\n",
        "                               display_labels=[\"Cat 3\", \"Cat 4\", \"Cat 5\", \"Cat 6\", \"Cat 7\", \"Cat 8\"])\n",
        "display.plot()\n",
        "\n",
        "plot.show()"
      ],
      "metadata": {
        "colab": {
          "base_uri": "https://localhost:8080/",
          "height": 279
        },
        "id": "Wi7WbnHhHT2w",
        "outputId": "2d687c5a-88a0-4551-a2fd-484aba8d9110"
      },
      "execution_count": 97,
      "outputs": [
        {
          "output_type": "display_data",
          "data": {
            "text/plain": [
              "<Figure size 432x288 with 2 Axes>"
            ],
            "image/png": "[encoded data removed]"
          },
          "metadata": {
            "needs_background": "light"
          }
        }
      ]
    }
  ]
}