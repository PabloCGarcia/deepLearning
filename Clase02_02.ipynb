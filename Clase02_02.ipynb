{
  "nbformat": 4,
  "nbformat_minor": 0,
  "metadata": {
    "colab": {
      "name": "Clase06-01.ipynb",
      "provenance": [],
      "collapsed_sections": [],
      "include_colab_link": true
    },
    "kernelspec": {
      "display_name": "Python 3",
      "name": "python3"
    },
    "accelerator": "GPU",
    "gpuClass": "standard"
  },
  "cells": [
    {
      "cell_type": "markdown",
      "metadata": {
        "id": "view-in-github",
        "colab_type": "text"
      },
      "source": [
        "<a href=\"https://colab.research.google.com/github/PabloCGarcia/deepLearning/blob/main/Clase02_02.ipynb\" target=\"_parent\"><img src=\"https://colab.research.google.com/assets/colab-badge.svg\" alt=\"Open In Colab\"/></a>"
      ]
    },
    {
      "cell_type": "code",
      "metadata": {
        "id": "QTE2k2XeXUlu"
      },
      "source": [
        "import keras \n",
        "from keras.datasets import mnist \n",
        "from keras.models import Sequential \n",
        "from keras.layers import Dense, Dropout, Flatten \n",
        "from keras.layers import Conv2D, MaxPooling2D \n",
        "from keras import backend as K\n",
        "import tensorflow as tf\n",
        "from tensorflow.keras.utils import to_categorical"
      ],
      "execution_count": 10,
      "outputs": []
    },
    {
      "cell_type": "code",
      "metadata": {
        "colab": {
          "base_uri": "https://localhost:8080/"
        },
        "id": "ALZx6J5FJXgO",
        "outputId": "fc8e4318-13bd-432a-f55e-177e6b1f0f3b"
      },
      "source": [
        "device_name = tf.test.gpu_device_name()\n",
        "print(\"tarjeta grafica:\", device_name)"
      ],
      "execution_count": 2,
      "outputs": [
        {
          "output_type": "stream",
          "name": "stdout",
          "text": [
            "tarjeta grafica: /device:GPU:0\n"
          ]
        }
      ]
    },
    {
      "cell_type": "code",
      "metadata": {
        "id": "_6LFTdZGXrzS",
        "colab": {
          "base_uri": "https://localhost:8080/"
        },
        "outputId": "6e96cc44-1a76-4e59-d50e-bbf399ad562b"
      },
      "source": [
        "(x_train, y_train), (x_test, y_test) = mnist.load_data()"
      ],
      "execution_count": 3,
      "outputs": [
        {
          "output_type": "stream",
          "name": "stdout",
          "text": [
            "Downloading data from https://storage.googleapis.com/tensorflow/tf-keras-datasets/mnist.npz\n",
            "11493376/11490434 [==============================] - 0s 0us/step\n",
            "11501568/11490434 [==============================] - 0s 0us/step\n"
          ]
        }
      ]
    },
    {
      "cell_type": "code",
      "metadata": {
        "colab": {
          "base_uri": "https://localhost:8080/"
        },
        "id": "X6gIOnOf_pQF",
        "outputId": "bb9ffaeb-166f-4937-ea8e-b1289fac97d9"
      },
      "source": [
        "y_train[:5]"
      ],
      "execution_count": 4,
      "outputs": [
        {
          "output_type": "execute_result",
          "data": {
            "text/plain": [
              "array([5, 0, 4, 1, 9], dtype=uint8)"
            ]
          },
          "metadata": {},
          "execution_count": 4
        }
      ]
    },
    {
      "cell_type": "code",
      "metadata": {
        "id": "Cs3BoiSNXvoH"
      },
      "source": [
        "batch_size = 128 \n",
        "num_classes = 10 \n",
        "epochs = 20\n",
        "img_rows, img_cols = 28, 28"
      ],
      "execution_count": 5,
      "outputs": []
    },
    {
      "cell_type": "code",
      "metadata": {
        "id": "TiqWBpEHXzCn"
      },
      "source": [
        "if K.image_data_format() == 'channels_first':\n",
        "    x_train = x_train.reshape(x_train.shape[0], 1, img_rows, img_cols)\n",
        "    x_test = x_test.reshape(x_test.shape[0], 1, img_rows, img_cols)\n",
        "    input_shape = (1, img_rows, img_cols)\n",
        "else:\n",
        "    x_train = x_train.reshape(x_train.shape[0], img_rows, img_cols, 1)\n",
        "    x_test = x_test.reshape(x_test.shape[0], img_rows, img_cols, 1)\n",
        "    input_shape = (img_rows, img_cols, 1)"
      ],
      "execution_count": 6,
      "outputs": []
    },
    {
      "cell_type": "code",
      "metadata": {
        "id": "iUHfj-_UX04b"
      },
      "source": [
        "x_train = x_train.astype('float32')\n",
        "x_test = x_test.astype('float32')\n",
        "x_train /= 255\n",
        "x_test /= 255"
      ],
      "execution_count": 7,
      "outputs": []
    },
    {
      "cell_type": "code",
      "metadata": {
        "colab": {
          "base_uri": "https://localhost:8080/"
        },
        "id": "Vrkvo43M-TQV",
        "outputId": "5132eb3d-ac67-4010-ae57-e25ec047af61"
      },
      "source": [
        "y_test[:5]"
      ],
      "execution_count": 8,
      "outputs": [
        {
          "output_type": "execute_result",
          "data": {
            "text/plain": [
              "array([7, 2, 1, 0, 4], dtype=uint8)"
            ]
          },
          "metadata": {},
          "execution_count": 8
        }
      ]
    },
    {
      "cell_type": "code",
      "metadata": {
        "id": "amXruu5_X6Re"
      },
      "source": [
        "y_train = to_categorical(y_train, 10)\n",
        "y_test = to_categorical(y_test, 10)"
      ],
      "execution_count": 11,
      "outputs": []
    },
    {
      "cell_type": "code",
      "metadata": {
        "colab": {
          "base_uri": "https://localhost:8080/"
        },
        "id": "EE6fm8qv_5U-",
        "outputId": "49e561ee-d821-4c3d-89b9-524c48303f88"
      },
      "source": [
        "y_test[:5]"
      ],
      "execution_count": null,
      "outputs": [
        {
          "output_type": "execute_result",
          "data": {
            "text/plain": [
              "array([[0., 0., 0., 0., 0., 0., 0., 1., 0., 0.],\n",
              "       [0., 0., 1., 0., 0., 0., 0., 0., 0., 0.],\n",
              "       [0., 1., 0., 0., 0., 0., 0., 0., 0., 0.],\n",
              "       [1., 0., 0., 0., 0., 0., 0., 0., 0., 0.],\n",
              "       [0., 0., 0., 0., 1., 0., 0., 0., 0., 0.]], dtype=float32)"
            ]
          },
          "metadata": {
            "tags": []
          },
          "execution_count": 13
        }
      ]
    },
    {
      "cell_type": "code",
      "metadata": {
        "id": "fZUD7OTeX9pM"
      },
      "source": [
        "model = Sequential()\n",
        "model.add(Conv2D(32, kernel_size=(3, 3),\n",
        "                 activation='relu',\n",
        "                 input_shape=input_shape))\n",
        "model.add(Conv2D(64, (3, 3), activation='relu'))\n",
        "model.add(MaxPooling2D(pool_size=(2, 2)))\n",
        "model.add(Dropout(0.25))\n",
        "model.add(Flatten())\n",
        "model.add(Dense(128, activation='relu'))\n",
        "model.add(Dropout(0.5))\n",
        "model.add(Dense(num_classes, activation='softmax'))"
      ],
      "execution_count": 12,
      "outputs": []
    },
    {
      "cell_type": "code",
      "metadata": {
        "id": "g4fRw06PYBa8"
      },
      "source": [
        "model.compile(loss=keras.losses.categorical_crossentropy,\n",
        "              optimizer=\"Adadelta\",\n",
        "              metrics=['accuracy'])"
      ],
      "execution_count": 14,
      "outputs": []
    },
    {
      "cell_type": "code",
      "metadata": {
        "colab": {
          "base_uri": "https://localhost:8080/"
        },
        "id": "gVK8jAF_YFcA",
        "outputId": "206c5b6b-ee66-434e-c0b7-e5ba813b7ffc"
      },
      "source": [
        "history = model.fit(x_train, y_train,\n",
        "          batch_size=batch_size,\n",
        "          epochs=100,\n",
        "          verbose=1,\n",
        "          validation_data=(x_test, y_test))"
      ],
      "execution_count": 15,
      "outputs": [
        {
          "output_type": "stream",
          "name": "stdout",
          "text": [
            "Epoch 1/100\n",
            "469/469 [==============================] - 13s 6ms/step - loss: 2.2750 - accuracy: 0.1666 - val_loss: 2.2357 - val_accuracy: 0.4071\n",
            "Epoch 2/100\n",
            "469/469 [==============================] - 2s 5ms/step - loss: 2.2105 - accuracy: 0.2996 - val_loss: 2.1570 - val_accuracy: 0.5772\n",
            "Epoch 3/100\n",
            "469/469 [==============================] - 2s 5ms/step - loss: 2.1289 - accuracy: 0.4006 - val_loss: 2.0525 - val_accuracy: 0.6486\n",
            "Epoch 4/100\n",
            "469/469 [==============================] - 2s 5ms/step - loss: 2.0198 - accuracy: 0.4757 - val_loss: 1.9111 - val_accuracy: 0.6977\n",
            "Epoch 5/100\n",
            "469/469 [==============================] - 2s 5ms/step - loss: 1.8740 - accuracy: 0.5337 - val_loss: 1.7289 - val_accuracy: 0.7345\n",
            "Epoch 6/100\n",
            "469/469 [==============================] - 2s 5ms/step - loss: 1.7030 - accuracy: 0.5718 - val_loss: 1.5179 - val_accuracy: 0.7594\n",
            "Epoch 7/100\n",
            "469/469 [==============================] - 2s 5ms/step - loss: 1.5232 - accuracy: 0.6039 - val_loss: 1.3078 - val_accuracy: 0.7808\n",
            "Epoch 8/100\n",
            "469/469 [==============================] - 2s 5ms/step - loss: 1.3614 - accuracy: 0.6322 - val_loss: 1.1268 - val_accuracy: 0.7974\n",
            "Epoch 9/100\n",
            "469/469 [==============================] - 2s 5ms/step - loss: 1.2233 - accuracy: 0.6602 - val_loss: 0.9802 - val_accuracy: 0.8102\n",
            "Epoch 10/100\n",
            "469/469 [==============================] - 2s 5ms/step - loss: 1.1161 - accuracy: 0.6781 - val_loss: 0.8682 - val_accuracy: 0.8203\n",
            "Epoch 11/100\n",
            "469/469 [==============================] - 2s 5ms/step - loss: 1.0290 - accuracy: 0.6988 - val_loss: 0.7820 - val_accuracy: 0.8301\n",
            "Epoch 12/100\n",
            "469/469 [==============================] - 2s 5ms/step - loss: 0.9656 - accuracy: 0.7118 - val_loss: 0.7162 - val_accuracy: 0.8370\n",
            "Epoch 13/100\n",
            "469/469 [==============================] - 2s 5ms/step - loss: 0.9068 - accuracy: 0.7257 - val_loss: 0.6632 - val_accuracy: 0.8450\n",
            "Epoch 14/100\n",
            "469/469 [==============================] - 3s 6ms/step - loss: 0.8581 - accuracy: 0.7390 - val_loss: 0.6200 - val_accuracy: 0.8511\n",
            "Epoch 15/100\n",
            "469/469 [==============================] - 3s 6ms/step - loss: 0.8188 - accuracy: 0.7498 - val_loss: 0.5849 - val_accuracy: 0.8562\n",
            "Epoch 16/100\n",
            "469/469 [==============================] - 2s 5ms/step - loss: 0.7849 - accuracy: 0.7606 - val_loss: 0.5545 - val_accuracy: 0.8618\n",
            "Epoch 17/100\n",
            "469/469 [==============================] - 2s 5ms/step - loss: 0.7565 - accuracy: 0.7671 - val_loss: 0.5294 - val_accuracy: 0.8660\n",
            "Epoch 18/100\n",
            "469/469 [==============================] - 2s 5ms/step - loss: 0.7273 - accuracy: 0.7768 - val_loss: 0.5071 - val_accuracy: 0.8701\n",
            "Epoch 19/100\n",
            "469/469 [==============================] - 2s 5ms/step - loss: 0.7071 - accuracy: 0.7815 - val_loss: 0.4883 - val_accuracy: 0.8738\n",
            "Epoch 20/100\n",
            "469/469 [==============================] - 2s 5ms/step - loss: 0.6853 - accuracy: 0.7891 - val_loss: 0.4708 - val_accuracy: 0.8772\n",
            "Epoch 21/100\n",
            "469/469 [==============================] - 2s 5ms/step - loss: 0.6642 - accuracy: 0.7949 - val_loss: 0.4549 - val_accuracy: 0.8803\n",
            "Epoch 22/100\n",
            "469/469 [==============================] - 2s 5ms/step - loss: 0.6466 - accuracy: 0.8019 - val_loss: 0.4422 - val_accuracy: 0.8825\n",
            "Epoch 23/100\n",
            "469/469 [==============================] - 2s 5ms/step - loss: 0.6317 - accuracy: 0.8069 - val_loss: 0.4294 - val_accuracy: 0.8857\n",
            "Epoch 24/100\n",
            "469/469 [==============================] - 2s 5ms/step - loss: 0.6194 - accuracy: 0.8081 - val_loss: 0.4182 - val_accuracy: 0.8884\n",
            "Epoch 25/100\n",
            "469/469 [==============================] - 2s 5ms/step - loss: 0.6049 - accuracy: 0.8141 - val_loss: 0.4078 - val_accuracy: 0.8903\n",
            "Epoch 26/100\n",
            "469/469 [==============================] - 2s 5ms/step - loss: 0.5954 - accuracy: 0.8167 - val_loss: 0.3983 - val_accuracy: 0.8916\n",
            "Epoch 27/100\n",
            "469/469 [==============================] - 2s 5ms/step - loss: 0.5838 - accuracy: 0.8217 - val_loss: 0.3894 - val_accuracy: 0.8933\n",
            "Epoch 28/100\n",
            "469/469 [==============================] - 2s 5ms/step - loss: 0.5709 - accuracy: 0.8251 - val_loss: 0.3818 - val_accuracy: 0.8953\n",
            "Epoch 29/100\n",
            "469/469 [==============================] - 2s 5ms/step - loss: 0.5626 - accuracy: 0.8275 - val_loss: 0.3739 - val_accuracy: 0.8976\n",
            "Epoch 30/100\n",
            "469/469 [==============================] - 2s 5ms/step - loss: 0.5539 - accuracy: 0.8306 - val_loss: 0.3669 - val_accuracy: 0.8985\n",
            "Epoch 31/100\n",
            "469/469 [==============================] - 2s 5ms/step - loss: 0.5429 - accuracy: 0.8321 - val_loss: 0.3600 - val_accuracy: 0.9004\n",
            "Epoch 32/100\n",
            "469/469 [==============================] - 2s 5ms/step - loss: 0.5364 - accuracy: 0.8344 - val_loss: 0.3539 - val_accuracy: 0.9018\n",
            "Epoch 33/100\n",
            "469/469 [==============================] - 2s 5ms/step - loss: 0.5291 - accuracy: 0.8375 - val_loss: 0.3481 - val_accuracy: 0.9031\n",
            "Epoch 34/100\n",
            "469/469 [==============================] - 2s 5ms/step - loss: 0.5210 - accuracy: 0.8401 - val_loss: 0.3429 - val_accuracy: 0.9037\n",
            "Epoch 35/100\n",
            "469/469 [==============================] - 2s 5ms/step - loss: 0.5160 - accuracy: 0.8412 - val_loss: 0.3373 - val_accuracy: 0.9061\n",
            "Epoch 36/100\n",
            "469/469 [==============================] - 2s 5ms/step - loss: 0.5105 - accuracy: 0.8429 - val_loss: 0.3323 - val_accuracy: 0.9071\n",
            "Epoch 37/100\n",
            "469/469 [==============================] - 2s 5ms/step - loss: 0.5046 - accuracy: 0.8464 - val_loss: 0.3277 - val_accuracy: 0.9085\n",
            "Epoch 38/100\n",
            "469/469 [==============================] - 2s 5ms/step - loss: 0.4976 - accuracy: 0.8482 - val_loss: 0.3231 - val_accuracy: 0.9100\n",
            "Epoch 39/100\n",
            "469/469 [==============================] - 2s 5ms/step - loss: 0.4888 - accuracy: 0.8524 - val_loss: 0.3188 - val_accuracy: 0.9106\n",
            "Epoch 40/100\n",
            "469/469 [==============================] - 2s 5ms/step - loss: 0.4827 - accuracy: 0.8519 - val_loss: 0.3145 - val_accuracy: 0.9112\n",
            "Epoch 41/100\n",
            "469/469 [==============================] - 2s 5ms/step - loss: 0.4802 - accuracy: 0.8529 - val_loss: 0.3105 - val_accuracy: 0.9124\n",
            "Epoch 42/100\n",
            "469/469 [==============================] - 2s 5ms/step - loss: 0.4754 - accuracy: 0.8557 - val_loss: 0.3063 - val_accuracy: 0.9137\n",
            "Epoch 43/100\n",
            "469/469 [==============================] - 2s 5ms/step - loss: 0.4720 - accuracy: 0.8563 - val_loss: 0.3029 - val_accuracy: 0.9158\n",
            "Epoch 44/100\n",
            "469/469 [==============================] - 2s 5ms/step - loss: 0.4658 - accuracy: 0.8574 - val_loss: 0.2992 - val_accuracy: 0.9162\n",
            "Epoch 45/100\n",
            "469/469 [==============================] - 2s 5ms/step - loss: 0.4610 - accuracy: 0.8629 - val_loss: 0.2959 - val_accuracy: 0.9172\n",
            "Epoch 46/100\n",
            "469/469 [==============================] - 2s 5ms/step - loss: 0.4558 - accuracy: 0.8619 - val_loss: 0.2926 - val_accuracy: 0.9180\n",
            "Epoch 47/100\n",
            "469/469 [==============================] - 2s 5ms/step - loss: 0.4532 - accuracy: 0.8620 - val_loss: 0.2894 - val_accuracy: 0.9181\n",
            "Epoch 48/100\n",
            "469/469 [==============================] - 2s 5ms/step - loss: 0.4447 - accuracy: 0.8653 - val_loss: 0.2862 - val_accuracy: 0.9197\n",
            "Epoch 49/100\n",
            "469/469 [==============================] - 2s 5ms/step - loss: 0.4430 - accuracy: 0.8665 - val_loss: 0.2834 - val_accuracy: 0.9199\n",
            "Epoch 50/100\n",
            "469/469 [==============================] - 2s 5ms/step - loss: 0.4397 - accuracy: 0.8660 - val_loss: 0.2802 - val_accuracy: 0.9206\n",
            "Epoch 51/100\n",
            "469/469 [==============================] - 2s 5ms/step - loss: 0.4337 - accuracy: 0.8682 - val_loss: 0.2775 - val_accuracy: 0.9211\n",
            "Epoch 52/100\n",
            "469/469 [==============================] - 2s 5ms/step - loss: 0.4332 - accuracy: 0.8693 - val_loss: 0.2751 - val_accuracy: 0.9219\n",
            "Epoch 53/100\n",
            "469/469 [==============================] - 3s 5ms/step - loss: 0.4292 - accuracy: 0.8707 - val_loss: 0.2723 - val_accuracy: 0.9229\n",
            "Epoch 54/100\n",
            "469/469 [==============================] - 2s 5ms/step - loss: 0.4245 - accuracy: 0.8712 - val_loss: 0.2699 - val_accuracy: 0.9227\n",
            "Epoch 55/100\n",
            "469/469 [==============================] - 2s 5ms/step - loss: 0.4251 - accuracy: 0.8729 - val_loss: 0.2680 - val_accuracy: 0.9236\n",
            "Epoch 56/100\n",
            "469/469 [==============================] - 2s 5ms/step - loss: 0.4197 - accuracy: 0.8731 - val_loss: 0.2648 - val_accuracy: 0.9247\n",
            "Epoch 57/100\n",
            "469/469 [==============================] - 2s 5ms/step - loss: 0.4147 - accuracy: 0.8738 - val_loss: 0.2624 - val_accuracy: 0.9248\n",
            "Epoch 58/100\n",
            "469/469 [==============================] - 2s 5ms/step - loss: 0.4144 - accuracy: 0.8740 - val_loss: 0.2604 - val_accuracy: 0.9252\n",
            "Epoch 59/100\n",
            "469/469 [==============================] - 2s 5ms/step - loss: 0.4103 - accuracy: 0.8760 - val_loss: 0.2581 - val_accuracy: 0.9261\n",
            "Epoch 60/100\n",
            "469/469 [==============================] - 2s 5ms/step - loss: 0.4015 - accuracy: 0.8786 - val_loss: 0.2558 - val_accuracy: 0.9265\n",
            "Epoch 61/100\n",
            "469/469 [==============================] - 2s 5ms/step - loss: 0.4054 - accuracy: 0.8775 - val_loss: 0.2539 - val_accuracy: 0.9264\n",
            "Epoch 62/100\n",
            "469/469 [==============================] - 2s 5ms/step - loss: 0.4028 - accuracy: 0.8788 - val_loss: 0.2518 - val_accuracy: 0.9271\n",
            "Epoch 63/100\n",
            "469/469 [==============================] - 2s 5ms/step - loss: 0.3974 - accuracy: 0.8803 - val_loss: 0.2500 - val_accuracy: 0.9271\n",
            "Epoch 64/100\n",
            "469/469 [==============================] - 2s 5ms/step - loss: 0.3945 - accuracy: 0.8810 - val_loss: 0.2478 - val_accuracy: 0.9288\n",
            "Epoch 65/100\n",
            "469/469 [==============================] - 3s 5ms/step - loss: 0.3905 - accuracy: 0.8823 - val_loss: 0.2460 - val_accuracy: 0.9295\n",
            "Epoch 66/100\n",
            "469/469 [==============================] - 2s 5ms/step - loss: 0.3895 - accuracy: 0.8834 - val_loss: 0.2440 - val_accuracy: 0.9292\n",
            "Epoch 67/100\n",
            "469/469 [==============================] - 2s 5ms/step - loss: 0.3849 - accuracy: 0.8846 - val_loss: 0.2418 - val_accuracy: 0.9300\n",
            "Epoch 68/100\n",
            "469/469 [==============================] - 2s 5ms/step - loss: 0.3848 - accuracy: 0.8838 - val_loss: 0.2399 - val_accuracy: 0.9304\n",
            "Epoch 69/100\n",
            "469/469 [==============================] - 2s 5ms/step - loss: 0.3839 - accuracy: 0.8838 - val_loss: 0.2381 - val_accuracy: 0.9301\n",
            "Epoch 70/100\n",
            "469/469 [==============================] - 2s 5ms/step - loss: 0.3827 - accuracy: 0.8843 - val_loss: 0.2368 - val_accuracy: 0.9306\n",
            "Epoch 71/100\n",
            "469/469 [==============================] - 2s 5ms/step - loss: 0.3780 - accuracy: 0.8882 - val_loss: 0.2349 - val_accuracy: 0.9308\n",
            "Epoch 72/100\n",
            "469/469 [==============================] - 2s 5ms/step - loss: 0.3767 - accuracy: 0.8878 - val_loss: 0.2329 - val_accuracy: 0.9317\n",
            "Epoch 73/100\n",
            "469/469 [==============================] - 2s 5ms/step - loss: 0.3721 - accuracy: 0.8891 - val_loss: 0.2313 - val_accuracy: 0.9321\n",
            "Epoch 74/100\n",
            "469/469 [==============================] - 2s 5ms/step - loss: 0.3710 - accuracy: 0.8878 - val_loss: 0.2300 - val_accuracy: 0.9322\n",
            "Epoch 75/100\n",
            "469/469 [==============================] - 3s 5ms/step - loss: 0.3699 - accuracy: 0.8894 - val_loss: 0.2286 - val_accuracy: 0.9328\n",
            "Epoch 76/100\n",
            "469/469 [==============================] - 2s 5ms/step - loss: 0.3678 - accuracy: 0.8891 - val_loss: 0.2272 - val_accuracy: 0.9334\n",
            "Epoch 77/100\n",
            "469/469 [==============================] - 3s 5ms/step - loss: 0.3637 - accuracy: 0.8902 - val_loss: 0.2254 - val_accuracy: 0.9332\n",
            "Epoch 78/100\n",
            "469/469 [==============================] - 3s 5ms/step - loss: 0.3636 - accuracy: 0.8915 - val_loss: 0.2238 - val_accuracy: 0.9343\n",
            "Epoch 79/100\n",
            "469/469 [==============================] - 3s 5ms/step - loss: 0.3613 - accuracy: 0.8915 - val_loss: 0.2227 - val_accuracy: 0.9345\n",
            "Epoch 80/100\n",
            "469/469 [==============================] - 2s 5ms/step - loss: 0.3590 - accuracy: 0.8922 - val_loss: 0.2211 - val_accuracy: 0.9349\n",
            "Epoch 81/100\n",
            "469/469 [==============================] - 2s 5ms/step - loss: 0.3569 - accuracy: 0.8923 - val_loss: 0.2197 - val_accuracy: 0.9354\n",
            "Epoch 82/100\n",
            "469/469 [==============================] - 2s 5ms/step - loss: 0.3538 - accuracy: 0.8942 - val_loss: 0.2179 - val_accuracy: 0.9353\n",
            "Epoch 83/100\n",
            "469/469 [==============================] - 2s 5ms/step - loss: 0.3537 - accuracy: 0.8946 - val_loss: 0.2168 - val_accuracy: 0.9361\n",
            "Epoch 84/100\n",
            "469/469 [==============================] - 2s 5ms/step - loss: 0.3516 - accuracy: 0.8959 - val_loss: 0.2155 - val_accuracy: 0.9362\n",
            "Epoch 85/100\n",
            "469/469 [==============================] - 2s 5ms/step - loss: 0.3506 - accuracy: 0.8949 - val_loss: 0.2139 - val_accuracy: 0.9365\n",
            "Epoch 86/100\n",
            "469/469 [==============================] - 2s 5ms/step - loss: 0.3467 - accuracy: 0.8955 - val_loss: 0.2129 - val_accuracy: 0.9367\n",
            "Epoch 87/100\n",
            "469/469 [==============================] - 2s 5ms/step - loss: 0.3441 - accuracy: 0.8973 - val_loss: 0.2114 - val_accuracy: 0.9368\n",
            "Epoch 88/100\n",
            "469/469 [==============================] - 2s 5ms/step - loss: 0.3468 - accuracy: 0.8952 - val_loss: 0.2103 - val_accuracy: 0.9369\n",
            "Epoch 89/100\n",
            "469/469 [==============================] - 2s 5ms/step - loss: 0.3418 - accuracy: 0.8964 - val_loss: 0.2092 - val_accuracy: 0.9376\n",
            "Epoch 90/100\n",
            "469/469 [==============================] - 2s 5ms/step - loss: 0.3419 - accuracy: 0.8968 - val_loss: 0.2079 - val_accuracy: 0.9377\n",
            "Epoch 91/100\n",
            "469/469 [==============================] - 2s 5ms/step - loss: 0.3399 - accuracy: 0.8975 - val_loss: 0.2068 - val_accuracy: 0.9380\n",
            "Epoch 92/100\n",
            "469/469 [==============================] - 2s 5ms/step - loss: 0.3384 - accuracy: 0.8992 - val_loss: 0.2057 - val_accuracy: 0.9381\n",
            "Epoch 93/100\n",
            "469/469 [==============================] - 2s 5ms/step - loss: 0.3353 - accuracy: 0.8996 - val_loss: 0.2045 - val_accuracy: 0.9383\n",
            "Epoch 94/100\n",
            "469/469 [==============================] - 2s 5ms/step - loss: 0.3350 - accuracy: 0.8997 - val_loss: 0.2033 - val_accuracy: 0.9386\n",
            "Epoch 95/100\n",
            "469/469 [==============================] - 2s 5ms/step - loss: 0.3303 - accuracy: 0.9018 - val_loss: 0.2022 - val_accuracy: 0.9394\n",
            "Epoch 96/100\n",
            "469/469 [==============================] - 2s 5ms/step - loss: 0.3306 - accuracy: 0.9009 - val_loss: 0.2012 - val_accuracy: 0.9393\n",
            "Epoch 97/100\n",
            "469/469 [==============================] - 2s 5ms/step - loss: 0.3285 - accuracy: 0.9030 - val_loss: 0.2002 - val_accuracy: 0.9395\n",
            "Epoch 98/100\n",
            "469/469 [==============================] - 2s 5ms/step - loss: 0.3282 - accuracy: 0.9019 - val_loss: 0.1992 - val_accuracy: 0.9405\n",
            "Epoch 99/100\n",
            "469/469 [==============================] - 2s 5ms/step - loss: 0.3217 - accuracy: 0.9041 - val_loss: 0.1980 - val_accuracy: 0.9406\n",
            "Epoch 100/100\n",
            "469/469 [==============================] - 2s 5ms/step - loss: 0.3234 - accuracy: 0.9034 - val_loss: 0.1967 - val_accuracy: 0.9412\n"
          ]
        }
      ]
    },
    {
      "cell_type": "code",
      "metadata": {
        "colab": {
          "base_uri": "https://localhost:8080/",
          "height": 265
        },
        "id": "WoATLE5eGOgR",
        "outputId": "e186a272-4185-4a4e-f0c7-205e001f7169"
      },
      "source": [
        "import pandas as pd\n",
        "history_df = pd.DataFrame(history.history)\n",
        "history_df[['loss', 'val_loss']].plot();"
      ],
      "execution_count": 16,
      "outputs": [
        {
          "output_type": "display_data",
          "data": {
            "text/plain": [
              "<Figure size 432x288 with 1 Axes>"
            ],
            "image/png": "[encoded data removed]"
          },
          "metadata": {
            "needs_background": "light"
          }
        }
      ]
    },
    {
      "cell_type": "code",
      "metadata": {
        "id": "bIuqCZDEYKAk",
        "colab": {
          "base_uri": "https://localhost:8080/"
        },
        "outputId": "a7570a5e-7ab7-4e08-d3d5-ddac74b12038"
      },
      "source": [
        "score = model.evaluate(x_test, y_test, verbose=0) \n",
        "print('Test loss:', score[0]) \n",
        "print('Test accuracy:', score[1])"
      ],
      "execution_count": 17,
      "outputs": [
        {
          "output_type": "stream",
          "name": "stdout",
          "text": [
            "Test loss: 0.1966831088066101\n",
            "Test accuracy: 0.9412000179290771\n"
          ]
        }
      ]
    }
  ]
}