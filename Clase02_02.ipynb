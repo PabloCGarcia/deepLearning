{
  "nbformat": 4,
  "nbformat_minor": 0,
  "metadata": {
    "colab": {
      "name": "Clase06-01.ipynb",
      "provenance": [],
      "collapsed_sections": [],
      "include_colab_link": true
    },
    "kernelspec": {
      "display_name": "Python 3",
      "name": "python3"
    },
    "accelerator": "GPU"
  },
  "cells": [
    {
      "cell_type": "markdown",
      "metadata": {
        "id": "view-in-github",
        "colab_type": "text"
      },
      "source": [
        "<a href=\"https://colab.research.google.com/github/PabloCGarcia/deepLearning/blob/main/Clase02_02.ipynb\" target=\"_parent\"><img src=\"https://colab.research.google.com/assets/colab-badge.svg\" alt=\"Open In Colab\"/></a>"
      ]
    },
    {
      "cell_type": "code",
      "metadata": {
        "id": "QTE2k2XeXUlu"
      },
      "source": [
        "import keras \n",
        "from keras.datasets import mnist \n",
        "from keras.models import Sequential \n",
        "from keras.layers import Dense, Dropout, Flatten \n",
        "from keras.layers import Conv2D, MaxPooling2D \n",
        "from keras import backend as K\n",
        "import tensorflow as tf\n"
      ],
      "execution_count": null,
      "outputs": []
    },
    {
      "cell_type": "code",
      "metadata": {
        "colab": {
          "base_uri": "https://localhost:8080/"
        },
        "id": "ALZx6J5FJXgO",
        "outputId": "74a3307a-f21d-4848-f4c9-2b9b5b85532d"
      },
      "source": [
        "device_name = tf.test.gpu_device_name()\n",
        "print(\"tarjeta grafica:\", device_name)"
      ],
      "execution_count": null,
      "outputs": [
        {
          "output_type": "stream",
          "text": [
            "tarjeta grafica: /device:GPU:0\n"
          ],
          "name": "stdout"
        }
      ]
    },
    {
      "cell_type": "code",
      "metadata": {
        "id": "_6LFTdZGXrzS",
        "colab": {
          "base_uri": "https://localhost:8080/"
        },
        "outputId": "ca32a27d-d94a-4534-aae3-32cd3b2a9635"
      },
      "source": [
        "(x_train, y_train), (x_test, y_test) = mnist.load_data()"
      ],
      "execution_count": null,
      "outputs": [
        {
          "output_type": "stream",
          "text": [
            "Downloading data from https://storage.googleapis.com/tensorflow/tf-keras-datasets/mnist.npz\n",
            "11493376/11490434 [==============================] - 0s 0us/step\n"
          ],
          "name": "stdout"
        }
      ]
    },
    {
      "cell_type": "code",
      "metadata": {
        "colab": {
          "base_uri": "https://localhost:8080/"
        },
        "id": "X6gIOnOf_pQF",
        "outputId": "c9d8e27d-bd2f-4190-a9e1-54082dbd2ec1"
      },
      "source": [
        "y_train[:5]"
      ],
      "execution_count": null,
      "outputs": [
        {
          "output_type": "execute_result",
          "data": {
            "text/plain": [
              "array([5, 0, 4, 1, 9], dtype=uint8)"
            ]
          },
          "metadata": {
            "tags": []
          },
          "execution_count": 4
        }
      ]
    },
    {
      "cell_type": "code",
      "metadata": {
        "id": "Cs3BoiSNXvoH"
      },
      "source": [
        "batch_size = 128 \n",
        "num_classes = 10 \n",
        "epochs = 20\n",
        "img_rows, img_cols = 28, 28"
      ],
      "execution_count": null,
      "outputs": []
    },
    {
      "cell_type": "code",
      "metadata": {
        "id": "TiqWBpEHXzCn"
      },
      "source": [
        "if K.image_data_format() == 'channels_first':\n",
        "    x_train = x_train.reshape(x_train.shape[0], 1, img_rows, img_cols)\n",
        "    x_test = x_test.reshape(x_test.shape[0], 1, img_rows, img_cols)\n",
        "    input_shape = (1, img_rows, img_cols)\n",
        "else:\n",
        "    x_train = x_train.reshape(x_train.shape[0], img_rows, img_cols, 1)\n",
        "    x_test = x_test.reshape(x_test.shape[0], img_rows, img_cols, 1)\n",
        "    input_shape = (img_rows, img_cols, 1)"
      ],
      "execution_count": null,
      "outputs": []
    },
    {
      "cell_type": "code",
      "metadata": {
        "id": "iUHfj-_UX04b"
      },
      "source": [
        "x_train = x_train.astype('float32')\n",
        "x_test = x_test.astype('float32')\n",
        "x_train /= 255\n",
        "x_test /= 255"
      ],
      "execution_count": null,
      "outputs": []
    },
    {
      "cell_type": "code",
      "metadata": {
        "colab": {
          "base_uri": "https://localhost:8080/"
        },
        "id": "Vrkvo43M-TQV",
        "outputId": "73990b98-e814-4715-aede-ebb7e3fd9515"
      },
      "source": [
        "y_test[:5]"
      ],
      "execution_count": null,
      "outputs": [
        {
          "output_type": "execute_result",
          "data": {
            "text/plain": [
              "array([7, 2, 1, 0, 4], dtype=uint8)"
            ]
          },
          "metadata": {
            "tags": []
          },
          "execution_count": 10
        }
      ]
    },
    {
      "cell_type": "code",
      "metadata": {
        "id": "amXruu5_X6Re"
      },
      "source": [
        "y_train = keras.utils.to_categorical(y_train, 10)\n",
        "y_test = keras.utils.to_categorical(y_test, 10)"
      ],
      "execution_count": null,
      "outputs": []
    },
    {
      "cell_type": "code",
      "metadata": {
        "colab": {
          "base_uri": "https://localhost:8080/"
        },
        "id": "EE6fm8qv_5U-",
        "outputId": "49e561ee-d821-4c3d-89b9-524c48303f88"
      },
      "source": [
        "y_test[:5]"
      ],
      "execution_count": null,
      "outputs": [
        {
          "output_type": "execute_result",
          "data": {
            "text/plain": [
              "array([[0., 0., 0., 0., 0., 0., 0., 1., 0., 0.],\n",
              "       [0., 0., 1., 0., 0., 0., 0., 0., 0., 0.],\n",
              "       [0., 1., 0., 0., 0., 0., 0., 0., 0., 0.],\n",
              "       [1., 0., 0., 0., 0., 0., 0., 0., 0., 0.],\n",
              "       [0., 0., 0., 0., 1., 0., 0., 0., 0., 0.]], dtype=float32)"
            ]
          },
          "metadata": {
            "tags": []
          },
          "execution_count": 13
        }
      ]
    },
    {
      "cell_type": "code",
      "metadata": {
        "id": "fZUD7OTeX9pM"
      },
      "source": [
        "model = Sequential()\n",
        "model.add(Conv2D(32, kernel_size=(3, 3),\n",
        "                 activation='relu',\n",
        "                 input_shape=input_shape))\n",
        "model.add(Conv2D(64, (3, 3), activation='relu'))\n",
        "model.add(MaxPooling2D(pool_size=(2, 2)))\n",
        "model.add(Dropout(0.25))\n",
        "model.add(Flatten())\n",
        "model.add(Dense(128, activation='relu'))\n",
        "model.add(Dropout(0.5))\n",
        "model.add(Dense(num_classes, activation='softmax'))"
      ],
      "execution_count": null,
      "outputs": []
    },
    {
      "cell_type": "code",
      "metadata": {
        "id": "g4fRw06PYBa8"
      },
      "source": [
        "model.compile(loss=keras.losses.categorical_crossentropy,\n",
        "              optimizer=keras.optimizers.Adadelta(),\n",
        "              metrics=['accuracy'])"
      ],
      "execution_count": null,
      "outputs": []
    },
    {
      "cell_type": "code",
      "metadata": {
        "colab": {
          "base_uri": "https://localhost:8080/"
        },
        "id": "gVK8jAF_YFcA",
        "outputId": "03c1fa05-37f3-4dac-c6f9-92d8941d3345"
      },
      "source": [
        "history = model.fit(x_train, y_train,\n",
        "          batch_size=batch_size,\n",
        "          epochs=100,\n",
        "          verbose=1,\n",
        "          validation_data=(x_test, y_test))"
      ],
      "execution_count": null,
      "outputs": [
        {
          "output_type": "stream",
          "text": [
            "Epoch 1/100\n",
            "469/469 [==============================] - 8s 15ms/step - loss: 0.4371 - accuracy: 0.8665 - val_loss: 0.2800 - val_accuracy: 0.9208\n",
            "Epoch 2/100\n",
            "469/469 [==============================] - 7s 14ms/step - loss: 0.4327 - accuracy: 0.8672 - val_loss: 0.2773 - val_accuracy: 0.9216\n",
            "Epoch 3/100\n",
            "469/469 [==============================] - 7s 14ms/step - loss: 0.4310 - accuracy: 0.8697 - val_loss: 0.2750 - val_accuracy: 0.9221\n",
            "Epoch 4/100\n",
            "469/469 [==============================] - 7s 14ms/step - loss: 0.4270 - accuracy: 0.8702 - val_loss: 0.2724 - val_accuracy: 0.9227\n",
            "Epoch 5/100\n",
            "469/469 [==============================] - 7s 14ms/step - loss: 0.4256 - accuracy: 0.8708 - val_loss: 0.2698 - val_accuracy: 0.9230\n",
            "Epoch 6/100\n",
            "469/469 [==============================] - 7s 14ms/step - loss: 0.4184 - accuracy: 0.8729 - val_loss: 0.2672 - val_accuracy: 0.9234\n",
            "Epoch 7/100\n",
            "469/469 [==============================] - 7s 14ms/step - loss: 0.4154 - accuracy: 0.8741 - val_loss: 0.2648 - val_accuracy: 0.9240\n",
            "Epoch 8/100\n",
            "469/469 [==============================] - 7s 14ms/step - loss: 0.4117 - accuracy: 0.8762 - val_loss: 0.2625 - val_accuracy: 0.9244\n",
            "Epoch 9/100\n",
            "469/469 [==============================] - 7s 14ms/step - loss: 0.4093 - accuracy: 0.8762 - val_loss: 0.2600 - val_accuracy: 0.9254\n",
            "Epoch 10/100\n",
            "469/469 [==============================] - 7s 14ms/step - loss: 0.4109 - accuracy: 0.8774 - val_loss: 0.2581 - val_accuracy: 0.9257\n",
            "Epoch 11/100\n",
            "469/469 [==============================] - 7s 14ms/step - loss: 0.4040 - accuracy: 0.8767 - val_loss: 0.2558 - val_accuracy: 0.9265\n",
            "Epoch 12/100\n",
            "469/469 [==============================] - 7s 14ms/step - loss: 0.4024 - accuracy: 0.8767 - val_loss: 0.2535 - val_accuracy: 0.9267\n",
            "Epoch 13/100\n",
            "469/469 [==============================] - 7s 14ms/step - loss: 0.3990 - accuracy: 0.8784 - val_loss: 0.2517 - val_accuracy: 0.9274\n",
            "Epoch 14/100\n",
            "469/469 [==============================] - 7s 14ms/step - loss: 0.3927 - accuracy: 0.8801 - val_loss: 0.2494 - val_accuracy: 0.9278\n",
            "Epoch 15/100\n",
            "469/469 [==============================] - 7s 14ms/step - loss: 0.3964 - accuracy: 0.8804 - val_loss: 0.2477 - val_accuracy: 0.9289\n",
            "Epoch 16/100\n",
            "469/469 [==============================] - 7s 14ms/step - loss: 0.3907 - accuracy: 0.8833 - val_loss: 0.2458 - val_accuracy: 0.9290\n",
            "Epoch 17/100\n",
            "469/469 [==============================] - 7s 14ms/step - loss: 0.3869 - accuracy: 0.8836 - val_loss: 0.2439 - val_accuracy: 0.9298\n",
            "Epoch 18/100\n",
            "469/469 [==============================] - 7s 14ms/step - loss: 0.3927 - accuracy: 0.8807 - val_loss: 0.2421 - val_accuracy: 0.9305\n",
            "Epoch 19/100\n",
            "469/469 [==============================] - 7s 14ms/step - loss: 0.3844 - accuracy: 0.8832 - val_loss: 0.2403 - val_accuracy: 0.9307\n",
            "Epoch 20/100\n",
            "469/469 [==============================] - 7s 14ms/step - loss: 0.3834 - accuracy: 0.8833 - val_loss: 0.2388 - val_accuracy: 0.9309\n",
            "Epoch 21/100\n",
            "469/469 [==============================] - 7s 14ms/step - loss: 0.3835 - accuracy: 0.8845 - val_loss: 0.2370 - val_accuracy: 0.9314\n",
            "Epoch 22/100\n",
            "469/469 [==============================] - 7s 14ms/step - loss: 0.3790 - accuracy: 0.8873 - val_loss: 0.2353 - val_accuracy: 0.9322\n",
            "Epoch 23/100\n",
            "469/469 [==============================] - 7s 14ms/step - loss: 0.3727 - accuracy: 0.8867 - val_loss: 0.2335 - val_accuracy: 0.9324\n",
            "Epoch 24/100\n",
            "469/469 [==============================] - 7s 14ms/step - loss: 0.3729 - accuracy: 0.8887 - val_loss: 0.2317 - val_accuracy: 0.9329\n",
            "Epoch 25/100\n",
            "469/469 [==============================] - 7s 14ms/step - loss: 0.3681 - accuracy: 0.8894 - val_loss: 0.2302 - val_accuracy: 0.9330\n",
            "Epoch 26/100\n",
            "469/469 [==============================] - 7s 14ms/step - loss: 0.3613 - accuracy: 0.8904 - val_loss: 0.2287 - val_accuracy: 0.9336\n",
            "Epoch 27/100\n",
            "469/469 [==============================] - 7s 14ms/step - loss: 0.3630 - accuracy: 0.8915 - val_loss: 0.2270 - val_accuracy: 0.9339\n",
            "Epoch 28/100\n",
            "469/469 [==============================] - 7s 14ms/step - loss: 0.3642 - accuracy: 0.8901 - val_loss: 0.2256 - val_accuracy: 0.9343\n",
            "Epoch 29/100\n",
            "469/469 [==============================] - 7s 14ms/step - loss: 0.3618 - accuracy: 0.8915 - val_loss: 0.2239 - val_accuracy: 0.9342\n",
            "Epoch 30/100\n",
            "469/469 [==============================] - 7s 14ms/step - loss: 0.3586 - accuracy: 0.8926 - val_loss: 0.2226 - val_accuracy: 0.9344\n",
            "Epoch 31/100\n",
            "469/469 [==============================] - 7s 14ms/step - loss: 0.3588 - accuracy: 0.8922 - val_loss: 0.2214 - val_accuracy: 0.9349\n",
            "Epoch 32/100\n",
            "469/469 [==============================] - 7s 14ms/step - loss: 0.3545 - accuracy: 0.8937 - val_loss: 0.2196 - val_accuracy: 0.9354\n",
            "Epoch 33/100\n",
            "469/469 [==============================] - 7s 14ms/step - loss: 0.3524 - accuracy: 0.8936 - val_loss: 0.2183 - val_accuracy: 0.9361\n",
            "Epoch 34/100\n",
            "469/469 [==============================] - 7s 14ms/step - loss: 0.3509 - accuracy: 0.8957 - val_loss: 0.2170 - val_accuracy: 0.9363\n",
            "Epoch 35/100\n",
            "469/469 [==============================] - 7s 14ms/step - loss: 0.3513 - accuracy: 0.8957 - val_loss: 0.2159 - val_accuracy: 0.9368\n",
            "Epoch 36/100\n",
            "469/469 [==============================] - 7s 14ms/step - loss: 0.3436 - accuracy: 0.8988 - val_loss: 0.2143 - val_accuracy: 0.9375\n",
            "Epoch 37/100\n",
            "469/469 [==============================] - 7s 14ms/step - loss: 0.3457 - accuracy: 0.8950 - val_loss: 0.2128 - val_accuracy: 0.9379\n",
            "Epoch 38/100\n",
            "469/469 [==============================] - 7s 14ms/step - loss: 0.3456 - accuracy: 0.8955 - val_loss: 0.2117 - val_accuracy: 0.9381\n",
            "Epoch 39/100\n",
            "469/469 [==============================] - 7s 14ms/step - loss: 0.3431 - accuracy: 0.8983 - val_loss: 0.2103 - val_accuracy: 0.9383\n",
            "Epoch 40/100\n",
            "469/469 [==============================] - 7s 14ms/step - loss: 0.3445 - accuracy: 0.8955 - val_loss: 0.2092 - val_accuracy: 0.9393\n",
            "Epoch 41/100\n",
            "469/469 [==============================] - 7s 14ms/step - loss: 0.3439 - accuracy: 0.8959 - val_loss: 0.2080 - val_accuracy: 0.9395\n",
            "Epoch 42/100\n",
            "469/469 [==============================] - 7s 14ms/step - loss: 0.3395 - accuracy: 0.8978 - val_loss: 0.2069 - val_accuracy: 0.9392\n",
            "Epoch 43/100\n",
            "469/469 [==============================] - 7s 14ms/step - loss: 0.3346 - accuracy: 0.8981 - val_loss: 0.2055 - val_accuracy: 0.9391\n",
            "Epoch 44/100\n",
            "469/469 [==============================] - 7s 14ms/step - loss: 0.3351 - accuracy: 0.8994 - val_loss: 0.2040 - val_accuracy: 0.9393\n",
            "Epoch 45/100\n",
            "469/469 [==============================] - 7s 14ms/step - loss: 0.3367 - accuracy: 0.8982 - val_loss: 0.2032 - val_accuracy: 0.9398\n",
            "Epoch 46/100\n",
            "469/469 [==============================] - 7s 14ms/step - loss: 0.3326 - accuracy: 0.8994 - val_loss: 0.2019 - val_accuracy: 0.9394\n",
            "Epoch 47/100\n",
            "469/469 [==============================] - 7s 14ms/step - loss: 0.3238 - accuracy: 0.9021 - val_loss: 0.2007 - val_accuracy: 0.9403\n",
            "Epoch 48/100\n",
            "469/469 [==============================] - 7s 14ms/step - loss: 0.3315 - accuracy: 0.9007 - val_loss: 0.1999 - val_accuracy: 0.9397\n",
            "Epoch 49/100\n",
            "469/469 [==============================] - 7s 14ms/step - loss: 0.3291 - accuracy: 0.9003 - val_loss: 0.1989 - val_accuracy: 0.9400\n",
            "Epoch 50/100\n",
            "469/469 [==============================] - 7s 14ms/step - loss: 0.3226 - accuracy: 0.9045 - val_loss: 0.1978 - val_accuracy: 0.9408\n",
            "Epoch 51/100\n",
            "469/469 [==============================] - 7s 14ms/step - loss: 0.3297 - accuracy: 0.9026 - val_loss: 0.1968 - val_accuracy: 0.9406\n",
            "Epoch 52/100\n",
            "469/469 [==============================] - 7s 14ms/step - loss: 0.3260 - accuracy: 0.9029 - val_loss: 0.1957 - val_accuracy: 0.9410\n",
            "Epoch 53/100\n",
            "469/469 [==============================] - 7s 14ms/step - loss: 0.3225 - accuracy: 0.9034 - val_loss: 0.1946 - val_accuracy: 0.9410\n",
            "Epoch 54/100\n",
            "469/469 [==============================] - 7s 14ms/step - loss: 0.3125 - accuracy: 0.9076 - val_loss: 0.1932 - val_accuracy: 0.9415\n",
            "Epoch 55/100\n",
            "469/469 [==============================] - 7s 14ms/step - loss: 0.3221 - accuracy: 0.9052 - val_loss: 0.1924 - val_accuracy: 0.9415\n",
            "Epoch 56/100\n",
            "469/469 [==============================] - 7s 14ms/step - loss: 0.3196 - accuracy: 0.9041 - val_loss: 0.1913 - val_accuracy: 0.9419\n",
            "Epoch 57/100\n",
            "469/469 [==============================] - 7s 14ms/step - loss: 0.3129 - accuracy: 0.9056 - val_loss: 0.1902 - val_accuracy: 0.9417\n",
            "Epoch 58/100\n",
            "469/469 [==============================] - 7s 14ms/step - loss: 0.3163 - accuracy: 0.9055 - val_loss: 0.1894 - val_accuracy: 0.9421\n",
            "Epoch 59/100\n",
            "469/469 [==============================] - 7s 14ms/step - loss: 0.3142 - accuracy: 0.9066 - val_loss: 0.1885 - val_accuracy: 0.9427\n",
            "Epoch 60/100\n",
            "469/469 [==============================] - 7s 14ms/step - loss: 0.3113 - accuracy: 0.9054 - val_loss: 0.1875 - val_accuracy: 0.9433\n",
            "Epoch 61/100\n",
            "469/469 [==============================] - 7s 14ms/step - loss: 0.3105 - accuracy: 0.9068 - val_loss: 0.1866 - val_accuracy: 0.9429\n",
            "Epoch 62/100\n",
            "469/469 [==============================] - 7s 14ms/step - loss: 0.3098 - accuracy: 0.9059 - val_loss: 0.1855 - val_accuracy: 0.9436\n",
            "Epoch 63/100\n",
            "469/469 [==============================] - 7s 14ms/step - loss: 0.3105 - accuracy: 0.9075 - val_loss: 0.1845 - val_accuracy: 0.9435\n",
            "Epoch 64/100\n",
            "469/469 [==============================] - 7s 14ms/step - loss: 0.3055 - accuracy: 0.9073 - val_loss: 0.1834 - val_accuracy: 0.9441\n",
            "Epoch 65/100\n",
            "469/469 [==============================] - 7s 14ms/step - loss: 0.3052 - accuracy: 0.9088 - val_loss: 0.1825 - val_accuracy: 0.9447\n",
            "Epoch 66/100\n",
            "469/469 [==============================] - 7s 14ms/step - loss: 0.3041 - accuracy: 0.9075 - val_loss: 0.1818 - val_accuracy: 0.9447\n",
            "Epoch 67/100\n",
            "469/469 [==============================] - 7s 14ms/step - loss: 0.3019 - accuracy: 0.9094 - val_loss: 0.1809 - val_accuracy: 0.9453\n",
            "Epoch 68/100\n",
            "469/469 [==============================] - 7s 14ms/step - loss: 0.3041 - accuracy: 0.9100 - val_loss: 0.1800 - val_accuracy: 0.9455\n",
            "Epoch 69/100\n",
            "469/469 [==============================] - 7s 14ms/step - loss: 0.2976 - accuracy: 0.9127 - val_loss: 0.1788 - val_accuracy: 0.9456\n",
            "Epoch 70/100\n",
            "469/469 [==============================] - 7s 14ms/step - loss: 0.2983 - accuracy: 0.9089 - val_loss: 0.1781 - val_accuracy: 0.9461\n",
            "Epoch 71/100\n",
            "469/469 [==============================] - 7s 14ms/step - loss: 0.2950 - accuracy: 0.9132 - val_loss: 0.1774 - val_accuracy: 0.9461\n",
            "Epoch 72/100\n",
            "469/469 [==============================] - 7s 14ms/step - loss: 0.3036 - accuracy: 0.9086 - val_loss: 0.1764 - val_accuracy: 0.9465\n",
            "Epoch 73/100\n",
            "469/469 [==============================] - 7s 14ms/step - loss: 0.2905 - accuracy: 0.9139 - val_loss: 0.1756 - val_accuracy: 0.9471\n",
            "Epoch 74/100\n",
            "469/469 [==============================] - 7s 14ms/step - loss: 0.2924 - accuracy: 0.9124 - val_loss: 0.1751 - val_accuracy: 0.9477\n",
            "Epoch 75/100\n",
            "469/469 [==============================] - 7s 14ms/step - loss: 0.2878 - accuracy: 0.9125 - val_loss: 0.1742 - val_accuracy: 0.9476\n",
            "Epoch 76/100\n",
            "469/469 [==============================] - 7s 14ms/step - loss: 0.2914 - accuracy: 0.9137 - val_loss: 0.1732 - val_accuracy: 0.9481\n",
            "Epoch 77/100\n",
            "469/469 [==============================] - 7s 14ms/step - loss: 0.2909 - accuracy: 0.9136 - val_loss: 0.1726 - val_accuracy: 0.9485\n",
            "Epoch 78/100\n",
            "469/469 [==============================] - 7s 14ms/step - loss: 0.2869 - accuracy: 0.9155 - val_loss: 0.1715 - val_accuracy: 0.9492\n",
            "Epoch 79/100\n",
            "469/469 [==============================] - 7s 14ms/step - loss: 0.2888 - accuracy: 0.9136 - val_loss: 0.1707 - val_accuracy: 0.9489\n",
            "Epoch 80/100\n",
            "469/469 [==============================] - 7s 14ms/step - loss: 0.2863 - accuracy: 0.9155 - val_loss: 0.1701 - val_accuracy: 0.9493\n",
            "Epoch 81/100\n",
            "469/469 [==============================] - 7s 14ms/step - loss: 0.2894 - accuracy: 0.9129 - val_loss: 0.1695 - val_accuracy: 0.9496\n",
            "Epoch 82/100\n",
            "469/469 [==============================] - 7s 14ms/step - loss: 0.2831 - accuracy: 0.9147 - val_loss: 0.1687 - val_accuracy: 0.9498\n",
            "Epoch 83/100\n",
            "469/469 [==============================] - 7s 14ms/step - loss: 0.2823 - accuracy: 0.9165 - val_loss: 0.1681 - val_accuracy: 0.9498\n",
            "Epoch 84/100\n",
            "469/469 [==============================] - 7s 14ms/step - loss: 0.2819 - accuracy: 0.9155 - val_loss: 0.1672 - val_accuracy: 0.9506\n",
            "Epoch 85/100\n",
            "469/469 [==============================] - 7s 14ms/step - loss: 0.2834 - accuracy: 0.9144 - val_loss: 0.1664 - val_accuracy: 0.9512\n",
            "Epoch 86/100\n",
            "469/469 [==============================] - 7s 14ms/step - loss: 0.2804 - accuracy: 0.9159 - val_loss: 0.1656 - val_accuracy: 0.9511\n",
            "Epoch 87/100\n",
            "469/469 [==============================] - 7s 14ms/step - loss: 0.2854 - accuracy: 0.9152 - val_loss: 0.1651 - val_accuracy: 0.9513\n",
            "Epoch 88/100\n",
            "469/469 [==============================] - 7s 14ms/step - loss: 0.2811 - accuracy: 0.9158 - val_loss: 0.1641 - val_accuracy: 0.9516\n",
            "Epoch 89/100\n",
            "469/469 [==============================] - 7s 14ms/step - loss: 0.2787 - accuracy: 0.9155 - val_loss: 0.1636 - val_accuracy: 0.9515\n",
            "Epoch 90/100\n",
            "469/469 [==============================] - 7s 14ms/step - loss: 0.2748 - accuracy: 0.9178 - val_loss: 0.1629 - val_accuracy: 0.9516\n",
            "Epoch 91/100\n",
            "469/469 [==============================] - 7s 14ms/step - loss: 0.2795 - accuracy: 0.9169 - val_loss: 0.1622 - val_accuracy: 0.9516\n",
            "Epoch 92/100\n",
            "469/469 [==============================] - 7s 14ms/step - loss: 0.2753 - accuracy: 0.9185 - val_loss: 0.1617 - val_accuracy: 0.9520\n",
            "Epoch 93/100\n",
            "469/469 [==============================] - 7s 14ms/step - loss: 0.2721 - accuracy: 0.9184 - val_loss: 0.1608 - val_accuracy: 0.9520\n",
            "Epoch 94/100\n",
            "469/469 [==============================] - 7s 14ms/step - loss: 0.2691 - accuracy: 0.9197 - val_loss: 0.1601 - val_accuracy: 0.9519\n",
            "Epoch 95/100\n",
            "469/469 [==============================] - 7s 14ms/step - loss: 0.2697 - accuracy: 0.9196 - val_loss: 0.1594 - val_accuracy: 0.9522\n",
            "Epoch 96/100\n",
            "469/469 [==============================] - 7s 15ms/step - loss: 0.2695 - accuracy: 0.9189 - val_loss: 0.1588 - val_accuracy: 0.9526\n",
            "Epoch 97/100\n",
            "469/469 [==============================] - 7s 14ms/step - loss: 0.2637 - accuracy: 0.9219 - val_loss: 0.1581 - val_accuracy: 0.9530\n",
            "Epoch 98/100\n",
            "469/469 [==============================] - 7s 14ms/step - loss: 0.2736 - accuracy: 0.9169 - val_loss: 0.1574 - val_accuracy: 0.9535\n",
            "Epoch 99/100\n",
            "469/469 [==============================] - 7s 14ms/step - loss: 0.2669 - accuracy: 0.9208 - val_loss: 0.1564 - val_accuracy: 0.9538\n",
            "Epoch 100/100\n",
            "469/469 [==============================] - 7s 14ms/step - loss: 0.2708 - accuracy: 0.9188 - val_loss: 0.1559 - val_accuracy: 0.9539\n"
          ],
          "name": "stdout"
        }
      ]
    },
    {
      "cell_type": "code",
      "metadata": {
        "colab": {
          "base_uri": "https://localhost:8080/",
          "height": 265
        },
        "id": "WoATLE5eGOgR",
        "outputId": "c25795a7-308c-4346-9884-48c6bd35ecba"
      },
      "source": [
        "import pandas as pd\n",
        "history_df = pd.DataFrame(history.history)\n",
        "history_df[['loss', 'val_loss']].plot();"
      ],
      "execution_count": null,
      "outputs": [
        {
          "output_type": "display_data",
          "data": {
            "image/png": "[encoded data removed]",
            "text/plain": [
              "<Figure size 432x288 with 1 Axes>"
            ]
          },
          "metadata": {
            "tags": [],
            "needs_background": "light"
          }
        }
      ]
    },
    {
      "cell_type": "code",
      "metadata": {
        "id": "bIuqCZDEYKAk",
        "colab": {
          "base_uri": "https://localhost:8080/"
        },
        "outputId": "a3f29d6d-fff4-4a4c-a5b1-c99e0f13c7d9"
      },
      "source": [
        "score = model.evaluate(x_test, y_test, verbose=0) \n",
        "print('Test loss:', score[0]) \n",
        "print('Test accuracy:', score[1])"
      ],
      "execution_count": null,
      "outputs": [
        {
          "output_type": "stream",
          "text": [
            "Test loss: 0.15591011941432953\n",
            "Test accuracy: 0.9538999795913696\n"
          ],
          "name": "stdout"
        }
      ]
    }
  ]
}