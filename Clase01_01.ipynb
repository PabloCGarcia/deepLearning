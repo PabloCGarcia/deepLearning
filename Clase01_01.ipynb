{
  "nbformat": 4,
  "nbformat_minor": 0,
  "metadata": {
    "colab": {
      "name": "Clase01-01.ipynb",
      "provenance": [],
      "collapsed_sections": [],
      "include_colab_link": true
    },
    "kernelspec": {
      "name": "python3",
      "display_name": "Python 3"
    }
  },
  "cells": [
    {
      "cell_type": "markdown",
      "metadata": {
        "id": "view-in-github",
        "colab_type": "text"
      },
      "source": [
        "<a href=\"https://colab.research.google.com/github/PabloCGarcia/deepLearning/blob/main/Clase01_01.ipynb\" target=\"_parent\"><img src=\"https://colab.research.google.com/assets/colab-badge.svg\" alt=\"Open In Colab\"/></a>"
      ]
    },
    {
      "cell_type": "markdown",
      "metadata": {
        "id": "8L9uLRsu6BgV"
      },
      "source": [
        "## Introducción a google colab research"
      ]
    },
    {
      "cell_type": "code",
      "metadata": {
        "id": "vH7fOVJu3nRk"
      },
      "source": [
        "#escribiendo código python\n",
        "#ejemplo tomado de la galería de matplotlib\n",
        "#https://matplotlib.org/3.2.0/gallery/statistics/boxplot_vs_violin.html#sphx-glr-gallery-statistics-boxplot-vs-violin-py\n",
        "\n",
        "import numpy as np\n",
        "from matplotlib import pyplot as plt\n",
        "\n",
        "fig, axs = plt.subplots(nrows=1, ncols=2, figsize=(9, 4))\n",
        "\n",
        "# Fixing random state for reproducibility\n",
        "np.random.seed(19680801)\n",
        "\n",
        "# generate some random test data\n",
        "all_data = [np.random.normal(0, std, 100) for std in range(6, 10)]\n",
        "\n",
        "# plot violin plot\n",
        "axs[0].violinplot(all_data,showmeans=False, showmedians=True)\n",
        "axs[0].set_title('Violin plot')\n",
        "\n",
        "# plot box plot\n",
        "axs[1].boxplot(all_data)\n",
        "axs[1].set_title('Box plot')\n",
        "\n",
        "# adding horizontal grid lines\n",
        "for ax in axs:\n",
        "    ax.yaxis.grid(True)\n",
        "    ax.set_xticks([y + 1 for y in range(len(all_data))])\n",
        "    ax.set_xlabel('Four separate samples')\n",
        "    ax.set_ylabel('Observed values')\n",
        "\n",
        "# add x-tick labels\n",
        "plt.setp(axs, xticks=[y + 1 for y in range(len(all_data))],\n",
        "         xticklabels=['x1', 'x2', 'x3', 'x4'])\n",
        "plt.show()"
      ],
      "execution_count": null,
      "outputs": []
    },
    {
      "cell_type": "code",
      "metadata": {
        "id": "KYe5lWWz8vbz"
      },
      "source": [
        "#ejecutar comandos de script shell / bash\n",
        "!ls /bin"
      ],
      "execution_count": null,
      "outputs": []
    },
    {
      "cell_type": "markdown",
      "metadata": {
        "id": "7gorNGvp8yAP"
      },
      "source": [
        "**Podemos escribir ecuaciones**\n",
        "\n",
        ">$y=x^2$\n",
        "\n",
        ">$e^{i\\pi} + 1 = 0$\n",
        "\n",
        ">$e^x=\\sum_{i=0}^\\infty \\frac{1}{i!}x^i$\n",
        "\n",
        ">$\\frac{n!}{k!(n-k)!} = {n \\choose k}$\n",
        "\n",
        ">$A_{m,n} =\n",
        " \\begin{pmatrix}\n",
        "  a_{1,1} & a_{1,2} & \\cdots & a_{1,n} \\\\\n",
        "  a_{2,1} & a_{2,2} & \\cdots & a_{2,n} \\\\\n",
        "  \\vdots  & \\vdots  & \\ddots & \\vdots  \\\\\n",
        "  a_{m,1} & a_{m,2} & \\cdots & a_{m,n}\n",
        " \\end{pmatrix}$\n"
      ]
    },
    {
      "cell_type": "markdown",
      "metadata": {
        "id": "Q5LDo95Ml3q4"
      },
      "source": [
        ">$y=2+x^2/(x+1)$\n"
      ]
    },
    {
      "cell_type": "code",
      "metadata": {
        "id": "jGtpqbIM9UJm"
      },
      "source": [
        "#o podemos usar magics\n",
        "%%html\n",
        "<svg xmlns=\"http://www.w3.org/2000/svg\" viewBox=\"0 0 450 400\" width=\"200\" height=\"200\">\n",
        "  <rect x=\"80\" y=\"60\" width=\"250\" height=\"250\" rx=\"20\" style=\"fill:red; stroke:black; fill-opacity:0.7\" />\n",
        "  <rect x=\"180\" y=\"110\" width=\"250\" height=\"250\" rx=\"40\" style=\"fill:blue; stroke:black; fill-opacity:0.5;\" />\n",
        "</svg>"
      ],
      "execution_count": null,
      "outputs": []
    },
    {
      "cell_type": "code",
      "metadata": {
        "id": "7mY6pbvE9aYT"
      },
      "source": [
        "%lsmagic"
      ],
      "execution_count": null,
      "outputs": []
    },
    {
      "cell_type": "code",
      "metadata": {
        "colab": {
          "base_uri": "https://localhost:8080/"
        },
        "id": "IFroaVHeEowA",
        "outputId": "b3e56c41-462f-4f75-fee4-f52bf21b9588"
      },
      "source": [
        "#Conectando Google Drive\n",
        "from google.colab import drive\n",
        "drive.mount('/content/drive')"
      ],
      "execution_count": null,
      "outputs": [
        {
          "output_type": "stream",
          "text": [
            "Mounted at /content/drive\n"
          ],
          "name": "stdout"
        }
      ]
    },
    {
      "cell_type": "code",
      "metadata": {
        "id": "b8d2_GhCFEO8"
      },
      "source": [
        "!cat /content/drive/MyDrive/test.csv"
      ],
      "execution_count": null,
      "outputs": []
    },
    {
      "cell_type": "code",
      "metadata": {
        "id": "tibNdovwHOKY"
      },
      "source": [
        "#Crear un archivo en colab y descargarlo\n",
        "from google.colab import files\n",
        "\n",
        "with open('example3.txt', 'w') as f:\n",
        "  f.write('lo rellenocon algo')\n",
        "\n",
        "files.download('example3.txt')"
      ],
      "execution_count": null,
      "outputs": []
    },
    {
      "cell_type": "code",
      "metadata": {
        "id": "nT6b-EoYAr-s"
      },
      "source": [
        "#Instalando modulos y bibliotecas\n",
        "\n",
        "!pip show tensorflow\n",
        "print(\"-\"*80)\n",
        "!apt-get check"
      ],
      "execution_count": null,
      "outputs": []
    },
    {
      "cell_type": "code",
      "source": [
        "!pip install -q condacolab\n",
        "import condacolab\n",
        "condacolab.install()"
      ],
      "metadata": {
        "id": "2u_KWcCiQlkJ"
      },
      "execution_count": null,
      "outputs": []
    },
    {
      "cell_type": "code",
      "source": [
        "import condacolab\n",
        "condacolab.check()"
      ],
      "metadata": {
        "id": "7gmmjUmsQo24"
      },
      "execution_count": null,
      "outputs": []
    },
    {
      "cell_type": "code",
      "source": [
        "!conda install -q -y -c conda-forge rdkit"
      ],
      "metadata": {
        "id": "VlUWhXytQr5w"
      },
      "execution_count": null,
      "outputs": []
    }
  ]
}